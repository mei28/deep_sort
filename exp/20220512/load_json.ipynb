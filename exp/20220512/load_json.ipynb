{
 "cells": [
  {
   "cell_type": "code",
   "execution_count": 38,
   "id": "ebb82303-43cd-4414-a9a4-55b29a19774c",
   "metadata": {},
   "outputs": [],
   "source": [
    "import os\n",
    "import sys\n",
    "\n",
    "sys.path.append('/home/mei/Docments/deepsort/exp/20220512')\n",
    "\n",
    "from utils.load_data import *\n",
    "\n",
    "import json\n",
    "from pathlib import Path\n",
    "import pandas as pd"
   ]
  },
  {
   "cell_type": "code",
   "execution_count": 131,
   "id": "a3df93b8-9b5b-4508-917a-74b991d864ad",
   "metadata": {},
   "outputs": [],
   "source": [
    "json_path = '/home/mei/Documents/deep_sort/exp/20220512/data/wtnb_0528.json'\n",
    "annotate_name = 'wtnb'\n",
    "date='0528'"
   ]
  },
  {
   "cell_type": "code",
   "execution_count": 132,
   "id": "270a9e3d-fcf5-460b-b499-e1aa1a696b76",
   "metadata": {},
   "outputs": [],
   "source": [
    "with open(str(json_path),'r') as f:\n",
    "    tmp = json.load(f)"
   ]
  },
  {
   "cell_type": "code",
   "execution_count": 134,
   "id": "4097db59-1a50-4607-a7e9-348dc3430ae8",
   "metadata": {},
   "outputs": [],
   "source": [
    "df = pd.read_json(str(json_path))\n",
    "n = len(df)"
   ]
  },
  {
   "cell_type": "code",
   "execution_count": 135,
   "id": "4df95a48-b716-4a3f-a9cb-5d8c19f2d192",
   "metadata": {},
   "outputs": [],
   "source": [
    "for i in range(n): \n",
    "    df = pd.read_json(str(json_path))\n",
    "    video_name=df.iloc[i]['data']['video_url'].split('/')[-1].split('.')[0]\n",
    "    df = pd.DataFrame(df.iloc[i,:]['annotations'])\n",
    "    df = pd.DataFrame(df['result'][0])\n",
    "    df = pd.DataFrame(df['value'])\n",
    "    df = pd.DataFrame(df['value'].apply(lambda x: pd.Series(x)))\n",
    "    df['labels'] = df['labels'].apply(lambda x: x[0])\n",
    "    df.to_csv(f'/home/mei/Documents/deep_sort/exp/20220512/data/{video_name}_{annotate_name}_{date}.csv',index=False)\n"
   ]
  },
  {
   "cell_type": "code",
   "execution_count": 138,
   "id": "832a0d89-cfe2-4cc4-bcf3-350a8aa0d121",
   "metadata": {},
   "outputs": [],
   "source": [
    "df_path = '/home/mei/Documents/deep_sort/exp/20220512/data/ssk_0528.csv'"
   ]
  },
  {
   "cell_type": "code",
   "execution_count": 157,
   "id": "6fdd7a32-8809-471a-80cc-bcef771f3f1f",
   "metadata": {},
   "outputs": [],
   "source": [
    "df = pd.read_csv(df_path)"
   ]
  },
  {
   "cell_type": "code",
   "execution_count": 168,
   "id": "207b9069-6509-4bfc-a926-08c47e71f558",
   "metadata": {},
   "outputs": [
    {
     "data": {
      "text/html": [
       "<div>\n",
       "<style scoped>\n",
       "    .dataframe tbody tr th:only-of-type {\n",
       "        vertical-align: middle;\n",
       "    }\n",
       "\n",
       "    .dataframe tbody tr th {\n",
       "        vertical-align: top;\n",
       "    }\n",
       "\n",
       "    .dataframe thead th {\n",
       "        text-align: right;\n",
       "    }\n",
       "</style>\n",
       "<table border=\"1\" class=\"dataframe\">\n",
       "  <thead>\n",
       "    <tr style=\"text-align: right;\">\n",
       "      <th></th>\n",
       "      <th>start</th>\n",
       "      <th>end</th>\n",
       "      <th>labels</th>\n",
       "    </tr>\n",
       "  </thead>\n",
       "  <tbody>\n",
       "    <tr>\n",
       "      <th>0</th>\n",
       "      <td>57.497860</td>\n",
       "      <td>57.647860</td>\n",
       "      <td>OA</td>\n",
       "    </tr>\n",
       "    <tr>\n",
       "      <th>1</th>\n",
       "      <td>58.297860</td>\n",
       "      <td>58.439526</td>\n",
       "      <td>XB</td>\n",
       "    </tr>\n",
       "    <tr>\n",
       "      <th>2</th>\n",
       "      <td>58.631193</td>\n",
       "      <td>58.739526</td>\n",
       "      <td>XA</td>\n",
       "    </tr>\n",
       "    <tr>\n",
       "      <th>3</th>\n",
       "      <td>70.772847</td>\n",
       "      <td>70.914514</td>\n",
       "      <td>OA</td>\n",
       "    </tr>\n",
       "    <tr>\n",
       "      <th>4</th>\n",
       "      <td>72.556179</td>\n",
       "      <td>72.639512</td>\n",
       "      <td>XB</td>\n",
       "    </tr>\n",
       "    <tr>\n",
       "      <th>...</th>\n",
       "      <td>...</td>\n",
       "      <td>...</td>\n",
       "      <td>...</td>\n",
       "    </tr>\n",
       "    <tr>\n",
       "      <th>388</th>\n",
       "      <td>2425.726531</td>\n",
       "      <td>2425.862245</td>\n",
       "      <td>OB</td>\n",
       "    </tr>\n",
       "    <tr>\n",
       "      <th>389</th>\n",
       "      <td>2426.119388</td>\n",
       "      <td>2426.240817</td>\n",
       "      <td>XA</td>\n",
       "    </tr>\n",
       "    <tr>\n",
       "      <th>390</th>\n",
       "      <td>2453.190814</td>\n",
       "      <td>2453.312242</td>\n",
       "      <td>OB</td>\n",
       "    </tr>\n",
       "    <tr>\n",
       "      <th>391</th>\n",
       "      <td>2453.783671</td>\n",
       "      <td>2453.912242</td>\n",
       "      <td>XA</td>\n",
       "    </tr>\n",
       "    <tr>\n",
       "      <th>392</th>\n",
       "      <td>2454.069385</td>\n",
       "      <td>2454.176528</td>\n",
       "      <td>OB</td>\n",
       "    </tr>\n",
       "  </tbody>\n",
       "</table>\n",
       "<p>393 rows × 3 columns</p>\n",
       "</div>"
      ],
      "text/plain": [
       "           start          end labels\n",
       "0      57.497860    57.647860     OA\n",
       "1      58.297860    58.439526     XB\n",
       "2      58.631193    58.739526     XA\n",
       "3      70.772847    70.914514     OA\n",
       "4      72.556179    72.639512     XB\n",
       "..           ...          ...    ...\n",
       "388  2425.726531  2425.862245     OB\n",
       "389  2426.119388  2426.240817     XA\n",
       "390  2453.190814  2453.312242     OB\n",
       "391  2453.783671  2453.912242     XA\n",
       "392  2454.069385  2454.176528     OB\n",
       "\n",
       "[393 rows x 3 columns]"
      ]
     },
     "execution_count": 168,
     "metadata": {},
     "output_type": "execute_result"
    }
   ],
   "source": [
    "_df"
   ]
  },
  {
   "cell_type": "code",
   "execution_count": 169,
   "id": "d92bc7eb-3c63-4c7b-8783-cfb90cacc350",
   "metadata": {},
   "outputs": [],
   "source": [
    "annotate_name='ssk'\n",
    "date='0528'\n",
    "for i in range(len(df)):\n",
    "    _df = df.iloc[i,:]\n",
    "    video_name=_df['video_url'].split('/')[-1].split('.')[0]\n",
    "    _df = _df['tricks']\n",
    "    _df = pd.DataFrame(json.loads(_df))\n",
    "    _df['labels'] = _df['labels'].apply(lambda x: x[0])\n",
    "    _df.to_csv(f'/home/mei/Documents/deep_sort/exp/20220512/data/{video_name}_{annotate_name}_{date}.csv',index=False)\n"
   ]
  },
  {
   "cell_type": "code",
   "execution_count": null,
   "id": "7e305100-d63a-4cb8-bed1-4d04e078739f",
   "metadata": {},
   "outputs": [],
   "source": []
  }
 ],
 "metadata": {
  "kernelspec": {
   "display_name": "Python 3",
   "language": "python",
   "name": "python3"
  },
  "language_info": {
   "codemirror_mode": {
    "name": "ipython",
    "version": 3
   },
   "file_extension": ".py",
   "mimetype": "text/x-python",
   "name": "python",
   "nbconvert_exporter": "python",
   "pygments_lexer": "ipython3",
   "version": "3.6.8"
  }
 },
 "nbformat": 4,
 "nbformat_minor": 5
}
