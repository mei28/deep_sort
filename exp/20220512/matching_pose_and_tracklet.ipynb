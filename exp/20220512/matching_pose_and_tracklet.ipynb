{
 "cells": [
  {
   "cell_type": "code",
   "execution_count": 26,
   "id": "f15fe27c-3c51-4fe1-82c8-8f8c2c0478c2",
   "metadata": {},
   "outputs": [],
   "source": [
    "import os\n",
    "import sys\n",
    "\n",
    "from  IPython.core.debugger import Pdb \n",
    "\n",
    "\n",
    "sys.path.append(\"./exp/20220428/utils\")\n",
    "\n",
    "import argparse\n",
    "\n",
    "from utils.load_data import (\n",
    "    load_data,\n",
    "    list2df,\n",
    "    load_annotated_trackret_file,\n",
    "    get_player_id_list,\n",
    "    get_player_id_dict,\n",
    "    load_bbox_data,\n",
    "    load_pose_data,\n",
    ")\n",
    "from utils.visualize import (\n",
    "    load_img,\n",
    "    draw_labels,\n",
    "    save_frame_img,\n",
    "    show_image,\n",
    "    get_masked_bboxes,\n",
    "    get_masked_poses,\n",
    "    tlwh2tldr,\n",
    "    draw_id,\n",
    "    draw_bbox,\n",
    "    colors,\n",
    "    draw_pose,\n",
    ")\n",
    "from utils.frame import sec2frame\n",
    "import tqdm\n",
    "from pdb import set_trace as pst\n",
    "from ipdb import set_trace as ist\n",
    "import pandas as pd\n",
    "from pathlib import Path\n",
    "from typing import Union, Tuple\n",
    "import multiprocessing\n",
    "import matplotlib.pyplot as plt\n",
    "import cv2\n",
    "import numpy as np"
   ]
  },
  {
   "cell_type": "code",
   "execution_count": 2,
   "id": "c5aa8684-2b64-47c6-b49a-16b2101e2b0b",
   "metadata": {},
   "outputs": [],
   "source": [
    "def show_img_jupyter(im0):\n",
    "    plt.imshow(cv2.cvtColor(im0, cv2.COLOR_BGR2RGB)) # OpenCV は色がGBR順なのでRGB順に並べ替える\n",
    "    plt.show()"
   ]
  },
  {
   "cell_type": "code",
   "execution_count": 3,
   "id": "e00978b8-99dc-4f5d-ab88-2d5ff3d4a44d",
   "metadata": {},
   "outputs": [],
   "source": [
    "video_name=\"p008\"\n",
    "dst_path=f\"/home/mei/Documents/deep_sort/exp/20220512/output/{video_name}/img\"\n",
    "img_path=f\"/home/mei/Documents/deep_sort/exp/20220512/data/{video_name}/img1\"\n",
    "tracklet_path=f\"/home/mei/Documents/deep_sort/exp/20220512/data/{video_name}_annotated_tracklet.csv\"\n",
    "bbox_path=f\"/home/mei/Documents/deep_sort/exp/20220512/data/{video_name}/{video_name}_deepsort_output.txt\"\n",
    "\n",
    "pose_path=f\"/home/mei/Documents/deep_sort/exp/20220512/data/detection_poses_{video_name}.pkl\"\n",
    "max_frame=10000\n",
    "\n",
    "\n",
    "MAX_FRAME: int = max_frame\n",
    "img_path: Path = Path(img_path)\n",
    "dst_path: Path = Path(dst_path)\n",
    "bbox_path: Path = Path(bbox_path)\n",
    "tracklet_path: Path = Path(tracklet_path)\n",
    "pose_path: Path = Path(pose_path)"
   ]
  },
  {
   "cell_type": "code",
   "execution_count": 4,
   "id": "eaef1f83-0e47-48ca-a6e6-5bb7e6cdcd64",
   "metadata": {},
   "outputs": [],
   "source": [
    "# tracklet data\n",
    "tracklet_df = load_annotated_trackret_file(tracklet_path)\n",
    "player1_tracklet, player2_tracklet = get_player_id_list(tracklet_df)\n",
    "\n",
    "# pose data\n",
    "pose_data = load_pose_data(pose_path)\n",
    "\n",
    "bbox_list: list = load_bbox_data(str(bbox_path))"
   ]
  },
  {
   "cell_type": "code",
   "execution_count": 5,
   "id": "cc3bc125-a139-478c-b665-b4e009e6eb26",
   "metadata": {},
   "outputs": [
    {
     "data": {
      "text/html": [
       "<div>\n",
       "<style scoped>\n",
       "    .dataframe tbody tr th:only-of-type {\n",
       "        vertical-align: middle;\n",
       "    }\n",
       "\n",
       "    .dataframe tbody tr th {\n",
       "        vertical-align: top;\n",
       "    }\n",
       "\n",
       "    .dataframe thead th {\n",
       "        text-align: right;\n",
       "    }\n",
       "</style>\n",
       "<table border=\"1\" class=\"dataframe\">\n",
       "  <thead>\n",
       "    <tr style=\"text-align: right;\">\n",
       "      <th></th>\n",
       "      <th>frame</th>\n",
       "      <th>player1</th>\n",
       "      <th>player2</th>\n",
       "    </tr>\n",
       "  </thead>\n",
       "  <tbody>\n",
       "    <tr>\n",
       "      <th>0</th>\n",
       "      <td>3</td>\n",
       "      <td>3</td>\n",
       "      <td>2</td>\n",
       "    </tr>\n",
       "    <tr>\n",
       "      <th>1</th>\n",
       "      <td>15</td>\n",
       "      <td>3</td>\n",
       "      <td>2</td>\n",
       "    </tr>\n",
       "    <tr>\n",
       "      <th>2</th>\n",
       "      <td>114</td>\n",
       "      <td>6</td>\n",
       "      <td>2</td>\n",
       "    </tr>\n",
       "    <tr>\n",
       "      <th>3</th>\n",
       "      <td>190</td>\n",
       "      <td>6</td>\n",
       "      <td>2</td>\n",
       "    </tr>\n",
       "    <tr>\n",
       "      <th>4</th>\n",
       "      <td>232</td>\n",
       "      <td>10</td>\n",
       "      <td>2</td>\n",
       "    </tr>\n",
       "  </tbody>\n",
       "</table>\n",
       "</div>"
      ],
      "text/plain": [
       "   frame  player1  player2\n",
       "0      3        3        2\n",
       "1     15        3        2\n",
       "2    114        6        2\n",
       "3    190        6        2\n",
       "4    232       10        2"
      ]
     },
     "execution_count": 5,
     "metadata": {},
     "output_type": "execute_result"
    }
   ],
   "source": [
    "tracklet_df.head()"
   ]
  },
  {
   "cell_type": "code",
   "execution_count": 6,
   "id": "a9367f2a-6e5c-4d18-8a81-9a0c4ea14b4d",
   "metadata": {},
   "outputs": [
    {
     "data": {
      "text/plain": [
       "[[3, 1, 1674.26, 386.02, 243.47, 445.98, 1, -1, -1, -1]]"
      ]
     },
     "execution_count": 6,
     "metadata": {},
     "output_type": "execute_result"
    }
   ],
   "source": [
    "bbox_list[:1]"
   ]
  },
  {
   "cell_type": "code",
   "execution_count": 7,
   "id": "fcf99316-3672-40dd-9692-42aac0701fe5",
   "metadata": {},
   "outputs": [
    {
     "data": {
      "text/plain": [
       "[[1,\n",
       "  0,\n",
       "  array([[1.85680774e+03, 4.58693726e+02, 7.82352149e-01],\n",
       "         [1.86800659e+03, 4.47096222e+02, 0.00000000e+00],\n",
       "         [1.86035339e+03, 4.48209869e+02, 0.00000000e+00],\n",
       "         [1.88326233e+03, 4.39125458e+02, 7.15171933e-01],\n",
       "         [1.87934204e+03, 4.43409607e+02, 0.00000000e+00],\n",
       "         [1.92140149e+03, 4.91135284e+02, 0.00000000e+00],\n",
       "         [1.89605811e+03, 4.86776459e+02, 0.00000000e+00],\n",
       "         [1.90395435e+03, 5.85826660e+02, 0.00000000e+00],\n",
       "         [1.86885608e+03, 5.79733643e+02, 0.00000000e+00],\n",
       "         [1.87056934e+03, 5.12566223e+02, 5.87612212e-01],\n",
       "         [1.83420227e+03, 6.05726196e+02, 5.86196184e-01],\n",
       "         [1.89888025e+03, 6.49293091e+02, 0.00000000e+00],\n",
       "         [1.87957764e+03, 6.34314575e+02, 0.00000000e+00],\n",
       "         [1.74900854e+03, 6.52701355e+02, 0.00000000e+00],\n",
       "         [1.74703516e+03, 6.45243286e+02, 5.72371662e-01],\n",
       "         [1.75957446e+03, 7.90399170e+02, 0.00000000e+00],\n",
       "         [1.76161206e+03, 7.72725403e+02, 0.00000000e+00]])]]"
      ]
     },
     "execution_count": 7,
     "metadata": {},
     "output_type": "execute_result"
    }
   ],
   "source": [
    "pose_data[:1]"
   ]
  },
  {
   "cell_type": "code",
   "execution_count": 8,
   "id": "2c61a8a6-620f-4032-a02f-e00f4ad8dc64",
   "metadata": {},
   "outputs": [],
   "source": [
    "target_frame_id = 3\n",
    "im0 = load_img(img_path,target_frame_id)\n",
    "target_bboxes: list = get_masked_bboxes(bbox_list, target_frame_id)\n",
    "target_poses: list = get_masked_poses(pose_data, target_frame_id)"
   ]
  },
  {
   "cell_type": "code",
   "execution_count": 9,
   "id": "9b1553b1-4695-487e-b840-05d61fa14cd4",
   "metadata": {},
   "outputs": [
    {
     "data": {
      "text/plain": [
       "[[3, 1, 1674.26, 386.02, 243.47, 445.98, 1, -1, -1, -1],\n",
       " [3, 2, 1262.48, 259.78, 240.23, 448.46, 1, -1, -1, -1],\n",
       " [3, 3, 15.75, 249.19, 205.6, 740.83, 1, -1, -1, -1],\n",
       " [3, 4, 1585.67, 242.0, 82.24, 178.46, 1, -1, -1, -1]]"
      ]
     },
     "metadata": {},
     "output_type": "display_data"
    },
    {
     "data": {
      "text/plain": [
       "[[3,\n",
       "  0,\n",
       "  array([[1.35130103e+03, 3.04378815e+02, 5.55532336e-01],\n",
       "         [1.36033154e+03, 2.97190338e+02, 7.08667874e-01],\n",
       "         [1.34987622e+03, 2.97692200e+02, 5.24191260e-01],\n",
       "         [1.38551562e+03, 3.02605591e+02, 9.04767036e-01],\n",
       "         [1.34110156e+03, 3.05970398e+02, 0.00000000e+00],\n",
       "         [1.41575537e+03, 3.51282623e+02, 7.67476022e-01],\n",
       "         [1.33234888e+03, 3.60924713e+02, 8.55389237e-01],\n",
       "         [1.44599878e+03, 4.04571625e+02, 8.64046216e-01],\n",
       "         [1.31584802e+03, 4.12362122e+02, 8.29691470e-01],\n",
       "         [1.47220898e+03, 4.61305328e+02, 9.02355790e-01],\n",
       "         [1.28655859e+03, 4.34210785e+02, 8.23358238e-01],\n",
       "         [1.40576270e+03, 4.81938232e+02, 0.00000000e+00],\n",
       "         [1.35049438e+03, 4.80507202e+02, 5.94360292e-01],\n",
       "         [1.43809387e+03, 5.74655029e+02, 8.25778067e-01],\n",
       "         [1.31692822e+03, 5.68984497e+02, 8.65403473e-01],\n",
       "         [1.47158008e+03, 6.70040283e+02, 8.37401152e-01],\n",
       "         [1.31933374e+03, 6.56868530e+02, 6.88921809e-01]])],\n",
       " [3,\n",
       "  1,\n",
       "  array([[1.85669141e+03, 4.58650269e+02, 7.81786263e-01],\n",
       "         [1.86847241e+03, 4.47322540e+02, 0.00000000e+00],\n",
       "         [1.86072827e+03, 4.48347229e+02, 0.00000000e+00],\n",
       "         [1.88332727e+03, 4.39133331e+02, 7.23426342e-01],\n",
       "         [1.87949365e+03, 4.43696960e+02, 0.00000000e+00],\n",
       "         [1.92182129e+03, 4.91943146e+02, 0.00000000e+00],\n",
       "         [1.89602600e+03, 4.87234863e+02, 0.00000000e+00],\n",
       "         [1.90497241e+03, 5.87078003e+02, 0.00000000e+00],\n",
       "         [1.86879382e+03, 5.79809937e+02, 0.00000000e+00],\n",
       "         [1.87046521e+03, 5.17207703e+02, 5.23750961e-01],\n",
       "         [1.83414880e+03, 6.05705444e+02, 5.89080095e-01],\n",
       "         [1.89910986e+03, 6.49610657e+02, 0.00000000e+00],\n",
       "         [1.87956226e+03, 6.34499329e+02, 0.00000000e+00],\n",
       "         [1.74916370e+03, 6.52829773e+02, 0.00000000e+00],\n",
       "         [1.74702478e+03, 6.45226440e+02, 5.74449360e-01],\n",
       "         [1.75983398e+03, 7.90375244e+02, 0.00000000e+00],\n",
       "         [1.76165723e+03, 7.72849548e+02, 0.00000000e+00]])],\n",
       " [3,\n",
       "  2,\n",
       "  array([[1.30697067e+02, 3.38312012e+02, 0.00000000e+00],\n",
       "         [1.23780510e+02, 3.22918762e+02, 0.00000000e+00],\n",
       "         [1.30138794e+02, 3.30051086e+02, 5.49128115e-01],\n",
       "         [6.02243958e+01, 3.17363037e+02, 0.00000000e+00],\n",
       "         [1.06319618e+02, 3.19363678e+02, 8.00941527e-01],\n",
       "         [3.07739983e+01, 3.83854187e+02, 6.48842454e-01],\n",
       "         [1.01882477e+02, 3.98363922e+02, 6.75485790e-01],\n",
       "         [3.80121460e+01, 4.98753906e+02, 0.00000000e+00],\n",
       "         [1.25076843e+02, 5.12029175e+02, 6.80432975e-01],\n",
       "         [1.37963516e+02, 5.20814819e+02, 0.00000000e+00],\n",
       "         [1.98694244e+02, 5.17871338e+02, 6.37613654e-01],\n",
       "         [1.23502808e+01, 6.09253540e+02, 0.00000000e+00],\n",
       "         [6.54345779e+01, 6.18848877e+02, 0.00000000e+00],\n",
       "         [1.25401978e+02, 7.54982788e+02, 0.00000000e+00],\n",
       "         [1.06176498e+02, 8.18803528e+02, 5.44042230e-01],\n",
       "         [1.22724884e+02, 9.30785889e+02, 6.63747013e-01],\n",
       "         [2.25037766e+01, 9.21830750e+02, 0.00000000e+00]])],\n",
       " [3,\n",
       "  3,\n",
       "  array([[1.60242993e+03, 2.68614410e+02, 0.00000000e+00],\n",
       "         [1.60562524e+03, 2.63015320e+02, 0.00000000e+00],\n",
       "         [1.60289172e+03, 2.63772400e+02, 0.00000000e+00],\n",
       "         [1.61805396e+03, 2.64320251e+02, 0.00000000e+00],\n",
       "         [1.61696082e+03, 2.64970947e+02, 0.00000000e+00],\n",
       "         [1.62966028e+03, 2.92169525e+02, 5.92495263e-01],\n",
       "         [1.63145435e+03, 2.92434418e+02, 0.00000000e+00],\n",
       "         [1.63120752e+03, 3.35423828e+02, 0.00000000e+00],\n",
       "         [1.63126245e+03, 3.33659729e+02, 0.00000000e+00],\n",
       "         [1.61610791e+03, 3.56879272e+02, 0.00000000e+00],\n",
       "         [1.60840173e+03, 3.55414124e+02, 0.00000000e+00],\n",
       "         [1.63348364e+03, 3.65412903e+02, 0.00000000e+00],\n",
       "         [1.63828027e+03, 3.63768005e+02, 0.00000000e+00],\n",
       "         [1.62042151e+03, 4.16943604e+02, 0.00000000e+00],\n",
       "         [1.63253284e+03, 4.15426453e+02, 0.00000000e+00],\n",
       "         [1.62021704e+03, 4.52579285e+02, 0.00000000e+00],\n",
       "         [1.63785571e+03, 4.48864929e+02, 0.00000000e+00]])],\n",
       " [3,\n",
       "  4,\n",
       "  array([[1207.49475098,  317.12591553,    0.        ],\n",
       "         [1207.24121094,  314.83374023,    0.        ],\n",
       "         [1204.23852539,  314.62490845,    0.        ],\n",
       "         [1202.8026123 ,  316.75064087,    0.        ],\n",
       "         [1197.78564453,  316.19393921,    0.        ],\n",
       "         [1200.3737793 ,  331.76727295,    0.        ],\n",
       "         [1197.51879883,  331.06268311,    0.        ],\n",
       "         [1215.17895508,  342.20648193,    0.        ],\n",
       "         [1213.48779297,  344.97213745,    0.        ],\n",
       "         [1228.51037598,  335.79125977,    0.        ],\n",
       "         [1231.95751953,  336.27258301,    0.        ],\n",
       "         [1207.4029541 ,  368.93414307,    0.        ],\n",
       "         [1205.1541748 ,  370.41314697,    0.        ],\n",
       "         [1231.9699707 ,  368.70336914,    0.        ],\n",
       "         [1235.2298584 ,  369.49554443,    0.        ],\n",
       "         [1225.75146484,  378.91049194,    0.        ],\n",
       "         [1230.47302246,  381.45401001,    0.        ]])],\n",
       " [3,\n",
       "  5,\n",
       "  array([[1742.39770508,  299.15606689,    0.        ],\n",
       "         [1745.03076172,  296.16912842,    0.        ],\n",
       "         [1739.40136719,  295.94805908,    0.        ],\n",
       "         [1748.41845703,  297.43435669,    0.        ],\n",
       "         [1734.11022949,  296.22814941,    0.        ],\n",
       "         [1754.51953125,  311.7265625 ,    0.        ],\n",
       "         [1725.09924316,  310.36279297,    0.        ],\n",
       "         [1758.87744141,  325.63372803,    0.        ],\n",
       "         [1715.88208008,  323.21569824,    0.        ],\n",
       "         [1748.11816406,  323.87484741,    0.        ],\n",
       "         [1726.8215332 ,  323.7946167 ,    0.        ],\n",
       "         [1748.01049805,  338.34951782,    0.        ],\n",
       "         [1729.15246582,  337.38391113,    0.        ],\n",
       "         [1744.02661133,  332.48788452,    0.        ],\n",
       "         [1722.63317871,  330.82797241,    0.        ],\n",
       "         [1739.28173828,  322.94055176,    0.        ],\n",
       "         [1726.18969727,  321.67773438,    0.        ]])],\n",
       " [3,\n",
       "  6,\n",
       "  array([[644.10394287, 307.08047485,   0.        ],\n",
       "         [645.78887939, 303.50106812,   0.        ],\n",
       "         [641.49804688, 303.31478882,   0.        ],\n",
       "         [646.85510254, 304.25091553,   0.        ],\n",
       "         [637.95397949, 303.22164917,   0.        ],\n",
       "         [651.33557129, 318.48394775,   0.        ],\n",
       "         [633.22515869, 318.61694336,   0.        ],\n",
       "         [657.16357422, 335.49343872,   0.        ],\n",
       "         [633.30078125, 335.42382812,   0.        ],\n",
       "         [652.24279785, 341.31759644,   0.        ],\n",
       "         [640.85595703, 340.69885254,   0.        ],\n",
       "         [649.47698975, 350.0291748 ,   0.        ],\n",
       "         [637.23925781, 349.8230896 ,   0.        ],\n",
       "         [642.67486572, 348.39080811,   0.        ],\n",
       "         [630.74108887, 347.46536255,   0.        ],\n",
       "         [645.11505127, 345.23815918,   0.        ],\n",
       "         [635.15966797, 344.19549561,   0.        ]])]]"
      ]
     },
     "metadata": {},
     "output_type": "display_data"
    }
   ],
   "source": [
    "display(target_bboxes)\n",
    "display(target_poses)"
   ]
  },
  {
   "cell_type": "code",
   "execution_count": 22,
   "id": "b497ed89-b5d1-49f3-8b22-239056282f2b",
   "metadata": {},
   "outputs": [],
   "source": [
    "def get_pose_bbox_position(pose):\n",
    "    \"\"\"姿勢のbbox領域を獲得する\n",
    "    Args:\n",
    "        pose list(float): キーポイントの座標\n",
    "    Returns:\n",
    "        top_left, down_right: 左上(x,y), 右上(x,y)\n",
    "    \"\"\"\n",
    "    INF = 1<<20\n",
    "    min_x, max_x = INF, -1\n",
    "    min_y, max_y = INF, -1\n",
    "    \n",
    "    for x,y,_ in pose:\n",
    "        x,y = float(x),float(y)\n",
    "        min_x = min(min_x,x)\n",
    "        max_x = max(max_x,x)\n",
    "        min_y = min(min_y,y)\n",
    "        max_y = max(max_y,y)\n",
    "    \n",
    "    left_top = (min_x,min_y)\n",
    "    right_down = (max_x,max_y)\n",
    "    \n",
    "    return left_top, right_down\n",
    "\n",
    "def calc_IOU_score(a, b):\n",
    "    \"\"\"IOUを計算する\n",
    "    Args:\n",
    "        a: righttop, leftdown\n",
    "        b: righttop, leftdown\n",
    "    Returns:\n",
    "        IoU score: float\n",
    "    \"\"\"\n",
    "\n",
    "    (min_ax, min_ay), (max_ax, max_ay) = a[0], a[1]\n",
    "    (min_bx, min_by), (max_bx, max_by) = b[0], b[1]\n",
    "    \n",
    "    a_area = (max_ax - min_ax + 1) * (max_ay - min_ay + 1)\n",
    "    b_area = (max_bx - min_bx + 1) * (max_by - min_by + 1)\n",
    "    \n",
    "    inner_min_x = max(min_ax,min_bx)\n",
    "    inner_max_x = min(max_ax,max_bx)\n",
    "    inner_min_y = max(min_ay,min_by)\n",
    "    inner_max_y = min(max_ay,max_by)\n",
    "    \n",
    "    w = max(0, inner_max_x - inner_min_x + 1)\n",
    "    h = max(0, inner_max_y - inner_min_y + 1)\n",
    "    intersect = w*h\n",
    "\n",
    "    iou = intersect / (a_area + b_area - intersect)\n",
    "    \n",
    "    return iou"
   ]
  },
  {
   "cell_type": "code",
   "execution_count": 23,
   "id": "03539f45-bbdc-4372-8946-439c1af9b012",
   "metadata": {},
   "outputs": [
    {
     "data": {
      "text/plain": [
       "[[3, 1, 1674.26, 386.02, 243.47, 445.98, 1, -1, -1, -1],\n",
       " [3, 2, 1262.48, 259.78, 240.23, 448.46, 1, -1, -1, -1],\n",
       " [3, 3, 15.75, 249.19, 205.6, 740.83, 1, -1, -1, -1],\n",
       " [3, 4, 1585.67, 242.0, 82.24, 178.46, 1, -1, -1, -1]]"
      ]
     },
     "execution_count": 23,
     "metadata": {},
     "output_type": "execute_result"
    }
   ],
   "source": [
    "target_bboxes"
   ]
  },
  {
   "cell_type": "code",
   "execution_count": 31,
   "id": "243c6237-0960-4e0a-a0ee-3ae610014a37",
   "metadata": {},
   "outputs": [
    {
     "name": "stdout",
     "output_type": "stream",
     "text": [
      "1\n",
      "0\n",
      "2\n",
      "3\n",
      "0\n",
      "0\n",
      "0\n"
     ]
    }
   ],
   "source": [
    "for pose in target_poses:\n",
    "    _,_, pose = pose\n",
    "    pose_topleft, pose_rightdown = get_pose_bbox_position(pose)\n",
    "    \n",
    "    scores: list = []\n",
    "    for bbox in target_bboxes:\n",
    "        bbox = bbox[2:6]\n",
    "        bbox = tlwh2tldr(bbox)\n",
    "        bbox_topleft, bbox_rightdown = (bbox[0],bbox[1]),(bbox[2],bbox[3])\n",
    "        score = calc_IOU_score((pose_topleft,pose_rightdown),(bbox_topleft,bbox_rightdown))\n",
    "        scores.append(score)\n",
    "    \n",
    "    scores = np.array(scores)\n",
    "    max_idx = np.argmax(scores)\n",
    "    \n",
    "    matched_tracklet = target_poses[max_idx][1]\n",
    "    print(matched_tracklet)\n"
   ]
  },
  {
   "cell_type": "code",
   "execution_count": null,
   "id": "9ed1d817-67d2-4ac0-8218-82d6b78bf017",
   "metadata": {},
   "outputs": [],
   "source": []
  },
  {
   "cell_type": "code",
   "execution_count": null,
   "id": "4e6fe1da-b494-470b-92ca-ae8dc2c8654b",
   "metadata": {},
   "outputs": [],
   "source": []
  }
 ],
 "metadata": {
  "kernelspec": {
   "display_name": "Python 3",
   "language": "python",
   "name": "python3"
  },
  "language_info": {
   "codemirror_mode": {
    "name": "ipython",
    "version": 3
   },
   "file_extension": ".py",
   "mimetype": "text/x-python",
   "name": "python",
   "nbconvert_exporter": "python",
   "pygments_lexer": "ipython3",
   "version": "3.6.8"
  }
 },
 "nbformat": 4,
 "nbformat_minor": 5
}
