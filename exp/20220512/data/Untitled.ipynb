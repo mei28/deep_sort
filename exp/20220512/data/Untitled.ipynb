{
 "cells": [
  {
   "cell_type": "code",
   "execution_count": 1,
   "id": "5fc64506-27da-492c-bff5-124cf8d83c31",
   "metadata": {},
   "outputs": [],
   "source": [
    "import pickle \n",
    "import numpy as np \n",
    "import cv2"
   ]
  },
  {
   "cell_type": "code",
   "execution_count": 2,
   "id": "1ced5279-c01a-421c-b708-63d0e999067a",
   "metadata": {},
   "outputs": [],
   "source": [
    "with open('detection_poses_p008.pkl','rb') as f:\n",
    "    poses = pickle.load(f)"
   ]
  },
  {
   "cell_type": "code",
   "execution_count": 3,
   "id": "3903deb6-51e6-4967-adef-da577900feae",
   "metadata": {},
   "outputs": [
    {
     "data": {
      "text/plain": [
       "[1,\n",
       " 0,\n",
       " array([[1.85680774e+03, 4.58693726e+02, 7.82352149e-01],\n",
       "        [1.86800659e+03, 4.47096222e+02, 0.00000000e+00],\n",
       "        [1.86035339e+03, 4.48209869e+02, 0.00000000e+00],\n",
       "        [1.88326233e+03, 4.39125458e+02, 7.15171933e-01],\n",
       "        [1.87934204e+03, 4.43409607e+02, 0.00000000e+00],\n",
       "        [1.92140149e+03, 4.91135284e+02, 0.00000000e+00],\n",
       "        [1.89605811e+03, 4.86776459e+02, 0.00000000e+00],\n",
       "        [1.90395435e+03, 5.85826660e+02, 0.00000000e+00],\n",
       "        [1.86885608e+03, 5.79733643e+02, 0.00000000e+00],\n",
       "        [1.87056934e+03, 5.12566223e+02, 5.87612212e-01],\n",
       "        [1.83420227e+03, 6.05726196e+02, 5.86196184e-01],\n",
       "        [1.89888025e+03, 6.49293091e+02, 0.00000000e+00],\n",
       "        [1.87957764e+03, 6.34314575e+02, 0.00000000e+00],\n",
       "        [1.74900854e+03, 6.52701355e+02, 0.00000000e+00],\n",
       "        [1.74703516e+03, 6.45243286e+02, 5.72371662e-01],\n",
       "        [1.75957446e+03, 7.90399170e+02, 0.00000000e+00],\n",
       "        [1.76161206e+03, 7.72725403e+02, 0.00000000e+00]])]"
      ]
     },
     "execution_count": 3,
     "metadata": {},
     "output_type": "execute_result"
    }
   ],
   "source": [
    "poses[0]"
   ]
  },
  {
   "cell_type": "code",
   "execution_count": 4,
   "id": "38787796-f922-48ef-84a3-ed0f78478913",
   "metadata": {},
   "outputs": [],
   "source": [
    "from collections import OrderedDict"
   ]
  },
  {
   "cell_type": "code",
   "execution_count": 5,
   "id": "f8c68d77-cbc3-49e9-b246-b0500d1686d1",
   "metadata": {},
   "outputs": [
    {
     "data": {
      "text/plain": [
       "OrderedDict([(1, [5, 6]),\n",
       "             (2, [5, 11]),\n",
       "             (3, [11, 12]),\n",
       "             (4, [12, 6]),\n",
       "             (5, [5, 7]),\n",
       "             (6, [7, 9]),\n",
       "             (7, [6, 8]),\n",
       "             (8, [8, 10]),\n",
       "             (9, [11, 13]),\n",
       "             (10, [13, 15]),\n",
       "             (11, [12, 14]),\n",
       "             (12, [14, 16])])"
      ]
     },
     "execution_count": 5,
     "metadata": {},
     "output_type": "execute_result"
    }
   ],
   "source": [
    "segments = {\n",
    "    1: [5, 6],\n",
    "    2: [5, 11],\n",
    "    3: [11, 12],\n",
    "    4: [12, 6],\n",
    "    5: [5, 7],\n",
    "    6: [7, 9],\n",
    "    7: [6, 8],\n",
    "    8: [8, 10],\n",
    "    9: [11, 13],\n",
    "    10: [13, 15],\n",
    "    11: [12, 14],\n",
    "    12: [14, 16],\n",
    "}\n",
    "OrderedDict(segments)"
   ]
  },
  {
   "cell_type": "code",
   "execution_count": 12,
   "id": "ad75e3c8-dd40-4af4-9858-3efddffbbc56",
   "metadata": {},
   "outputs": [],
   "source": [
    "height = 2000\n",
    "width = 2000\n",
    "img = np.ones((height, width, 3), np.uint8)*255\n"
   ]
  },
  {
   "cell_type": "code",
   "execution_count": 13,
   "id": "023502b4-9793-44bb-b632-39288beff5af",
   "metadata": {},
   "outputs": [],
   "source": [
    "GRAY = (255,0,0)\n",
    "CROWD_THRES = 450  # max bbox size for crowd classification\n",
    "CROWD_ALPHA = 0.5\n",
    "CROWD_KP_SIZE = 2\n",
    "CROWD_KP_THICK = 2\n",
    "CROWD_SEG_THICK = 2\n",
    "\n",
    "BLUE = (245, 140, 66)\n",
    "ORANGE = (66, 140, 245)\n",
    "PLAYER_ALPHA_BOX = 0.85\n",
    "PLAYER_ALPHA_POSE = 0.3\n",
    "PLAYER_KP_SIZE = 4\n",
    "PLAYER_KP_THICK = 4\n",
    "PLAYER_SEG_THICK = 4\n",
    "FPS_TEXT_SIZE = 3\n",
    "\n",
    "_,_,pose = poses[0]\n",
    "for i, (_,_,pose) in enumerate(poses):\n",
    "    for k,seg in segments.items():\n",
    "        pt1 = (int(pose[seg[0], 0]), int(pose[seg[0], 1]))\n",
    "        pt2 = (int(pose[seg[1], 0]), int(pose[seg[1], 1]))\n",
    "        cv2.line(img, pt1, pt2, GRAY, CROWD_SEG_THICK)\n",
    "    if i>=1000:\n",
    "        break"
   ]
  },
  {
   "cell_type": "code",
   "execution_count": 14,
   "id": "87ab0588-f20a-41ca-b14b-a1a983fec00b",
   "metadata": {},
   "outputs": [
    {
     "data": {
      "text/plain": [
       "True"
      ]
     },
     "execution_count": 14,
     "metadata": {},
     "output_type": "execute_result"
    }
   ],
   "source": [
    "cv2.imwrite(\"line.jpg\", img)\n"
   ]
  },
  {
   "cell_type": "code",
   "execution_count": null,
   "id": "411ad7d6-6b75-4242-97cb-19b865390988",
   "metadata": {},
   "outputs": [],
   "source": []
  }
 ],
 "metadata": {
  "kernelspec": {
   "display_name": "Python 3",
   "language": "python",
   "name": "python3"
  },
  "language_info": {
   "codemirror_mode": {
    "name": "ipython",
    "version": 3
   },
   "file_extension": ".py",
   "mimetype": "text/x-python",
   "name": "python",
   "nbconvert_exporter": "python",
   "pygments_lexer": "ipython3",
   "version": "3.6.8"
  }
 },
 "nbformat": 4,
 "nbformat_minor": 5
}
