{
 "cells": [
  {
   "cell_type": "code",
   "execution_count": 14,
   "id": "f9913c0d-2150-4ca7-a32a-81d6bc55ed6b",
   "metadata": {},
   "outputs": [],
   "source": [
    "import pandas as pd\n",
    "import matplotlib.pyplot as plt\n",
    "from pathlib import Path\n",
    "import sys\n",
    "import os"
   ]
  },
  {
   "cell_type": "code",
   "execution_count": 15,
   "id": "97a6a2b7-dc27-4610-9208-3d5cefa41163",
   "metadata": {},
   "outputs": [
    {
     "data": {
      "text/plain": [
       "'/home/mei/Documents/deep_sort/exp/20220609'"
      ]
     },
     "execution_count": 15,
     "metadata": {},
     "output_type": "execute_result"
    }
   ],
   "source": [
    "os.getcwd()"
   ]
  },
  {
   "cell_type": "code",
   "execution_count": 16,
   "id": "87b201a0-92a2-42e9-a820-aba52932d826",
   "metadata": {},
   "outputs": [],
   "source": [
    "DATA_PATH = Path('data')\n",
    "target_file = DATA_PATH / 'p008_annotated_tracklet.csv'"
   ]
  },
  {
   "cell_type": "code",
   "execution_count": 17,
   "id": "92873bc8-00ee-4433-9d70-35fadf56d3ef",
   "metadata": {},
   "outputs": [
    {
     "data": {
      "text/plain": [
       "PosixPath('data/p008_annotated_tracklet.csv')"
      ]
     },
     "execution_count": 17,
     "metadata": {},
     "output_type": "execute_result"
    }
   ],
   "source": [
    "target_file"
   ]
  },
  {
   "cell_type": "code",
   "execution_count": 18,
   "id": "3a72ceb9-19a8-488a-9016-ffb0bf7bdf05",
   "metadata": {},
   "outputs": [],
   "source": [
    "df = pd.read_csv(str(target_file))"
   ]
  },
  {
   "cell_type": "code",
   "execution_count": 36,
   "id": "f341c86b-5303-460e-95e4-675eba2ca936",
   "metadata": {},
   "outputs": [],
   "source": [
    "idxes = df['player1']=='-'\n",
    "player1_idxes = sum(idxes)\n",
    "idxes = df['player2']=='-'\n",
    "player2_idxes = sum(idxes)\n",
    "idxes =(df['player1']=='-') & (df['player2']=='-')\n",
    "player12_idxes = sum(idxes)\n",
    "idxes =(df['player1']!='-') & (df['player2']!='-')\n",
    "player_idxes = sum(idxes)\n",
    "all_idxes = len(df)"
   ]
  },
  {
   "cell_type": "code",
   "execution_count": 37,
   "id": "7820f9b2-9257-4998-b1d7-ad81e2771695",
   "metadata": {},
   "outputs": [
    {
     "data": {
      "text/plain": [
       "659"
      ]
     },
     "execution_count": 37,
     "metadata": {},
     "output_type": "execute_result"
    }
   ],
   "source": [
    "player1_idxes"
   ]
  },
  {
   "cell_type": "code",
   "execution_count": 38,
   "id": "3d773650-405a-402a-8c19-faae9cc3ab98",
   "metadata": {},
   "outputs": [],
   "source": [
    "dct = {\n",
    "    'player1': player1_idxes,\n",
    "    'player2': player2_idxes,\n",
    "    'player12': player12_idxes,\n",
    "    'player': player_idxes,\n",
    "    'all': all_idxes\n",
    "}"
   ]
  },
  {
   "cell_type": "code",
   "execution_count": 39,
   "id": "f8b8aebb-9c6a-4878-92ed-b031c7dbf64b",
   "metadata": {},
   "outputs": [
    {
     "data": {
      "text/plain": [
       "<BarContainer object of 5 artists>"
      ]
     },
     "execution_count": 39,
     "metadata": {},
     "output_type": "execute_result"
    },
    {
     "data": {
      "image/png": "[encoded data removed]",
      "text/plain": [
       "<Figure size 432x288 with 1 Axes>"
      ]
     },
     "metadata": {
      "needs_background": "light"
     },
     "output_type": "display_data"
    }
   ],
   "source": [
    "plt.bar(list(dct.keys()),list(dct.values()))"
   ]
  },
  {
   "cell_type": "code",
   "execution_count": 41,
   "id": "f996d271-95d5-4e3d-a4b4-8c60e742f81a",
   "metadata": {},
   "outputs": [
    {
     "name": "stdout",
     "output_type": "stream",
     "text": [
      "player1   :15.944834260827486%\n",
      "player2   :24.558432131623515%\n",
      "player12  :3.8470844422937334%\n",
      "player    :63.343818049842724%\n",
      "all       :100.0%\n"
     ]
    }
   ],
   "source": [
    "for k,v in dct.items():\n",
    "    print(f\"{k:10}:{v/all_idxes*100}%\")"
   ]
  },
  {
   "cell_type": "code",
   "execution_count": 72,
   "id": "4fde6137-223e-4b1c-8dbf-d1c4df9cd71f",
   "metadata": {},
   "outputs": [
    {
     "data": {
      "text/html": [
       "<div>\n",
       "<style scoped>\n",
       "    .dataframe tbody tr th:only-of-type {\n",
       "        vertical-align: middle;\n",
       "    }\n",
       "\n",
       "    .dataframe tbody tr th {\n",
       "        vertical-align: top;\n",
       "    }\n",
       "\n",
       "    .dataframe thead th {\n",
       "        text-align: right;\n",
       "    }\n",
       "</style>\n",
       "<table border=\"1\" class=\"dataframe\">\n",
       "  <thead>\n",
       "    <tr style=\"text-align: right;\">\n",
       "      <th></th>\n",
       "      <th>frame</th>\n",
       "      <th>player1</th>\n",
       "      <th>player2</th>\n",
       "    </tr>\n",
       "  </thead>\n",
       "  <tbody>\n",
       "    <tr>\n",
       "      <th>3569</th>\n",
       "      <td>95055.0</td>\n",
       "      <td>5571</td>\n",
       "      <td>5583</td>\n",
       "    </tr>\n",
       "    <tr>\n",
       "      <th>1214</th>\n",
       "      <td>32065.0</td>\n",
       "      <td>1914</td>\n",
       "      <td>1927</td>\n",
       "    </tr>\n",
       "    <tr>\n",
       "      <th>3199</th>\n",
       "      <td>85652.0</td>\n",
       "      <td>5006</td>\n",
       "      <td>4988</td>\n",
       "    </tr>\n",
       "    <tr>\n",
       "      <th>2740</th>\n",
       "      <td>73575.0</td>\n",
       "      <td>-</td>\n",
       "      <td>-</td>\n",
       "    </tr>\n",
       "    <tr>\n",
       "      <th>3174</th>\n",
       "      <td>84547.0</td>\n",
       "      <td>4966</td>\n",
       "      <td>4960</td>\n",
       "    </tr>\n",
       "    <tr>\n",
       "      <th>3971</th>\n",
       "      <td>107195.0</td>\n",
       "      <td>6190</td>\n",
       "      <td>6188</td>\n",
       "    </tr>\n",
       "    <tr>\n",
       "      <th>59</th>\n",
       "      <td>1532.0</td>\n",
       "      <td>-</td>\n",
       "      <td>88</td>\n",
       "    </tr>\n",
       "    <tr>\n",
       "      <th>3860</th>\n",
       "      <td>104401.0</td>\n",
       "      <td>6021</td>\n",
       "      <td>5961</td>\n",
       "    </tr>\n",
       "    <tr>\n",
       "      <th>173</th>\n",
       "      <td>5322.0</td>\n",
       "      <td>239</td>\n",
       "      <td>256</td>\n",
       "    </tr>\n",
       "    <tr>\n",
       "      <th>812</th>\n",
       "      <td>21826.0</td>\n",
       "      <td>1280</td>\n",
       "      <td>1278</td>\n",
       "    </tr>\n",
       "  </tbody>\n",
       "</table>\n",
       "</div>"
      ],
      "text/plain": [
       "         frame player1 player2\n",
       "3569   95055.0    5571    5583\n",
       "1214   32065.0    1914    1927\n",
       "3199   85652.0    5006    4988\n",
       "2740   73575.0       -       -\n",
       "3174   84547.0    4966    4960\n",
       "3971  107195.0    6190    6188\n",
       "59      1532.0       -      88\n",
       "3860  104401.0    6021    5961\n",
       "173     5322.0     239     256\n",
       "812    21826.0    1280    1278"
      ]
     },
     "execution_count": 72,
     "metadata": {},
     "output_type": "execute_result"
    }
   ],
   "source": [
    "df.sample(10)"
   ]
  }
 ],
 "metadata": {
  "kernelspec": {
   "display_name": "Python 3",
   "language": "python",
   "name": "python3"
  },
  "language_info": {
   "codemirror_mode": {
    "name": "ipython",
    "version": 3
   },
   "file_extension": ".py",
   "mimetype": "text/x-python",
   "name": "python",
   "nbconvert_exporter": "python",
   "pygments_lexer": "ipython3",
   "version": "3.6.8"
  }
 },
 "nbformat": 4,
 "nbformat_minor": 5
}
