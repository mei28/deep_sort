{
 "cells": [
  {
   "cell_type": "markdown",
   "id": "954b788a-dc10-4047-bcf5-b158a1a63a47",
   "metadata": {},
   "source": [
    "# ぷれいちゅうでどれくらい取れているかを計測"
   ]
  },
  {
   "cell_type": "code",
   "execution_count": 1,
   "id": "7adbf698-9a62-42b7-9d16-7bc3bf5ab51c",
   "metadata": {},
   "outputs": [],
   "source": [
    "import sys\n",
    "import os\n",
    "import pandas as pd\n",
    "import matplotlib.pyplot as plt\n",
    "import seaborn as sns\n",
    "from pathlib import Path\n",
    "import numpy as np\n",
    "\n",
    "sys.path.append('/home/mei/Documents/deep_sort/exp/20220609/utils')\n",
    "\n",
    "from utils.frame import sec2frame\n",
    "from utils.load_data import (load_annotated_trackret_file,\n",
    "                             get_player_id_list,\n",
    "                             load_pose_data,\n",
    "                             load_bbox_data\n",
    "                            )\n",
    "from utils.matching import match_id_by_iou\n",
    "from utils.frame import frame2sec\n",
    "from IPython.core.debugger import Pdb\n",
    "import multiprocessing\n",
    "from multiprocessing import Manager, Process\n",
    "from tqdm.notebook import tqdm\n",
    "import pickle\n",
    "import subprocess"
   ]
  },
  {
   "cell_type": "code",
   "execution_count": 2,
   "id": "6086db6d-332d-4172-9ced-170d5fe58b61",
   "metadata": {},
   "outputs": [],
   "source": [
    "ist = Pdb().set_trace"
   ]
  },
  {
   "cell_type": "code",
   "execution_count": 3,
   "id": "4effbc52-39f2-446b-8c67-8984f2aaed36",
   "metadata": {},
   "outputs": [],
   "source": [
    "data_file_path = Path(os.getcwd())/'data'\n",
    "data_name = data_file_path / 'p008_wtnb_0528.csv'\n",
    "output_file_path: str = Path(os.getcwd())/'output'"
   ]
  },
  {
   "cell_type": "code",
   "execution_count": 4,
   "id": "cfe94789-31f5-418e-9b15-6b1645dfe8f3",
   "metadata": {},
   "outputs": [
    {
     "data": {
      "text/html": [
       "<div>\n",
       "<style scoped>\n",
       "    .dataframe tbody tr th:only-of-type {\n",
       "        vertical-align: middle;\n",
       "    }\n",
       "\n",
       "    .dataframe tbody tr th {\n",
       "        vertical-align: top;\n",
       "    }\n",
       "\n",
       "    .dataframe thead th {\n",
       "        text-align: right;\n",
       "    }\n",
       "</style>\n",
       "<table border=\"1\" class=\"dataframe\">\n",
       "  <thead>\n",
       "    <tr style=\"text-align: right;\">\n",
       "      <th></th>\n",
       "      <th>start</th>\n",
       "      <th>end</th>\n",
       "      <th>labels</th>\n",
       "    </tr>\n",
       "  </thead>\n",
       "  <tbody>\n",
       "    <tr>\n",
       "      <th>0</th>\n",
       "      <td>77.761265</td>\n",
       "      <td>77.861253</td>\n",
       "      <td>OA</td>\n",
       "    </tr>\n",
       "    <tr>\n",
       "      <th>1</th>\n",
       "      <td>78.395459</td>\n",
       "      <td>78.470450</td>\n",
       "      <td>XB</td>\n",
       "    </tr>\n",
       "    <tr>\n",
       "      <th>2</th>\n",
       "      <td>78.978720</td>\n",
       "      <td>79.045378</td>\n",
       "      <td>XA</td>\n",
       "    </tr>\n",
       "    <tr>\n",
       "      <th>3</th>\n",
       "      <td>79.561053</td>\n",
       "      <td>79.602715</td>\n",
       "      <td>OB</td>\n",
       "    </tr>\n",
       "    <tr>\n",
       "      <th>4</th>\n",
       "      <td>91.541977</td>\n",
       "      <td>91.583639</td>\n",
       "      <td>OA</td>\n",
       "    </tr>\n",
       "  </tbody>\n",
       "</table>\n",
       "</div>"
      ],
      "text/plain": [
       "       start        end labels\n",
       "0  77.761265  77.861253     OA\n",
       "1  78.395459  78.470450     XB\n",
       "2  78.978720  79.045378     XA\n",
       "3  79.561053  79.602715     OB\n",
       "4  91.541977  91.583639     OA"
      ]
     },
     "execution_count": 4,
     "metadata": {},
     "output_type": "execute_result"
    }
   ],
   "source": [
    "df = pd.read_csv(data_name)\n",
    "df.head()"
   ]
  },
  {
   "cell_type": "code",
   "execution_count": 5,
   "id": "5908424b-4391-4017-81a9-e6b3737559c9",
   "metadata": {},
   "outputs": [
    {
     "data": {
      "text/html": [
       "<div>\n",
       "<style scoped>\n",
       "    .dataframe tbody tr th:only-of-type {\n",
       "        vertical-align: middle;\n",
       "    }\n",
       "\n",
       "    .dataframe tbody tr th {\n",
       "        vertical-align: top;\n",
       "    }\n",
       "\n",
       "    .dataframe thead th {\n",
       "        text-align: right;\n",
       "    }\n",
       "</style>\n",
       "<table border=\"1\" class=\"dataframe\">\n",
       "  <thead>\n",
       "    <tr style=\"text-align: right;\">\n",
       "      <th></th>\n",
       "      <th>start</th>\n",
       "      <th>end</th>\n",
       "      <th>labels</th>\n",
       "      <th>start_frame</th>\n",
       "    </tr>\n",
       "  </thead>\n",
       "  <tbody>\n",
       "    <tr>\n",
       "      <th>0</th>\n",
       "      <td>77.761265</td>\n",
       "      <td>77.861253</td>\n",
       "      <td>OA</td>\n",
       "      <td>2330</td>\n",
       "    </tr>\n",
       "    <tr>\n",
       "      <th>1</th>\n",
       "      <td>78.395459</td>\n",
       "      <td>78.470450</td>\n",
       "      <td>XB</td>\n",
       "      <td>2349</td>\n",
       "    </tr>\n",
       "    <tr>\n",
       "      <th>2</th>\n",
       "      <td>78.978720</td>\n",
       "      <td>79.045378</td>\n",
       "      <td>XA</td>\n",
       "      <td>2366</td>\n",
       "    </tr>\n",
       "    <tr>\n",
       "      <th>3</th>\n",
       "      <td>79.561053</td>\n",
       "      <td>79.602715</td>\n",
       "      <td>OB</td>\n",
       "      <td>2384</td>\n",
       "    </tr>\n",
       "    <tr>\n",
       "      <th>4</th>\n",
       "      <td>91.541977</td>\n",
       "      <td>91.583639</td>\n",
       "      <td>OA</td>\n",
       "      <td>2743</td>\n",
       "    </tr>\n",
       "  </tbody>\n",
       "</table>\n",
       "</div>"
      ],
      "text/plain": [
       "       start        end labels  start_frame\n",
       "0  77.761265  77.861253     OA         2330\n",
       "1  78.395459  78.470450     XB         2349\n",
       "2  78.978720  79.045378     XA         2366\n",
       "3  79.561053  79.602715     OB         2384\n",
       "4  91.541977  91.583639     OA         2743"
      ]
     },
     "execution_count": 5,
     "metadata": {},
     "output_type": "execute_result"
    }
   ],
   "source": [
    "df['start_frame']=df['start'].apply(sec2frame)\n",
    "df.head()"
   ]
  },
  {
   "cell_type": "code",
   "execution_count": 6,
   "id": "70244ed0-cd3d-4f58-92d8-1e19065534fa",
   "metadata": {},
   "outputs": [
    {
     "data": {
      "text/plain": [
       "<AxesSubplot:>"
      ]
     },
     "execution_count": 6,
     "metadata": {},
     "output_type": "execute_result"
    },
    {
     "data": {
      "image/png": "[encoded data removed]",
      "text/plain": [
       "<Figure size 432x288 with 1 Axes>"
      ]
     },
     "metadata": {
      "needs_background": "light"
     },
     "output_type": "display_data"
    }
   ],
   "source": [
    "tmp = df.copy()\n",
    "max_frame = df['start_frame'].max()+1\n",
    "height = [1  if i in df['start_frame'].to_numpy() else 0 for i in range(max_frame)]\n",
    "x = [i for i in range(max_frame)]\n",
    "\n",
    "sns.scatterplot(x=x,y=height)"
   ]
  },
  {
   "cell_type": "code",
   "execution_count": 7,
   "id": "2aa30e11-5ac9-423a-aa0f-8135d01d248c",
   "metadata": {},
   "outputs": [
    {
     "data": {
      "text/html": [
       "<div>\n",
       "<style scoped>\n",
       "    .dataframe tbody tr th:only-of-type {\n",
       "        vertical-align: middle;\n",
       "    }\n",
       "\n",
       "    .dataframe tbody tr th {\n",
       "        vertical-align: top;\n",
       "    }\n",
       "\n",
       "    .dataframe thead th {\n",
       "        text-align: right;\n",
       "    }\n",
       "</style>\n",
       "<table border=\"1\" class=\"dataframe\">\n",
       "  <thead>\n",
       "    <tr style=\"text-align: right;\">\n",
       "      <th></th>\n",
       "      <th>start</th>\n",
       "      <th>end</th>\n",
       "      <th>labels</th>\n",
       "      <th>start_frame</th>\n",
       "    </tr>\n",
       "  </thead>\n",
       "  <tbody>\n",
       "    <tr>\n",
       "      <th>0</th>\n",
       "      <td>77.761265</td>\n",
       "      <td>77.861253</td>\n",
       "      <td>OA</td>\n",
       "      <td>2330</td>\n",
       "    </tr>\n",
       "    <tr>\n",
       "      <th>1</th>\n",
       "      <td>78.395459</td>\n",
       "      <td>78.470450</td>\n",
       "      <td>XB</td>\n",
       "      <td>2349</td>\n",
       "    </tr>\n",
       "    <tr>\n",
       "      <th>2</th>\n",
       "      <td>78.978720</td>\n",
       "      <td>79.045378</td>\n",
       "      <td>XA</td>\n",
       "      <td>2366</td>\n",
       "    </tr>\n",
       "    <tr>\n",
       "      <th>3</th>\n",
       "      <td>79.561053</td>\n",
       "      <td>79.602715</td>\n",
       "      <td>OB</td>\n",
       "      <td>2384</td>\n",
       "    </tr>\n",
       "    <tr>\n",
       "      <th>4</th>\n",
       "      <td>91.541977</td>\n",
       "      <td>91.583639</td>\n",
       "      <td>OA</td>\n",
       "      <td>2743</td>\n",
       "    </tr>\n",
       "    <tr>\n",
       "      <th>5</th>\n",
       "      <td>92.191896</td>\n",
       "      <td>92.250222</td>\n",
       "      <td>XB</td>\n",
       "      <td>2762</td>\n",
       "    </tr>\n",
       "    <tr>\n",
       "      <th>6</th>\n",
       "      <td>92.733496</td>\n",
       "      <td>92.800154</td>\n",
       "      <td>OA</td>\n",
       "      <td>2779</td>\n",
       "    </tr>\n",
       "    <tr>\n",
       "      <th>7</th>\n",
       "      <td>93.114926</td>\n",
       "      <td>93.164920</td>\n",
       "      <td>XB</td>\n",
       "      <td>2790</td>\n",
       "    </tr>\n",
       "    <tr>\n",
       "      <th>8</th>\n",
       "      <td>93.598199</td>\n",
       "      <td>93.656525</td>\n",
       "      <td>OA</td>\n",
       "      <td>2805</td>\n",
       "    </tr>\n",
       "    <tr>\n",
       "      <th>9</th>\n",
       "      <td>109.029614</td>\n",
       "      <td>109.071276</td>\n",
       "      <td>OB</td>\n",
       "      <td>3267</td>\n",
       "    </tr>\n",
       "  </tbody>\n",
       "</table>\n",
       "</div>"
      ],
      "text/plain": [
       "        start         end labels  start_frame\n",
       "0   77.761265   77.861253     OA         2330\n",
       "1   78.395459   78.470450     XB         2349\n",
       "2   78.978720   79.045378     XA         2366\n",
       "3   79.561053   79.602715     OB         2384\n",
       "4   91.541977   91.583639     OA         2743\n",
       "5   92.191896   92.250222     XB         2762\n",
       "6   92.733496   92.800154     OA         2779\n",
       "7   93.114926   93.164920     XB         2790\n",
       "8   93.598199   93.656525     OA         2805\n",
       "9  109.029614  109.071276     OB         3267"
      ]
     },
     "execution_count": 7,
     "metadata": {},
     "output_type": "execute_result"
    }
   ],
   "source": [
    "df.head(10)"
   ]
  },
  {
   "cell_type": "code",
   "execution_count": 8,
   "id": "48e25861-fe0e-4f64-b2e5-f977dbe133c5",
   "metadata": {},
   "outputs": [
    {
     "name": "stderr",
     "output_type": "stream",
     "text": [
      "/home/mei/.pyenv/versions/3.6.8/envs/gmtracker/lib/python3.6/site-packages/seaborn/distributions.py:2619: FutureWarning: `distplot` is a deprecated function and will be removed in a future version. Please adapt your code to use either `displot` (a figure-level function with similar flexibility) or `histplot` (an axes-level function for histograms).\n",
      "  warnings.warn(msg, FutureWarning)\n"
     ]
    },
    {
     "data": {
      "image/png": "[encoded data removed]",
      "text/plain": [
       "<Figure size 432x288 with 1 Axes>"
      ]
     },
     "metadata": {
      "needs_background": "light"
     },
     "output_type": "display_data"
    }
   ],
   "source": [
    "df_diff=df['start_frame'].diff()\n",
    "sns.distplot(df_diff,bins=20)\n",
    "plt.show()"
   ]
  },
  {
   "cell_type": "code",
   "execution_count": 9,
   "id": "8105e56d-61a1-44d4-b6e7-58a71dc210bc",
   "metadata": {},
   "outputs": [
    {
     "name": "stdout",
     "output_type": "stream",
     "text": [
      "60453.87752803594\n"
     ]
    }
   ],
   "source": [
    "def OtsuScore(data,thresh):\n",
    "    \"\"\"前後のプレーの時間差から閾値となる二値を決める\"\"\"\n",
    "    w_0 = len(data[data > thresh])/len(data)\n",
    "    w_1 = len(data[data <= thresh])/len(data)\n",
    "    \n",
    "    if w_0== 0 or w_1==0:\n",
    "        return 0\n",
    "    mean_all = data.mean()\n",
    "    mean_0 = data[data>thresh].mean()\n",
    "    mean_1 = data[data<=thresh].mean()\n",
    "    \n",
    "    sigma = w_0*((mean_0-mean_all)**2) + w_1*((mean_1-mean_all)**2)\n",
    "    return sigma\n",
    "\n",
    "iters = 20000\n",
    "scores = [0] * iters\n",
    "for i in range(iters):\n",
    "    scores[i] = OtsuScore(df_diff,i)\n",
    "\n",
    "print(max(scores))"
   ]
  },
  {
   "cell_type": "code",
   "execution_count": 10,
   "id": "4e0c4ed7-78a2-4401-a164-2b80fbb1c5e5",
   "metadata": {},
   "outputs": [
    {
     "name": "stdout",
     "output_type": "stream",
     "text": [
      "330\n"
     ]
    },
    {
     "data": {
      "image/png": "[encoded data removed]",
      "text/plain": [
       "<Figure size 432x288 with 1 Axes>"
      ]
     },
     "metadata": {
      "needs_background": "light"
     },
     "output_type": "display_data"
    }
   ],
   "source": [
    "plt.plot(scores)\n",
    "print(scores.index(max(scores)))"
   ]
  },
  {
   "cell_type": "code",
   "execution_count": 11,
   "id": "56758d2d-bca3-420c-a1c3-41375bfbc13e",
   "metadata": {},
   "outputs": [
    {
     "name": "stdout",
     "output_type": "stream",
     "text": [
      "(154,) (593,)\n"
     ]
    }
   ],
   "source": [
    "threshold = min(scores.index(max(scores)),100)\n",
    "print(df_diff[df_diff>threshold].shape,df_diff[df_diff<=threshold].shape)"
   ]
  },
  {
   "cell_type": "code",
   "execution_count": 12,
   "id": "b663a8af-0bd4-49e5-b8c6-d60f89425513",
   "metadata": {},
   "outputs": [
    {
     "data": {
      "text/html": [
       "<div>\n",
       "<style scoped>\n",
       "    .dataframe tbody tr th:only-of-type {\n",
       "        vertical-align: middle;\n",
       "    }\n",
       "\n",
       "    .dataframe tbody tr th {\n",
       "        vertical-align: top;\n",
       "    }\n",
       "\n",
       "    .dataframe thead th {\n",
       "        text-align: right;\n",
       "    }\n",
       "</style>\n",
       "<table border=\"1\" class=\"dataframe\">\n",
       "  <thead>\n",
       "    <tr style=\"text-align: right;\">\n",
       "      <th></th>\n",
       "      <th>start</th>\n",
       "      <th>end</th>\n",
       "      <th>labels</th>\n",
       "      <th>start_frame</th>\n",
       "      <th>df_diff</th>\n",
       "      <th>group</th>\n",
       "    </tr>\n",
       "  </thead>\n",
       "  <tbody>\n",
       "    <tr>\n",
       "      <th>0</th>\n",
       "      <td>77.761265</td>\n",
       "      <td>77.861253</td>\n",
       "      <td>OA</td>\n",
       "      <td>2330</td>\n",
       "      <td>NaN</td>\n",
       "      <td>0.0</td>\n",
       "    </tr>\n",
       "    <tr>\n",
       "      <th>1</th>\n",
       "      <td>78.395459</td>\n",
       "      <td>78.470450</td>\n",
       "      <td>XB</td>\n",
       "      <td>2349</td>\n",
       "      <td>19.0</td>\n",
       "      <td>0.0</td>\n",
       "    </tr>\n",
       "    <tr>\n",
       "      <th>2</th>\n",
       "      <td>78.978720</td>\n",
       "      <td>79.045378</td>\n",
       "      <td>XA</td>\n",
       "      <td>2366</td>\n",
       "      <td>17.0</td>\n",
       "      <td>0.0</td>\n",
       "    </tr>\n",
       "    <tr>\n",
       "      <th>3</th>\n",
       "      <td>79.561053</td>\n",
       "      <td>79.602715</td>\n",
       "      <td>OB</td>\n",
       "      <td>2384</td>\n",
       "      <td>18.0</td>\n",
       "      <td>0.0</td>\n",
       "    </tr>\n",
       "    <tr>\n",
       "      <th>4</th>\n",
       "      <td>91.541977</td>\n",
       "      <td>91.583639</td>\n",
       "      <td>OA</td>\n",
       "      <td>2743</td>\n",
       "      <td>359.0</td>\n",
       "      <td>1.0</td>\n",
       "    </tr>\n",
       "  </tbody>\n",
       "</table>\n",
       "</div>"
      ],
      "text/plain": [
       "       start        end labels  start_frame  df_diff  group\n",
       "0  77.761265  77.861253     OA         2330      NaN    0.0\n",
       "1  78.395459  78.470450     XB         2349     19.0    0.0\n",
       "2  78.978720  79.045378     XA         2366     17.0    0.0\n",
       "3  79.561053  79.602715     OB         2384     18.0    0.0\n",
       "4  91.541977  91.583639     OA         2743    359.0    1.0"
      ]
     },
     "execution_count": 12,
     "metadata": {},
     "output_type": "execute_result"
    }
   ],
   "source": [
    "cnt = 0\n",
    "df = df.reset_index(drop=True)\n",
    "df['df_diff'] = df_diff\n",
    "df.loc[0,'group']=0\n",
    "for i in range(1,len(df)):\n",
    "    if df.loc[i,'df_diff']>=threshold:\n",
    "        cnt += 1\n",
    "    df.loc[i,'group'] = cnt\n",
    "df.head()\n"
   ]
  },
  {
   "cell_type": "code",
   "execution_count": 13,
   "id": "43de7191-bd5a-421c-ad44-2fb80d89166f",
   "metadata": {},
   "outputs": [
    {
     "data": {
      "text/plain": [
       "group\n",
       "0.0      54\n",
       "1.0      62\n",
       "2.0      70\n",
       "3.0      49\n",
       "4.0      52\n",
       "         ..\n",
       "150.0    59\n",
       "151.0    30\n",
       "152.0    55\n",
       "153.0    88\n",
       "154.0    63\n",
       "Name: start_frame, Length: 155, dtype: int64"
      ]
     },
     "execution_count": 13,
     "metadata": {},
     "output_type": "execute_result"
    }
   ],
   "source": [
    "df.groupby('group')['start_frame'].apply(lambda x: x.max()-x.min())"
   ]
  },
  {
   "cell_type": "markdown",
   "id": "05a34e5c-66c4-479b-92c2-ce040bc3363f",
   "metadata": {},
   "source": [
    "## トラックレットを結合する"
   ]
  },
  {
   "cell_type": "code",
   "execution_count": 14,
   "id": "cd250e14-61af-4b14-8232-4617ee49b34d",
   "metadata": {},
   "outputs": [
    {
     "data": {
      "text/html": [
       "<div>\n",
       "<style scoped>\n",
       "    .dataframe tbody tr th:only-of-type {\n",
       "        vertical-align: middle;\n",
       "    }\n",
       "\n",
       "    .dataframe tbody tr th {\n",
       "        vertical-align: top;\n",
       "    }\n",
       "\n",
       "    .dataframe thead th {\n",
       "        text-align: right;\n",
       "    }\n",
       "</style>\n",
       "<table border=\"1\" class=\"dataframe\">\n",
       "  <thead>\n",
       "    <tr style=\"text-align: right;\">\n",
       "      <th></th>\n",
       "      <th>frame</th>\n",
       "      <th>player1</th>\n",
       "      <th>player2</th>\n",
       "    </tr>\n",
       "  </thead>\n",
       "  <tbody>\n",
       "    <tr>\n",
       "      <th>0</th>\n",
       "      <td>3.0</td>\n",
       "      <td>3</td>\n",
       "      <td>2</td>\n",
       "    </tr>\n",
       "    <tr>\n",
       "      <th>1</th>\n",
       "      <td>15.0</td>\n",
       "      <td>3</td>\n",
       "      <td>2</td>\n",
       "    </tr>\n",
       "    <tr>\n",
       "      <th>2</th>\n",
       "      <td>114.0</td>\n",
       "      <td>6</td>\n",
       "      <td>2</td>\n",
       "    </tr>\n",
       "    <tr>\n",
       "      <th>3</th>\n",
       "      <td>190.0</td>\n",
       "      <td>6</td>\n",
       "      <td>2</td>\n",
       "    </tr>\n",
       "    <tr>\n",
       "      <th>4</th>\n",
       "      <td>232.0</td>\n",
       "      <td>10</td>\n",
       "      <td>2</td>\n",
       "    </tr>\n",
       "  </tbody>\n",
       "</table>\n",
       "</div>"
      ],
      "text/plain": [
       "   frame player1 player2\n",
       "0    3.0       3       2\n",
       "1   15.0       3       2\n",
       "2  114.0       6       2\n",
       "3  190.0       6       2\n",
       "4  232.0      10       2"
      ]
     },
     "execution_count": 14,
     "metadata": {},
     "output_type": "execute_result"
    }
   ],
   "source": [
    "tracklet_name = data_file_path / 'p008_annotated_tracklet.csv'\n",
    "tracklet = pd.read_csv(tracklet_name)\n",
    "tracklet.head()"
   ]
  },
  {
   "cell_type": "code",
   "execution_count": 15,
   "id": "3b5e0e34-9639-4268-b959-c4187229f0e5",
   "metadata": {},
   "outputs": [],
   "source": [
    "max_frame = 109275 +1 \n",
    "all_df = pd.DataFrame({'frame':list(range(1,max_frame))})\n",
    "all_df = pd.merge(all_df,tracklet,on='frame',how='left')\n",
    "all_df = pd.merge(all_df,df[['start_frame','group','start','end']],left_on='frame',right_on='start_frame',how='left').drop(columns='start_frame')\n",
    "# all_df['group'] = all_df['group'].fillna(method='ffill')\n",
    "for c in ['player1','player2']:\n",
    "    all_df[c] = all_df[c].replace({'-':-1})\n",
    "    all_df[c] = all_df[c].astype(float)"
   ]
  },
  {
   "cell_type": "markdown",
   "id": "36d61c0f-01ea-46b1-86e4-c2a7c83511df",
   "metadata": {},
   "source": [
    "## ラリー番号の保管方法を変える"
   ]
  },
  {
   "cell_type": "code",
   "execution_count": 16,
   "id": "01f366e1-713e-4377-8494-8c8d48cc6462",
   "metadata": {},
   "outputs": [],
   "source": [
    "# margin = 5\n",
    "\n",
    "# group_dict = all_df.groupby('group').groups\n",
    "# col_num = all_df.columns.get_loc('group')\n",
    "# for group_id, frames in group_dict.items():\n",
    "#     group_start_frame = frames.min()-margin\n",
    "#     group_end_frame = frames.max()+50\n",
    "#     all_df.iloc[group_start_frame:group_end_frame,col_num] = group_id\n",
    "\n",
    "    "
   ]
  },
  {
   "cell_type": "markdown",
   "id": "f6774038-6532-4b5f-9164-f6e42b842b7c",
   "metadata": {},
   "source": [
    "## トラックレットとkapaoidを組み合わせる"
   ]
  },
  {
   "cell_type": "code",
   "execution_count": 17,
   "id": "71689579-3cee-41dd-9110-3d284d731525",
   "metadata": {},
   "outputs": [],
   "source": [
    "tracklet_df = load_annotated_trackret_file(tracklet_name)\n",
    "player1_tracklet, player2_tracklet = get_player_id_list(tracklet_df)\n",
    "video_name='p008'\n",
    "pose_path=f\"/home/mei/Documents/deep_sort/exp/20220512/data/detection_poses_{video_name}.pkl\"\n",
    "pose_data=load_pose_data(pose_path)\n",
    "bbox_path=bbox_path=f\"/home/mei/Documents/deep_sort/exp/20220512/data/{video_name}/{video_name}_deepsort_output.txt\"\n",
    "bbox_list: list= load_bbox_data(bbox_path)"
   ]
  },
  {
   "cell_type": "code",
   "execution_count": 18,
   "id": "e5b3accf-edd4-40ae-a631-5136dc544765",
   "metadata": {},
   "outputs": [
    {
     "data": {
      "text/plain": [
       "[3, 1, 1674.26, 386.02, 243.47, 445.98, 1, -1, -1, -1]"
      ]
     },
     "execution_count": 18,
     "metadata": {},
     "output_type": "execute_result"
    }
   ],
   "source": [
    "tracklet_df\n",
    "player1_tracklet\n",
    "pose_data[0]\n",
    "bbox_list[0]"
   ]
  },
  {
   "cell_type": "code",
   "execution_count": 19,
   "id": "5de8f2f0-9e8a-4324-9ee6-51d2fea78db3",
   "metadata": {
    "tags": []
   },
   "outputs": [],
   "source": [
    "# %%time\n",
    "# def wrap(frame_id,d):\n",
    "#     out_pose=match_id_by_iou(pose_data,bbox_list,frame_id)\n",
    "#     player_id_list:list=[]\n",
    "#     for one_out_pose in out_pose:\n",
    "#         player_id = one_out_pose[1]\n",
    "#         if player_id<0:\n",
    "#             continue\n",
    "#         player_id_list.append(player_id)\n",
    "#     d[frame_id]=player_id_list\n",
    "\n",
    "\n",
    "# # kapao と deepsortのidを対応付けしたものを保存\n",
    "\n",
    "# processes = multiprocessing.cpu_count()\n",
    "# progress_bar = tqdm(total=max_frame)\n",
    "# d = Manager().dict()\n",
    "# args = [(i,d) for i in range(1,max_frame)]\n",
    "# with multiprocessing.Pool(processes=processes) as pool:\n",
    "#     for _ in pool.starmap(wrap,args):\n",
    "#         progress_bar.update(1)\n",
    "\n",
    "# dict(d)\n",
    "# d_ = dict(d)\n",
    "\n",
    "# import pickle\n",
    "\n",
    "# with open(str(data_file_path/'player_id_dict.pickle'),'wb') as f:\n",
    "#     pickle.dump(d_,f)"
   ]
  },
  {
   "cell_type": "code",
   "execution_count": 20,
   "id": "672cab79-5752-4927-baeb-8e4dfc932485",
   "metadata": {},
   "outputs": [],
   "source": [
    "# import pickle\n",
    "\n",
    "# with open(str(data_file_path/'player_id_dict.pickle'),'wb') as f:\n",
    "#     pickle.dump(d_,f)"
   ]
  },
  {
   "cell_type": "markdown",
   "id": "330c6bba-e08f-48f0-8703-79911c2c01be",
   "metadata": {},
   "source": [
    "# kapaoとdeepsortをidで紐づけたものをつかっていく"
   ]
  },
  {
   "cell_type": "code",
   "execution_count": 21,
   "id": "f3791c8f-d1ab-4844-9a07-f96ba2ded0fd",
   "metadata": {
    "tags": []
   },
   "outputs": [
    {
     "data": {
      "text/html": [
       "<div>\n",
       "<style scoped>\n",
       "    .dataframe tbody tr th:only-of-type {\n",
       "        vertical-align: middle;\n",
       "    }\n",
       "\n",
       "    .dataframe tbody tr th {\n",
       "        vertical-align: top;\n",
       "    }\n",
       "\n",
       "    .dataframe thead th {\n",
       "        text-align: right;\n",
       "    }\n",
       "</style>\n",
       "<table border=\"1\" class=\"dataframe\">\n",
       "  <thead>\n",
       "    <tr style=\"text-align: right;\">\n",
       "      <th></th>\n",
       "      <th>frame_id</th>\n",
       "      <th>player_ids</th>\n",
       "    </tr>\n",
       "  </thead>\n",
       "  <tbody>\n",
       "    <tr>\n",
       "      <th>0</th>\n",
       "      <td>1</td>\n",
       "      <td>[0, 1, 2, 3, 4, 5, 6, 7]</td>\n",
       "    </tr>\n",
       "    <tr>\n",
       "      <th>1</th>\n",
       "      <td>2</td>\n",
       "      <td>[0, 1, 2, 3, 4, 5]</td>\n",
       "    </tr>\n",
       "    <tr>\n",
       "      <th>2</th>\n",
       "      <td>3</td>\n",
       "      <td>[2, 1, 3, 4]</td>\n",
       "    </tr>\n",
       "    <tr>\n",
       "      <th>3</th>\n",
       "      <td>4</td>\n",
       "      <td>[2, 3, 1, 4]</td>\n",
       "    </tr>\n",
       "    <tr>\n",
       "      <th>4</th>\n",
       "      <td>5</td>\n",
       "      <td>[3, 2, 1]</td>\n",
       "    </tr>\n",
       "  </tbody>\n",
       "</table>\n",
       "</div>"
      ],
      "text/plain": [
       "   frame_id                player_ids\n",
       "0         1  [0, 1, 2, 3, 4, 5, 6, 7]\n",
       "1         2        [0, 1, 2, 3, 4, 5]\n",
       "2         3              [2, 1, 3, 4]\n",
       "3         4              [2, 3, 1, 4]\n",
       "4         5                 [3, 2, 1]"
      ]
     },
     "execution_count": 21,
     "metadata": {},
     "output_type": "execute_result"
    }
   ],
   "source": [
    "# with open(str(data_file_path/'player_id_dict.pickle'),'rb') as f:\n",
    "#     kapao_deepsort_data = pickle.load(f)\n",
    "\n",
    "# kapao_deepsort_data = list(sorted(kapao_deepsort_data.items(), key=lambda x: x[0]))\n",
    "\n",
    "# kapao_deepsort_data_df = pd.DataFrame(kapao_deepsort_data,columns=['frame_id','player_ids'])\n",
    "\n",
    "# kapao_deepsort_data_df.to_parquet(str(data_file_path/'deepsort_player_ids.parquet'))\n",
    "\n",
    "deepsort_player_ids_df = pd.read_parquet(str(data_file_path/'deepsort_player_ids.parquet'))\n",
    "deepsort_player_ids_df.head()"
   ]
  },
  {
   "cell_type": "code",
   "execution_count": 22,
   "id": "db6a5022-7c52-41a3-a279-620a6438b6cd",
   "metadata": {},
   "outputs": [],
   "source": [
    "for c in ['player1','player2']:\n",
    "    all_df[c+'_fill'] = all_df[c].fillna(method='ffill')"
   ]
  },
  {
   "cell_type": "code",
   "execution_count": 23,
   "id": "55681608-92e9-464a-92ef-d7d08b38460a",
   "metadata": {},
   "outputs": [
    {
     "data": {
      "text/html": [
       "<div>\n",
       "<style scoped>\n",
       "    .dataframe tbody tr th:only-of-type {\n",
       "        vertical-align: middle;\n",
       "    }\n",
       "\n",
       "    .dataframe tbody tr th {\n",
       "        vertical-align: top;\n",
       "    }\n",
       "\n",
       "    .dataframe thead th {\n",
       "        text-align: right;\n",
       "    }\n",
       "</style>\n",
       "<table border=\"1\" class=\"dataframe\">\n",
       "  <thead>\n",
       "    <tr style=\"text-align: right;\">\n",
       "      <th></th>\n",
       "      <th>frame</th>\n",
       "      <th>player1</th>\n",
       "      <th>player2</th>\n",
       "      <th>group</th>\n",
       "      <th>start</th>\n",
       "      <th>end</th>\n",
       "      <th>player1_fill</th>\n",
       "      <th>player2_fill</th>\n",
       "    </tr>\n",
       "  </thead>\n",
       "  <tbody>\n",
       "    <tr>\n",
       "      <th>0</th>\n",
       "      <td>1</td>\n",
       "      <td>NaN</td>\n",
       "      <td>NaN</td>\n",
       "      <td>NaN</td>\n",
       "      <td>NaN</td>\n",
       "      <td>NaN</td>\n",
       "      <td>NaN</td>\n",
       "      <td>NaN</td>\n",
       "    </tr>\n",
       "    <tr>\n",
       "      <th>1</th>\n",
       "      <td>2</td>\n",
       "      <td>NaN</td>\n",
       "      <td>NaN</td>\n",
       "      <td>NaN</td>\n",
       "      <td>NaN</td>\n",
       "      <td>NaN</td>\n",
       "      <td>NaN</td>\n",
       "      <td>NaN</td>\n",
       "    </tr>\n",
       "    <tr>\n",
       "      <th>2</th>\n",
       "      <td>3</td>\n",
       "      <td>3.0</td>\n",
       "      <td>2.0</td>\n",
       "      <td>NaN</td>\n",
       "      <td>NaN</td>\n",
       "      <td>NaN</td>\n",
       "      <td>3.0</td>\n",
       "      <td>2.0</td>\n",
       "    </tr>\n",
       "    <tr>\n",
       "      <th>3</th>\n",
       "      <td>4</td>\n",
       "      <td>NaN</td>\n",
       "      <td>NaN</td>\n",
       "      <td>NaN</td>\n",
       "      <td>NaN</td>\n",
       "      <td>NaN</td>\n",
       "      <td>3.0</td>\n",
       "      <td>2.0</td>\n",
       "    </tr>\n",
       "    <tr>\n",
       "      <th>4</th>\n",
       "      <td>5</td>\n",
       "      <td>NaN</td>\n",
       "      <td>NaN</td>\n",
       "      <td>NaN</td>\n",
       "      <td>NaN</td>\n",
       "      <td>NaN</td>\n",
       "      <td>3.0</td>\n",
       "      <td>2.0</td>\n",
       "    </tr>\n",
       "  </tbody>\n",
       "</table>\n",
       "</div>"
      ],
      "text/plain": [
       "   frame  player1  player2  group  start  end  player1_fill  player2_fill\n",
       "0      1      NaN      NaN    NaN    NaN  NaN           NaN           NaN\n",
       "1      2      NaN      NaN    NaN    NaN  NaN           NaN           NaN\n",
       "2      3      3.0      2.0    NaN    NaN  NaN           3.0           2.0\n",
       "3      4      NaN      NaN    NaN    NaN  NaN           3.0           2.0\n",
       "4      5      NaN      NaN    NaN    NaN  NaN           3.0           2.0"
      ]
     },
     "execution_count": 23,
     "metadata": {},
     "output_type": "execute_result"
    }
   ],
   "source": [
    "all_df.head()"
   ]
  },
  {
   "cell_type": "code",
   "execution_count": 24,
   "id": "5bcf537e-4223-41c0-a75f-aabc132d6aed",
   "metadata": {},
   "outputs": [
    {
     "data": {
      "text/html": [
       "<div>\n",
       "<style scoped>\n",
       "    .dataframe tbody tr th:only-of-type {\n",
       "        vertical-align: middle;\n",
       "    }\n",
       "\n",
       "    .dataframe tbody tr th {\n",
       "        vertical-align: top;\n",
       "    }\n",
       "\n",
       "    .dataframe thead th {\n",
       "        text-align: right;\n",
       "    }\n",
       "</style>\n",
       "<table border=\"1\" class=\"dataframe\">\n",
       "  <thead>\n",
       "    <tr style=\"text-align: right;\">\n",
       "      <th></th>\n",
       "      <th>frame</th>\n",
       "      <th>player1</th>\n",
       "      <th>player2</th>\n",
       "      <th>group</th>\n",
       "      <th>start</th>\n",
       "      <th>end</th>\n",
       "      <th>player1_fill</th>\n",
       "      <th>player2_fill</th>\n",
       "      <th>player_ids</th>\n",
       "    </tr>\n",
       "  </thead>\n",
       "  <tbody>\n",
       "    <tr>\n",
       "      <th>0</th>\n",
       "      <td>1</td>\n",
       "      <td>NaN</td>\n",
       "      <td>NaN</td>\n",
       "      <td>NaN</td>\n",
       "      <td>NaN</td>\n",
       "      <td>NaN</td>\n",
       "      <td>NaN</td>\n",
       "      <td>NaN</td>\n",
       "      <td>[0, 1, 2, 3, 4, 5, 6, 7]</td>\n",
       "    </tr>\n",
       "    <tr>\n",
       "      <th>1</th>\n",
       "      <td>2</td>\n",
       "      <td>NaN</td>\n",
       "      <td>NaN</td>\n",
       "      <td>NaN</td>\n",
       "      <td>NaN</td>\n",
       "      <td>NaN</td>\n",
       "      <td>NaN</td>\n",
       "      <td>NaN</td>\n",
       "      <td>[0, 1, 2, 3, 4, 5]</td>\n",
       "    </tr>\n",
       "    <tr>\n",
       "      <th>2</th>\n",
       "      <td>3</td>\n",
       "      <td>3.0</td>\n",
       "      <td>2.0</td>\n",
       "      <td>NaN</td>\n",
       "      <td>NaN</td>\n",
       "      <td>NaN</td>\n",
       "      <td>3.0</td>\n",
       "      <td>2.0</td>\n",
       "      <td>[2, 1, 3, 4]</td>\n",
       "    </tr>\n",
       "    <tr>\n",
       "      <th>3</th>\n",
       "      <td>4</td>\n",
       "      <td>NaN</td>\n",
       "      <td>NaN</td>\n",
       "      <td>NaN</td>\n",
       "      <td>NaN</td>\n",
       "      <td>NaN</td>\n",
       "      <td>3.0</td>\n",
       "      <td>2.0</td>\n",
       "      <td>[2, 3, 1, 4]</td>\n",
       "    </tr>\n",
       "    <tr>\n",
       "      <th>4</th>\n",
       "      <td>5</td>\n",
       "      <td>NaN</td>\n",
       "      <td>NaN</td>\n",
       "      <td>NaN</td>\n",
       "      <td>NaN</td>\n",
       "      <td>NaN</td>\n",
       "      <td>3.0</td>\n",
       "      <td>2.0</td>\n",
       "      <td>[3, 2, 1]</td>\n",
       "    </tr>\n",
       "    <tr>\n",
       "      <th>...</th>\n",
       "      <td>...</td>\n",
       "      <td>...</td>\n",
       "      <td>...</td>\n",
       "      <td>...</td>\n",
       "      <td>...</td>\n",
       "      <td>...</td>\n",
       "      <td>...</td>\n",
       "      <td>...</td>\n",
       "      <td>...</td>\n",
       "    </tr>\n",
       "    <tr>\n",
       "      <th>109270</th>\n",
       "      <td>109271</td>\n",
       "      <td>NaN</td>\n",
       "      <td>NaN</td>\n",
       "      <td>NaN</td>\n",
       "      <td>NaN</td>\n",
       "      <td>NaN</td>\n",
       "      <td>-1.0</td>\n",
       "      <td>6495.0</td>\n",
       "      <td>[]</td>\n",
       "    </tr>\n",
       "    <tr>\n",
       "      <th>109271</th>\n",
       "      <td>109272</td>\n",
       "      <td>NaN</td>\n",
       "      <td>NaN</td>\n",
       "      <td>NaN</td>\n",
       "      <td>NaN</td>\n",
       "      <td>NaN</td>\n",
       "      <td>-1.0</td>\n",
       "      <td>6495.0</td>\n",
       "      <td>[]</td>\n",
       "    </tr>\n",
       "    <tr>\n",
       "      <th>109272</th>\n",
       "      <td>109273</td>\n",
       "      <td>NaN</td>\n",
       "      <td>NaN</td>\n",
       "      <td>NaN</td>\n",
       "      <td>NaN</td>\n",
       "      <td>NaN</td>\n",
       "      <td>-1.0</td>\n",
       "      <td>6495.0</td>\n",
       "      <td>[]</td>\n",
       "    </tr>\n",
       "    <tr>\n",
       "      <th>109273</th>\n",
       "      <td>109274</td>\n",
       "      <td>NaN</td>\n",
       "      <td>NaN</td>\n",
       "      <td>NaN</td>\n",
       "      <td>NaN</td>\n",
       "      <td>NaN</td>\n",
       "      <td>-1.0</td>\n",
       "      <td>6495.0</td>\n",
       "      <td>[]</td>\n",
       "    </tr>\n",
       "    <tr>\n",
       "      <th>109274</th>\n",
       "      <td>109275</td>\n",
       "      <td>NaN</td>\n",
       "      <td>NaN</td>\n",
       "      <td>NaN</td>\n",
       "      <td>NaN</td>\n",
       "      <td>NaN</td>\n",
       "      <td>-1.0</td>\n",
       "      <td>6495.0</td>\n",
       "      <td>[]</td>\n",
       "    </tr>\n",
       "  </tbody>\n",
       "</table>\n",
       "<p>109275 rows × 9 columns</p>\n",
       "</div>"
      ],
      "text/plain": [
       "         frame  player1  player2  group  start  end  player1_fill  \\\n",
       "0            1      NaN      NaN    NaN    NaN  NaN           NaN   \n",
       "1            2      NaN      NaN    NaN    NaN  NaN           NaN   \n",
       "2            3      3.0      2.0    NaN    NaN  NaN           3.0   \n",
       "3            4      NaN      NaN    NaN    NaN  NaN           3.0   \n",
       "4            5      NaN      NaN    NaN    NaN  NaN           3.0   \n",
       "...        ...      ...      ...    ...    ...  ...           ...   \n",
       "109270  109271      NaN      NaN    NaN    NaN  NaN          -1.0   \n",
       "109271  109272      NaN      NaN    NaN    NaN  NaN          -1.0   \n",
       "109272  109273      NaN      NaN    NaN    NaN  NaN          -1.0   \n",
       "109273  109274      NaN      NaN    NaN    NaN  NaN          -1.0   \n",
       "109274  109275      NaN      NaN    NaN    NaN  NaN          -1.0   \n",
       "\n",
       "        player2_fill                player_ids  \n",
       "0                NaN  [0, 1, 2, 3, 4, 5, 6, 7]  \n",
       "1                NaN        [0, 1, 2, 3, 4, 5]  \n",
       "2                2.0              [2, 1, 3, 4]  \n",
       "3                2.0              [2, 3, 1, 4]  \n",
       "4                2.0                 [3, 2, 1]  \n",
       "...              ...                       ...  \n",
       "109270        6495.0                        []  \n",
       "109271        6495.0                        []  \n",
       "109272        6495.0                        []  \n",
       "109273        6495.0                        []  \n",
       "109274        6495.0                        []  \n",
       "\n",
       "[109275 rows x 9 columns]"
      ]
     },
     "execution_count": 24,
     "metadata": {},
     "output_type": "execute_result"
    }
   ],
   "source": [
    "merged_df = pd.merge(all_df,deepsort_player_ids_df, left_on='frame', right_on='frame_id',how='left').drop(columns=['frame_id'])\n",
    "merged_df"
   ]
  },
  {
   "cell_type": "code",
   "execution_count": 25,
   "id": "7fcd04bb-92e3-4767-8eca-194ef9f823f8",
   "metadata": {},
   "outputs": [],
   "source": [
    "def is_exist(df:pd.Series,column_name:str):\n",
    "    \"\"\"存在するかチェック\"\"\"\n",
    "    return df[column_name+'_fill'] in (set(df['player_ids']))"
   ]
  },
  {
   "cell_type": "code",
   "execution_count": 26,
   "id": "8c4d7e42-286a-48ba-bd96-015b9a58984a",
   "metadata": {},
   "outputs": [
    {
     "data": {
      "application/vnd.jupyter.widget-view+json": {
       "model_id": "f531e48e935446b48816e9dab216a6fc",
       "version_major": 2,
       "version_minor": 0
      },
      "text/plain": [
       "  0%|          | 0/109275 [00:00<?, ?it/s]"
      ]
     },
     "metadata": {},
     "output_type": "display_data"
    },
    {
     "name": "stdout",
     "output_type": "stream",
     "text": [
      "CPU times: user 1min 29s, sys: 122 ms, total: 1min 29s\n",
      "Wall time: 1min 29s\n"
     ]
    }
   ],
   "source": [
    "%%time\n",
    "_tmp_df = merged_df.copy()\n",
    "progress_bar = tqdm(range(len(_tmp_df)),total=len(_tmp_df))\n",
    "for i in progress_bar:\n",
    "    row_df = _tmp_df.iloc[i,:]\n",
    "    for c in ['player1','player2']:\n",
    "        _tmp_df.loc[i,c+'_exist'] = 1 if is_exist(row_df,c) else 0\n",
    "    \n",
    "_tmp_df['player12_exist'] = (_tmp_df['player1_exist'] + _tmp_df['player2_exist']).apply(lambda x: 1 if x>=2 else 0)\n",
    "_tmp_df['player_nexist'] = (_tmp_df['player1_exist'] + _tmp_df['player2_exist']).apply(lambda x: 1 if x<=0 else 0)\n",
    "\n"
   ]
  },
  {
   "cell_type": "code",
   "execution_count": 27,
   "id": "e01f527c-930d-44af-bba5-a41b79ec443b",
   "metadata": {},
   "outputs": [
    {
     "data": {
      "text/html": [
       "<div>\n",
       "<style scoped>\n",
       "    .dataframe tbody tr th:only-of-type {\n",
       "        vertical-align: middle;\n",
       "    }\n",
       "\n",
       "    .dataframe tbody tr th {\n",
       "        vertical-align: top;\n",
       "    }\n",
       "\n",
       "    .dataframe thead th {\n",
       "        text-align: right;\n",
       "    }\n",
       "</style>\n",
       "<table border=\"1\" class=\"dataframe\">\n",
       "  <thead>\n",
       "    <tr style=\"text-align: right;\">\n",
       "      <th></th>\n",
       "      <th>sum</th>\n",
       "      <th>mean</th>\n",
       "    </tr>\n",
       "  </thead>\n",
       "  <tbody>\n",
       "    <tr>\n",
       "      <th>count</th>\n",
       "      <td>155.000000</td>\n",
       "      <td>155.000000</td>\n",
       "    </tr>\n",
       "    <tr>\n",
       "      <th>mean</th>\n",
       "      <td>3.638710</td>\n",
       "      <td>0.767452</td>\n",
       "    </tr>\n",
       "    <tr>\n",
       "      <th>std</th>\n",
       "      <td>2.215306</td>\n",
       "      <td>0.241508</td>\n",
       "    </tr>\n",
       "    <tr>\n",
       "      <th>min</th>\n",
       "      <td>1.000000</td>\n",
       "      <td>0.200000</td>\n",
       "    </tr>\n",
       "    <tr>\n",
       "      <th>25%</th>\n",
       "      <td>2.000000</td>\n",
       "      <td>0.591667</td>\n",
       "    </tr>\n",
       "    <tr>\n",
       "      <th>50%</th>\n",
       "      <td>3.000000</td>\n",
       "      <td>0.800000</td>\n",
       "    </tr>\n",
       "    <tr>\n",
       "      <th>75%</th>\n",
       "      <td>5.000000</td>\n",
       "      <td>1.000000</td>\n",
       "    </tr>\n",
       "    <tr>\n",
       "      <th>max</th>\n",
       "      <td>11.000000</td>\n",
       "      <td>1.000000</td>\n",
       "    </tr>\n",
       "  </tbody>\n",
       "</table>\n",
       "</div>"
      ],
      "text/plain": [
       "              sum        mean\n",
       "count  155.000000  155.000000\n",
       "mean     3.638710    0.767452\n",
       "std      2.215306    0.241508\n",
       "min      1.000000    0.200000\n",
       "25%      2.000000    0.591667\n",
       "50%      3.000000    0.800000\n",
       "75%      5.000000    1.000000\n",
       "max     11.000000    1.000000"
      ]
     },
     "execution_count": 27,
     "metadata": {},
     "output_type": "execute_result"
    }
   ],
   "source": [
    "_tmp_df.groupby('group')['player12_exist'].agg(['sum','mean']).describe()"
   ]
  },
  {
   "cell_type": "code",
   "execution_count": 28,
   "id": "e44ab446-a9c2-4cd3-9542-0ba92bd29581",
   "metadata": {},
   "outputs": [],
   "source": [
    "groups_ids = _tmp_df.groupby('group').groups"
   ]
  },
  {
   "cell_type": "code",
   "execution_count": 29,
   "id": "3a4af5b7-7886-43db-ae1f-06730a042601",
   "metadata": {},
   "outputs": [],
   "source": [
    "player1_exist_list = []\n",
    "player2_exist_list = []\n",
    "player12_exist_list = []\n",
    "player_nexist_list = []\n",
    "\n",
    "\n",
    "for k,v in groups_ids.items():\n",
    "    group_df = _tmp_df.iloc[v,:]\n",
    "    group_df = group_df[['player1_exist','player2_exist','player12_exist','player_nexist']].mean()\n",
    "    a = group_df.iloc[0]\n",
    "    b = group_df.iloc[1]\n",
    "    c = group_df.iloc[2]\n",
    "    d = group_df.iloc[3]\n",
    "    player1_exist_list.append(a)\n",
    "    player2_exist_list.append(b)\n",
    "    player12_exist_list.append(c)\n",
    "    player_nexist_list.append(d)\n",
    "    "
   ]
  },
  {
   "cell_type": "code",
   "execution_count": 30,
   "id": "20eb03ae-9306-403b-bc3d-8b82c34fb7c4",
   "metadata": {},
   "outputs": [
    {
     "data": {
      "image/png": "[encoded data removed]",
      "text/plain": [
       "<Figure size 432x288 with 1 Axes>"
      ]
     },
     "metadata": {
      "needs_background": "light"
     },
     "output_type": "display_data"
    }
   ],
   "source": [
    "fig = plt.figure()\n",
    "ax = fig.add_subplot(111)\n",
    "ax.violinplot([player1_exist_list,player2_exist_list,player12_exist_list,player_nexist_list])\n",
    "ax.set_xticks([1,2,3,4])\n",
    "ax.set_xticklabels(['1','2','12','-'])\n",
    "plt.show()"
   ]
  },
  {
   "cell_type": "code",
   "execution_count": 31,
   "id": "f7039d1a-75f6-4d2e-85bb-ee997700ec95",
   "metadata": {},
   "outputs": [],
   "source": [
    "_tt = [[a,b,c,d] for a,b,c,d in zip(player1_exist_list,player2_exist_list,player12_exist_list,player_nexist_list)]"
   ]
  },
  {
   "cell_type": "code",
   "execution_count": 32,
   "id": "7a331eff-8db0-42ee-8595-dd8aed1153e9",
   "metadata": {},
   "outputs": [
    {
     "data": {
      "image/png": "[encoded data removed]",
      "text/plain": [
       "<Figure size 432x288 with 1 Axes>"
      ]
     },
     "metadata": {
      "needs_background": "light"
     },
     "output_type": "display_data"
    }
   ],
   "source": [
    "fig = plt.figure()\n",
    "ax = fig.add_subplot(111)\n",
    "ax.plot(_tt)\n",
    "plt.show()"
   ]
  },
  {
   "cell_type": "code",
   "execution_count": 33,
   "id": "80b87f73-cf11-4b3d-9468-ebea60ce9415",
   "metadata": {},
   "outputs": [
    {
     "data": {
      "text/plain": [
       "<matplotlib.legend.Legend at 0x7f61e9be5f98>"
      ]
     },
     "execution_count": 33,
     "metadata": {},
     "output_type": "execute_result"
    },
    {
     "data": {
      "image/png": "[encoded data removed]",
      "text/plain": [
       "<Figure size 432x288 with 1 Axes>"
      ]
     },
     "metadata": {
      "needs_background": "light"
     },
     "output_type": "display_data"
    }
   ],
   "source": [
    "fig = plt.figure()\n",
    "ax = fig.add_subplot(111)\n",
    "\n",
    "for i,a in enumerate([player1_exist_list,player2_exist_list,player12_exist_list,player_nexist_list]):\n",
    "    ax.bar(height=sum(a)/len(a),x='=',label=i)\n",
    "ax.legend()"
   ]
  },
  {
   "cell_type": "markdown",
   "id": "9ea58524-9246-43e5-970f-0c7c76d09cfa",
   "metadata": {},
   "source": [
    "# 適当に動画をサンプリングする"
   ]
  },
  {
   "cell_type": "code",
   "execution_count": 34,
   "id": "d434c33a-4bfd-4c39-8fe3-ab6dec750916",
   "metadata": {},
   "outputs": [
    {
     "ename": "NameError",
     "evalue": "name 'frame_df' is not defined",
     "output_type": "error",
     "traceback": [
      "\u001b[0;31m---------------------------------------------------------------------------\u001b[0m",
      "\u001b[0;31mNameError\u001b[0m                                 Traceback (most recent call last)",
      "\u001b[0;32m<ipython-input-34-62c46e257f7e>\u001b[0m in \u001b[0;36m<module>\u001b[0;34m\u001b[0m\n\u001b[0;32m----> 1\u001b[0;31m \u001b[0mframe_df\u001b[0m\u001b[0;34m\u001b[0m\u001b[0;34m\u001b[0m\u001b[0m\n\u001b[0m",
      "\u001b[0;31mNameError\u001b[0m: name 'frame_df' is not defined"
     ]
    }
   ],
   "source": [
    "frame_df"
   ]
  },
  {
   "cell_type": "code",
   "execution_count": null,
   "id": "d3baf7ef-cb2e-43fa-8419-21905dc2561a",
   "metadata": {},
   "outputs": [],
   "source": [
    "frame_df"
   ]
  },
  {
   "cell_type": "code",
   "execution_count": null,
   "id": "89ffb676-489b-438c-8671-1ecd36a68e21",
   "metadata": {},
   "outputs": [],
   "source": [
    "frame_df['start'] = frame_df['frame'].apply(lambda x: frame2sec(x)/1000)\n",
    "frame_df['end'] = frame_df['frame'].apply(lambda x: frame2sec(x)/1000)"
   ]
  },
  {
   "cell_type": "code",
   "execution_count": 39,
   "id": "3e38ff66-122c-44f3-8f24-51cb7c8dfd76",
   "metadata": {},
   "outputs": [],
   "source": [
    "_tmp_df['new_start'] = _tmp_df['frame'].apply(lambda x: frame2sec(x,fps=25))\n"
   ]
  },
  {
   "cell_type": "code",
   "execution_count": 40,
   "id": "e938f1f4-9336-49a9-9165-3b873cb022b0",
   "metadata": {},
   "outputs": [
    {
     "data": {
      "text/html": [
       "<div>\n",
       "<style scoped>\n",
       "    .dataframe tbody tr th:only-of-type {\n",
       "        vertical-align: middle;\n",
       "    }\n",
       "\n",
       "    .dataframe tbody tr th {\n",
       "        vertical-align: top;\n",
       "    }\n",
       "\n",
       "    .dataframe thead th {\n",
       "        text-align: right;\n",
       "    }\n",
       "</style>\n",
       "<table border=\"1\" class=\"dataframe\">\n",
       "  <thead>\n",
       "    <tr style=\"text-align: right;\">\n",
       "      <th></th>\n",
       "      <th>frame</th>\n",
       "      <th>player1</th>\n",
       "      <th>player2</th>\n",
       "      <th>group</th>\n",
       "      <th>start</th>\n",
       "      <th>end</th>\n",
       "      <th>player1_fill</th>\n",
       "      <th>player2_fill</th>\n",
       "      <th>player_ids</th>\n",
       "      <th>player1_exist</th>\n",
       "      <th>player2_exist</th>\n",
       "      <th>player12_exist</th>\n",
       "      <th>player_nexist</th>\n",
       "      <th>new_start</th>\n",
       "    </tr>\n",
       "  </thead>\n",
       "  <tbody>\n",
       "    <tr>\n",
       "      <th>2329</th>\n",
       "      <td>2330</td>\n",
       "      <td>NaN</td>\n",
       "      <td>NaN</td>\n",
       "      <td>0.0</td>\n",
       "      <td>77.761265</td>\n",
       "      <td>77.861253</td>\n",
       "      <td>125.0</td>\n",
       "      <td>122.0</td>\n",
       "      <td>[125, 122, 60, 124]</td>\n",
       "      <td>1.0</td>\n",
       "      <td>1.0</td>\n",
       "      <td>1</td>\n",
       "      <td>0</td>\n",
       "      <td>93.20</td>\n",
       "    </tr>\n",
       "    <tr>\n",
       "      <th>2348</th>\n",
       "      <td>2349</td>\n",
       "      <td>NaN</td>\n",
       "      <td>NaN</td>\n",
       "      <td>0.0</td>\n",
       "      <td>78.395459</td>\n",
       "      <td>78.470450</td>\n",
       "      <td>125.0</td>\n",
       "      <td>122.0</td>\n",
       "      <td>[122, 60, 124, 125]</td>\n",
       "      <td>1.0</td>\n",
       "      <td>1.0</td>\n",
       "      <td>1</td>\n",
       "      <td>0</td>\n",
       "      <td>93.96</td>\n",
       "    </tr>\n",
       "    <tr>\n",
       "      <th>2365</th>\n",
       "      <td>2366</td>\n",
       "      <td>NaN</td>\n",
       "      <td>NaN</td>\n",
       "      <td>0.0</td>\n",
       "      <td>78.978720</td>\n",
       "      <td>79.045378</td>\n",
       "      <td>125.0</td>\n",
       "      <td>122.0</td>\n",
       "      <td>[60, 125, 124]</td>\n",
       "      <td>1.0</td>\n",
       "      <td>0.0</td>\n",
       "      <td>0</td>\n",
       "      <td>0</td>\n",
       "      <td>94.64</td>\n",
       "    </tr>\n",
       "    <tr>\n",
       "      <th>2383</th>\n",
       "      <td>2384</td>\n",
       "      <td>NaN</td>\n",
       "      <td>NaN</td>\n",
       "      <td>0.0</td>\n",
       "      <td>79.561053</td>\n",
       "      <td>79.602715</td>\n",
       "      <td>125.0</td>\n",
       "      <td>126.0</td>\n",
       "      <td>[60, 124, 125]</td>\n",
       "      <td>1.0</td>\n",
       "      <td>0.0</td>\n",
       "      <td>0</td>\n",
       "      <td>0</td>\n",
       "      <td>95.36</td>\n",
       "    </tr>\n",
       "  </tbody>\n",
       "</table>\n",
       "</div>"
      ],
      "text/plain": [
       "      frame  player1  player2  group      start        end  player1_fill  \\\n",
       "2329   2330      NaN      NaN    0.0  77.761265  77.861253         125.0   \n",
       "2348   2349      NaN      NaN    0.0  78.395459  78.470450         125.0   \n",
       "2365   2366      NaN      NaN    0.0  78.978720  79.045378         125.0   \n",
       "2383   2384      NaN      NaN    0.0  79.561053  79.602715         125.0   \n",
       "\n",
       "      player2_fill           player_ids  player1_exist  player2_exist  \\\n",
       "2329         122.0  [125, 122, 60, 124]            1.0            1.0   \n",
       "2348         122.0  [122, 60, 124, 125]            1.0            1.0   \n",
       "2365         122.0       [60, 125, 124]            1.0            0.0   \n",
       "2383         126.0       [60, 124, 125]            1.0            0.0   \n",
       "\n",
       "      player12_exist  player_nexist  new_start  \n",
       "2329               1              0      93.20  \n",
       "2348               1              0      93.96  \n",
       "2365               0              0      94.64  \n",
       "2383               0              0      95.36  "
      ]
     },
     "execution_count": 40,
     "metadata": {},
     "output_type": "execute_result"
    }
   ],
   "source": [
    "idxs = _tmp_df[_tmp_df['group']==0].index\n",
    "_tmp_df.iloc[idxs]"
   ]
  },
  {
   "cell_type": "code",
   "execution_count": 41,
   "id": "226b8f6a-5220-4339-b784-cd2dfad59a46",
   "metadata": {
    "tags": []
   },
   "outputs": [],
   "source": [
    "input_file = str(output_file_path/'output.mp4')\n",
    "def wrap(i):\n",
    "    tar_ids = groups_ids[i]\n",
    "    frame_df = _tmp_df.iloc[tar_ids,:]\n",
    "    end_time:float = frame2sec(frame_df['frame'].max(),fps=25) + 5\n",
    "    start_time:float = frame2sec(frame_df['frame'].min(),fps=25) - 5\n",
    "    v_frames = sec2frame(end_time-start_time,fps=25)\n",
    "    output_file = str(output_file_path/f'{i}.mp4')\n",
    "    # if Path(output_file).exists():\n",
    "    #     # print(f'{output_file} is exist')\n",
    "    #     return \n",
    "    # command = command = f'ffmpeg -ss {start_frame} -i {input_file} -frames {v_frames} {output_file} -y'\n",
    "    command = command = f'ffmpeg -y -ss {start_time} -i {input_file} -frames {v_frames}  {output_file}'\n",
    "\n",
    "    print(start_time, end_time, v_frames)\n",
    "    subprocess.call(command, shell=True)"
   ]
  },
  {
   "cell_type": "code",
   "execution_count": 42,
   "id": "0972cb33-2e72-4b66-91a6-b91fc82491c4",
   "metadata": {},
   "outputs": [
    {
     "data": {
      "application/vnd.jupyter.widget-view+json": {
       "model_id": "95c34475e8c442ca87d969a337381a7e",
       "version_major": 2,
       "version_minor": 0
      },
      "text/plain": [
       "  0%|          | 0/155 [00:00<?, ?it/s]"
      ]
     },
     "metadata": {},
     "output_type": "display_data"
    },
    {
     "name": "stdout",
     "output_type": "stream",
     "text": [
      "88.2183.36104.72125.68 241.6164.4216.4 278.2100.36  145.48  259.72   333.64253.16197.44176.48303291.56231.84138.48 301.64117.2  \n",
      "  271.72  157.44 301 351321.52319  385312\n",
      " \n",
      "289300\n",
      "299\n",
      "334\n",
      " \n",
      "\n",
      "\n",
      " 496\n",
      "344.44 270\n",
      "\n",
      "361.04 373.96 322\n",
      "384.4 395.08 267\n",
      "404.04 416.6 314\n",
      "429.16 443.44 356\n",
      "455.92 465.92 250\n",
      "468.12 482.16 351496.68 \n",
      "508.08 284\n",
      "528.32 547.8 486\n",
      "604.32 618.2 346\n",
      "627.4 640.0 315\n",
      "655.68 666.32 266\n",
      "670.6 687.08 412\n",
      "699.4 717.8 459\n",
      "728.0 738.92 272\n",
      "754.12 766.16 300\n",
      "772.56 784.36 295\n",
      "791.8 803.6 295\n",
      "811.04 823.64 315\n",
      "832.84 851.12 456865.0 876.72\n",
      " 293\n",
      "891.8 902.64 271\n",
      "908.96 920.08 278\n",
      "934.72 946.84 303\n",
      "953.08 965.16 301\n",
      "972.12 984.36 306\n",
      "992.56 1004.64 302\n",
      "1023.1199999999999 1033.96 271\n",
      "1033.32 1047.2 347\n",
      "1092.6 1103.32 268\n",
      "1106.52 1119.16 316\n",
      "1134.68 1146.56 296\n",
      "1156.24 1166.24 250\n",
      "1168.0 1182.76 368\n",
      "1194.88 1204.88 250\n",
      "1205.28 1218.08 319\n",
      "1229.24 1242.04 319\n",
      "1254.68 1267.68 325\n",
      "1276.76 1290.64 347\n",
      "1299.76 1311.04 281\n",
      "1324.08 1338.0 348\n",
      "1350.28 1362.32 300\n",
      "1371.72 1388.76 425\n",
      "1408.88 1420.96 301\n",
      "1432.56 1459.4 1444.081470.24  287270\n",
      "\n",
      "1473.36 1484.68 283\n",
      "1491.44 1502.44 275\n",
      "1505.24 1516.48 281\n",
      "1525.44 1540.04 364\n",
      "1561.481594.4 1575.0  1605.32337 \n",
      "272\n",
      "1662.28 1674.92 316\n",
      "1678.36 1699.0 516\n",
      "1713.04 1739.64 1751.281726.36  290\n",
      "332\n",
      "1760.12 1772.96 321\n",
      "1783.36 1794.76 285\n",
      "1811.04 1826.16 378\n",
      "1845.84 1859.08 331\n",
      "1874.64 1886.56 297\n",
      "1898.16 1909.76 289\n",
      "1923.52 1935.24 293\n",
      "1950.72 1964.52 344\n",
      "1982.92 1995.48 313\n",
      "2006.84 2017.6 268\n",
      "2026.64 2038.4 293\n",
      "2053.32 2063.32 250\n",
      "2069.6 2082.72 327\n",
      "2102.24 2113.84 290\n",
      "2174.76 2187.68 322\n",
      "2209.96 2221.6 290\n",
      "2278.72 2292.6 347\n",
      "2298.48 2310.76 307\n",
      "2325.44 2337.88 311\n",
      "2350.44 2365.56 377\n",
      "2382.84 2394.4 288\n",
      "2405.76 2416.8 275\n",
      "2433.4 2445.24 295\n",
      "2456.04 2469.24 329\n",
      "2483.52 2495.36 296\n",
      "2504.44 2516.52 301\n",
      "2527.72 2539.28 289\n",
      "2548.64 2560.88 306\n",
      "2579.96 2589.96 2502589.2\n",
      " 2601.6 310\n",
      "2606.72 2617.68 274\n",
      "2616.36 2628.72 308\n",
      "2632.28 2642.84 263\n",
      "2648.76 2660.6 295\n",
      "2671.6 2686.12 362\n",
      "2698.68 2711.88 330\n",
      "2734.4 2748.92 362\n",
      "2803.96 2815.76 295\n",
      "2831.08 2843.68 314\n",
      "2860.72 2872.6 297\n",
      "2885.56 2900.12 363\n",
      "2916.8 2928.16 283\n",
      "2996.44 3007.64 279\n",
      "3019.12 3030.6 287\n",
      "3038.24 3050.68 311\n",
      "3064.0 3075.24 280\n",
      "3093.84 3106.96 327\n",
      "3118.08 3130.8 318\n",
      "3149.2 3160.72 287\n",
      "3170.4 3184.0 339\n",
      "3198.96 3215.44 412\n",
      "3229.4 3240.84 286\n",
      "3258.12 3269.96 296\n",
      "3281.92 3292.92 275\n",
      "3291.76 3301.76 250\n",
      "3303.68 3315.28 290\n",
      "3337.16 3350.72 338\n",
      "3362.4 3380.28 447\n",
      "3395.48 3407.04 288\n",
      "3417.16 3430.16 325\n",
      "3447.12 3458.0 272\n",
      "3474.36 3486.44 301\n",
      "3511.56 3523.36 295\n",
      "3538.72 3550.04 283\n",
      "3570.44 3584.0 338\n",
      "3600.32 3612.8 312\n",
      "3672.96 3686.96 3503696.96\n",
      " 3708.76 295\n",
      "3720.32 3733.28 324\n",
      "3749.04 3763.84 370\n",
      "3780.16 3792.72 313\n",
      "3805.32 3820.12 369\n",
      "3845.04 3856.16 277\n",
      "3867.72 3881.16 3363910.08\n",
      " 3921.52 286\n",
      "3929.48 3941.76 307\n",
      "3959.12 3971.2 301\n",
      "3986.88 3998.52 290\n",
      "4015.72 4028.76 326\n",
      "4044.12 4057.92 345\n",
      "4077.84 4090.88 325\n",
      "4111.44 4128.4 424\n",
      "4150.08 4161.48 284\n",
      "4177.24 4189.6 309\n",
      "4212.28 4223.48 279\n",
      "4244.04 4256.24 304\n",
      "4282.04 4295.56 338\n",
      "4317.68 4330.2 312\n"
     ]
    }
   ],
   "source": [
    "processes = multiprocessing.cpu_count() \n",
    "progress = tqdm(range(len(groups_ids)))\n",
    "\n",
    "\n",
    "\n",
    "with multiprocessing.Pool(processes=processes) as pool:\n",
    "    for _ in pool.imap(wrap, range(len(groups_ids))):\n",
    "        progress.update(1)"
   ]
  },
  {
   "cell_type": "code",
   "execution_count": null,
   "id": "0e2514ea-5dbc-40c3-a1de-87ddd354572d",
   "metadata": {
    "tags": []
   },
   "outputs": [],
   "source": [
    "# input_file = str(output_file_path/'output.mp4')\n",
    "# progress = tqdm(range(len(groups_ids)))\n",
    "# for i in progress:\n",
    "#     tar_ids = groups_ids[i]\n",
    "#     frame_df = _tmp_df.iloc[tar_ids,:]['frame']\n",
    "#     end_frame = int(frame2sec(frame_df.max()))//1000\n",
    "#     start_frame = int(frame2sec(frame_df.min()))//1000\n",
    "#     v_frames = abs(end_frame-start_frame)\n",
    "#     output_file = str(output_file_path/f'{i}.mp4')\n",
    "#     command = command = f'ffmpeg -i {input_file} -ss {start_frame} -to {end_frame} {output_file} -y'\n",
    "#     subprocess.call(command, shell=True)\n",
    "    \n",
    "    "
   ]
  }
 ],
 "metadata": {
  "kernelspec": {
   "display_name": "Python 3",
   "language": "python",
   "name": "python3"
  },
  "language_info": {
   "codemirror_mode": {
    "name": "ipython",
    "version": 3
   },
   "file_extension": ".py",
   "mimetype": "text/x-python",
   "name": "python",
   "nbconvert_exporter": "python",
   "pygments_lexer": "ipython3",
   "version": "3.6.8"
  }
 },
 "nbformat": 4,
 "nbformat_minor": 5
}
