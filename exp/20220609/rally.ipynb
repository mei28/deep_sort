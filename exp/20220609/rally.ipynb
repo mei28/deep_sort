{
 "cells": [
  {
   "cell_type": "markdown",
   "id": "954b788a-dc10-4047-bcf5-b158a1a63a47",
   "metadata": {},
   "source": [
    "# ぷれいちゅうでどれくらい取れているかを計測"
   ]
  },
  {
   "cell_type": "code",
   "execution_count": 1,
   "id": "7adbf698-9a62-42b7-9d16-7bc3bf5ab51c",
   "metadata": {},
   "outputs": [],
   "source": [
    "import sys\n",
    "import os\n",
    "import pandas as pd\n",
    "import matplotlib.pyplot as plt\n",
    "import seaborn as sns\n",
    "from pathlib import Path\n",
    "import numpy as np\n",
    "\n",
    "sys.path.append('/home/mei/Documents/deep_sort/exp/20220609/utils')\n",
    "\n",
    "from utils.frame import sec2frame\n",
    "from utils.load_data import (load_annotated_trackret_file,\n",
    "                             get_player_id_list,\n",
    "                             load_pose_data,\n",
    "                             load_bbox_data\n",
    "                            )\n",
    "from utils.matching import match_id_by_iou\n",
    "from utils.frame import frame2sec\n",
    "from IPython.core.debugger import Pdb\n",
    "import multiprocessing\n",
    "from multiprocessing import Manager, Process\n",
    "from tqdm.notebook import tqdm\n",
    "import pickle\n",
    "import subprocess"
   ]
  },
  {
   "cell_type": "code",
   "execution_count": 2,
   "id": "6086db6d-332d-4172-9ced-170d5fe58b61",
   "metadata": {},
   "outputs": [],
   "source": [
    "ist = Pdb().set_trace"
   ]
  },
  {
   "cell_type": "code",
   "execution_count": 3,
   "id": "4effbc52-39f2-446b-8c67-8984f2aaed36",
   "metadata": {},
   "outputs": [],
   "source": [
    "data_file_path = Path(os.getcwd())/'data'\n",
    "data_name = data_file_path / 'p008_wtnb_0528.csv'\n",
    "output_file_path: str = Path(os.getcwd())/'output'"
   ]
  },
  {
   "cell_type": "code",
   "execution_count": 4,
   "id": "cfe94789-31f5-418e-9b15-6b1645dfe8f3",
   "metadata": {},
   "outputs": [
    {
     "data": {
      "text/html": [
       "<div>\n",
       "<style scoped>\n",
       "    .dataframe tbody tr th:only-of-type {\n",
       "        vertical-align: middle;\n",
       "    }\n",
       "\n",
       "    .dataframe tbody tr th {\n",
       "        vertical-align: top;\n",
       "    }\n",
       "\n",
       "    .dataframe thead th {\n",
       "        text-align: right;\n",
       "    }\n",
       "</style>\n",
       "<table border=\"1\" class=\"dataframe\">\n",
       "  <thead>\n",
       "    <tr style=\"text-align: right;\">\n",
       "      <th></th>\n",
       "      <th>start</th>\n",
       "      <th>end</th>\n",
       "      <th>labels</th>\n",
       "    </tr>\n",
       "  </thead>\n",
       "  <tbody>\n",
       "    <tr>\n",
       "      <th>0</th>\n",
       "      <td>77.761265</td>\n",
       "      <td>77.861253</td>\n",
       "      <td>OA</td>\n",
       "    </tr>\n",
       "    <tr>\n",
       "      <th>1</th>\n",
       "      <td>78.395459</td>\n",
       "      <td>78.470450</td>\n",
       "      <td>XB</td>\n",
       "    </tr>\n",
       "    <tr>\n",
       "      <th>2</th>\n",
       "      <td>78.978720</td>\n",
       "      <td>79.045378</td>\n",
       "      <td>XA</td>\n",
       "    </tr>\n",
       "    <tr>\n",
       "      <th>3</th>\n",
       "      <td>79.561053</td>\n",
       "      <td>79.602715</td>\n",
       "      <td>OB</td>\n",
       "    </tr>\n",
       "    <tr>\n",
       "      <th>4</th>\n",
       "      <td>91.541977</td>\n",
       "      <td>91.583639</td>\n",
       "      <td>OA</td>\n",
       "    </tr>\n",
       "  </tbody>\n",
       "</table>\n",
       "</div>"
      ],
      "text/plain": [
       "       start        end labels\n",
       "0  77.761265  77.861253     OA\n",
       "1  78.395459  78.470450     XB\n",
       "2  78.978720  79.045378     XA\n",
       "3  79.561053  79.602715     OB\n",
       "4  91.541977  91.583639     OA"
      ]
     },
     "execution_count": 4,
     "metadata": {},
     "output_type": "execute_result"
    }
   ],
   "source": [
    "df = pd.read_csv(data_name)\n",
    "df.head()"
   ]
  },
  {
   "cell_type": "code",
   "execution_count": 69,
   "id": "5908424b-4391-4017-81a9-e6b3737559c9",
   "metadata": {},
   "outputs": [
    {
     "data": {
      "text/html": [
       "<div>\n",
       "<style scoped>\n",
       "    .dataframe tbody tr th:only-of-type {\n",
       "        vertical-align: middle;\n",
       "    }\n",
       "\n",
       "    .dataframe tbody tr th {\n",
       "        vertical-align: top;\n",
       "    }\n",
       "\n",
       "    .dataframe thead th {\n",
       "        text-align: right;\n",
       "    }\n",
       "</style>\n",
       "<table border=\"1\" class=\"dataframe\">\n",
       "  <thead>\n",
       "    <tr style=\"text-align: right;\">\n",
       "      <th></th>\n",
       "      <th>start</th>\n",
       "      <th>end</th>\n",
       "      <th>labels</th>\n",
       "      <th>start_frame</th>\n",
       "      <th>df_diff</th>\n",
       "      <th>group</th>\n",
       "    </tr>\n",
       "  </thead>\n",
       "  <tbody>\n",
       "    <tr>\n",
       "      <th>0</th>\n",
       "      <td>77.761265</td>\n",
       "      <td>77.861253</td>\n",
       "      <td>OA</td>\n",
       "      <td>2330</td>\n",
       "      <td>NaN</td>\n",
       "      <td>0.0</td>\n",
       "    </tr>\n",
       "    <tr>\n",
       "      <th>1</th>\n",
       "      <td>78.395459</td>\n",
       "      <td>78.470450</td>\n",
       "      <td>XB</td>\n",
       "      <td>2349</td>\n",
       "      <td>15.0</td>\n",
       "      <td>0.0</td>\n",
       "    </tr>\n",
       "    <tr>\n",
       "      <th>2</th>\n",
       "      <td>78.978720</td>\n",
       "      <td>79.045378</td>\n",
       "      <td>XA</td>\n",
       "      <td>2366</td>\n",
       "      <td>15.0</td>\n",
       "      <td>0.0</td>\n",
       "    </tr>\n",
       "    <tr>\n",
       "      <th>3</th>\n",
       "      <td>79.561053</td>\n",
       "      <td>79.602715</td>\n",
       "      <td>OB</td>\n",
       "      <td>2384</td>\n",
       "      <td>15.0</td>\n",
       "      <td>0.0</td>\n",
       "    </tr>\n",
       "    <tr>\n",
       "      <th>4</th>\n",
       "      <td>91.541977</td>\n",
       "      <td>91.583639</td>\n",
       "      <td>OA</td>\n",
       "      <td>2743</td>\n",
       "      <td>299.0</td>\n",
       "      <td>1.0</td>\n",
       "    </tr>\n",
       "  </tbody>\n",
       "</table>\n",
       "</div>"
      ],
      "text/plain": [
       "       start        end labels  start_frame  df_diff  group\n",
       "0  77.761265  77.861253     OA         2330      NaN    0.0\n",
       "1  78.395459  78.470450     XB         2349     15.0    0.0\n",
       "2  78.978720  79.045378     XA         2366     15.0    0.0\n",
       "3  79.561053  79.602715     OB         2384     15.0    0.0\n",
       "4  91.541977  91.583639     OA         2743    299.0    1.0"
      ]
     },
     "execution_count": 69,
     "metadata": {},
     "output_type": "execute_result"
    }
   ],
   "source": [
    "df['start_frame']=df['start'].apply(sec2frame)\n",
    "df.head()"
   ]
  },
  {
   "cell_type": "code",
   "execution_count": 38,
   "id": "70244ed0-cd3d-4f58-92d8-1e19065534fa",
   "metadata": {},
   "outputs": [
    {
     "data": {
      "text/plain": [
       "<AxesSubplot:>"
      ]
     },
     "execution_count": 38,
     "metadata": {},
     "output_type": "execute_result"
    },
    {
     "data": {
      "image/png": "[encoded data removed]",
      "text/plain": [
       "<Figure size 432x288 with 1 Axes>"
      ]
     },
     "metadata": {
      "needs_background": "light"
     },
     "output_type": "display_data"
    }
   ],
   "source": [
    "tmp = df.copy()\n",
    "max_frame = df['start_frame'].max()+1\n",
    "height = [1  if i in df['start_frame'].to_numpy() else 0 for i in range(max_frame)]\n",
    "x = [i for i in range(max_frame)]\n",
    "\n",
    "sns.scatterplot(x=x,y=height)"
   ]
  },
  {
   "cell_type": "code",
   "execution_count": 39,
   "id": "2aa30e11-5ac9-423a-aa0f-8135d01d248c",
   "metadata": {},
   "outputs": [
    {
     "data": {
      "text/html": [
       "<div>\n",
       "<style scoped>\n",
       "    .dataframe tbody tr th:only-of-type {\n",
       "        vertical-align: middle;\n",
       "    }\n",
       "\n",
       "    .dataframe tbody tr th {\n",
       "        vertical-align: top;\n",
       "    }\n",
       "\n",
       "    .dataframe thead th {\n",
       "        text-align: right;\n",
       "    }\n",
       "</style>\n",
       "<table border=\"1\" class=\"dataframe\">\n",
       "  <thead>\n",
       "    <tr style=\"text-align: right;\">\n",
       "      <th></th>\n",
       "      <th>start</th>\n",
       "      <th>end</th>\n",
       "      <th>labels</th>\n",
       "      <th>start_frame</th>\n",
       "      <th>df_diff</th>\n",
       "      <th>group</th>\n",
       "    </tr>\n",
       "  </thead>\n",
       "  <tbody>\n",
       "    <tr>\n",
       "      <th>0</th>\n",
       "      <td>77.761265</td>\n",
       "      <td>77.861253</td>\n",
       "      <td>OA</td>\n",
       "      <td>1944</td>\n",
       "      <td>NaN</td>\n",
       "      <td>0.0</td>\n",
       "    </tr>\n",
       "    <tr>\n",
       "      <th>1</th>\n",
       "      <td>78.395459</td>\n",
       "      <td>78.470450</td>\n",
       "      <td>XB</td>\n",
       "      <td>1959</td>\n",
       "      <td>19.0</td>\n",
       "      <td>0.0</td>\n",
       "    </tr>\n",
       "    <tr>\n",
       "      <th>2</th>\n",
       "      <td>78.978720</td>\n",
       "      <td>79.045378</td>\n",
       "      <td>XA</td>\n",
       "      <td>1974</td>\n",
       "      <td>17.0</td>\n",
       "      <td>0.0</td>\n",
       "    </tr>\n",
       "    <tr>\n",
       "      <th>3</th>\n",
       "      <td>79.561053</td>\n",
       "      <td>79.602715</td>\n",
       "      <td>OB</td>\n",
       "      <td>1989</td>\n",
       "      <td>18.0</td>\n",
       "      <td>0.0</td>\n",
       "    </tr>\n",
       "    <tr>\n",
       "      <th>4</th>\n",
       "      <td>91.541977</td>\n",
       "      <td>91.583639</td>\n",
       "      <td>OA</td>\n",
       "      <td>2288</td>\n",
       "      <td>359.0</td>\n",
       "      <td>1.0</td>\n",
       "    </tr>\n",
       "    <tr>\n",
       "      <th>5</th>\n",
       "      <td>92.191896</td>\n",
       "      <td>92.250222</td>\n",
       "      <td>XB</td>\n",
       "      <td>2304</td>\n",
       "      <td>19.0</td>\n",
       "      <td>1.0</td>\n",
       "    </tr>\n",
       "    <tr>\n",
       "      <th>6</th>\n",
       "      <td>92.733496</td>\n",
       "      <td>92.800154</td>\n",
       "      <td>OA</td>\n",
       "      <td>2318</td>\n",
       "      <td>17.0</td>\n",
       "      <td>1.0</td>\n",
       "    </tr>\n",
       "    <tr>\n",
       "      <th>7</th>\n",
       "      <td>93.114926</td>\n",
       "      <td>93.164920</td>\n",
       "      <td>XB</td>\n",
       "      <td>2327</td>\n",
       "      <td>11.0</td>\n",
       "      <td>1.0</td>\n",
       "    </tr>\n",
       "    <tr>\n",
       "      <th>8</th>\n",
       "      <td>93.598199</td>\n",
       "      <td>93.656525</td>\n",
       "      <td>OA</td>\n",
       "      <td>2339</td>\n",
       "      <td>15.0</td>\n",
       "      <td>1.0</td>\n",
       "    </tr>\n",
       "    <tr>\n",
       "      <th>9</th>\n",
       "      <td>109.029614</td>\n",
       "      <td>109.071276</td>\n",
       "      <td>OB</td>\n",
       "      <td>2725</td>\n",
       "      <td>462.0</td>\n",
       "      <td>2.0</td>\n",
       "    </tr>\n",
       "  </tbody>\n",
       "</table>\n",
       "</div>"
      ],
      "text/plain": [
       "        start         end labels  start_frame  df_diff  group\n",
       "0   77.761265   77.861253     OA         1944      NaN    0.0\n",
       "1   78.395459   78.470450     XB         1959     19.0    0.0\n",
       "2   78.978720   79.045378     XA         1974     17.0    0.0\n",
       "3   79.561053   79.602715     OB         1989     18.0    0.0\n",
       "4   91.541977   91.583639     OA         2288    359.0    1.0\n",
       "5   92.191896   92.250222     XB         2304     19.0    1.0\n",
       "6   92.733496   92.800154     OA         2318     17.0    1.0\n",
       "7   93.114926   93.164920     XB         2327     11.0    1.0\n",
       "8   93.598199   93.656525     OA         2339     15.0    1.0\n",
       "9  109.029614  109.071276     OB         2725    462.0    2.0"
      ]
     },
     "execution_count": 39,
     "metadata": {},
     "output_type": "execute_result"
    }
   ],
   "source": [
    "df.head(10)"
   ]
  },
  {
   "cell_type": "code",
   "execution_count": 40,
   "id": "48e25861-fe0e-4f64-b2e5-f977dbe133c5",
   "metadata": {},
   "outputs": [
    {
     "name": "stderr",
     "output_type": "stream",
     "text": [
      "/home/mei/.pyenv/versions/3.6.8/envs/gmtracker/lib/python3.6/site-packages/seaborn/distributions.py:2619: FutureWarning: `distplot` is a deprecated function and will be removed in a future version. Please adapt your code to use either `displot` (a figure-level function with similar flexibility) or `histplot` (an axes-level function for histograms).\n",
      "  warnings.warn(msg, FutureWarning)\n"
     ]
    },
    {
     "data": {
      "image/png": "[encoded data removed]",
      "text/plain": [
       "<Figure size 432x288 with 1 Axes>"
      ]
     },
     "metadata": {
      "needs_background": "light"
     },
     "output_type": "display_data"
    }
   ],
   "source": [
    "df_diff=df['start_frame'].diff()\n",
    "sns.distplot(df_diff,bins=20)\n",
    "plt.show()"
   ]
  },
  {
   "cell_type": "code",
   "execution_count": 41,
   "id": "8105e56d-61a1-44d4-b6e7-58a71dc210bc",
   "metadata": {},
   "outputs": [
    {
     "name": "stdout",
     "output_type": "stream",
     "text": [
      "42061.714950562186\n"
     ]
    }
   ],
   "source": [
    "def OtsuScore(data,thresh):\n",
    "    \"\"\"前後のプレーの時間差から閾値となる二値を決める\"\"\"\n",
    "    w_0 = len(data[data > thresh])/len(data)\n",
    "    w_1 = len(data[data <= thresh])/len(data)\n",
    "    \n",
    "    if w_0== 0 or w_1==0:\n",
    "        return 0\n",
    "    mean_all = data.mean()\n",
    "    mean_0 = data[data>thresh].mean()\n",
    "    mean_1 = data[data<=thresh].mean()\n",
    "    \n",
    "    sigma = w_0*((mean_0-mean_all)**2) + w_1*((mean_1-mean_all)**2)\n",
    "    return sigma\n",
    "\n",
    "iters = 20000\n",
    "scores = [0] * iters\n",
    "for i in range(iters):\n",
    "    scores[i] = OtsuScore(df_diff,i)\n",
    "\n",
    "print(max(scores))"
   ]
  },
  {
   "cell_type": "code",
   "execution_count": 42,
   "id": "4e0c4ed7-78a2-4401-a164-2b80fbb1c5e5",
   "metadata": {},
   "outputs": [
    {
     "name": "stdout",
     "output_type": "stream",
     "text": [
      "275\n"
     ]
    },
    {
     "data": {
      "image/png": "[encoded data removed]",
      "text/plain": [
       "<Figure size 432x288 with 1 Axes>"
      ]
     },
     "metadata": {
      "needs_background": "light"
     },
     "output_type": "display_data"
    }
   ],
   "source": [
    "plt.plot(scores)\n",
    "print(scores.index(max(scores)))"
   ]
  },
  {
   "cell_type": "code",
   "execution_count": 43,
   "id": "56758d2d-bca3-420c-a1c3-41375bfbc13e",
   "metadata": {},
   "outputs": [
    {
     "name": "stdout",
     "output_type": "stream",
     "text": [
      "(154,) (593,)\n"
     ]
    }
   ],
   "source": [
    "threshold = min(scores.index(max(scores)),50)\n",
    "print(df_diff[df_diff>threshold].shape,df_diff[df_diff<=threshold].shape)"
   ]
  },
  {
   "cell_type": "code",
   "execution_count": 44,
   "id": "b663a8af-0bd4-49e5-b8c6-d60f89425513",
   "metadata": {},
   "outputs": [
    {
     "data": {
      "text/html": [
       "<div>\n",
       "<style scoped>\n",
       "    .dataframe tbody tr th:only-of-type {\n",
       "        vertical-align: middle;\n",
       "    }\n",
       "\n",
       "    .dataframe tbody tr th {\n",
       "        vertical-align: top;\n",
       "    }\n",
       "\n",
       "    .dataframe thead th {\n",
       "        text-align: right;\n",
       "    }\n",
       "</style>\n",
       "<table border=\"1\" class=\"dataframe\">\n",
       "  <thead>\n",
       "    <tr style=\"text-align: right;\">\n",
       "      <th></th>\n",
       "      <th>start</th>\n",
       "      <th>end</th>\n",
       "      <th>labels</th>\n",
       "      <th>start_frame</th>\n",
       "      <th>df_diff</th>\n",
       "      <th>group</th>\n",
       "    </tr>\n",
       "  </thead>\n",
       "  <tbody>\n",
       "    <tr>\n",
       "      <th>0</th>\n",
       "      <td>77.761265</td>\n",
       "      <td>77.861253</td>\n",
       "      <td>OA</td>\n",
       "      <td>1944</td>\n",
       "      <td>NaN</td>\n",
       "      <td>0.0</td>\n",
       "    </tr>\n",
       "    <tr>\n",
       "      <th>1</th>\n",
       "      <td>78.395459</td>\n",
       "      <td>78.470450</td>\n",
       "      <td>XB</td>\n",
       "      <td>1959</td>\n",
       "      <td>15.0</td>\n",
       "      <td>0.0</td>\n",
       "    </tr>\n",
       "    <tr>\n",
       "      <th>2</th>\n",
       "      <td>78.978720</td>\n",
       "      <td>79.045378</td>\n",
       "      <td>XA</td>\n",
       "      <td>1974</td>\n",
       "      <td>15.0</td>\n",
       "      <td>0.0</td>\n",
       "    </tr>\n",
       "    <tr>\n",
       "      <th>3</th>\n",
       "      <td>79.561053</td>\n",
       "      <td>79.602715</td>\n",
       "      <td>OB</td>\n",
       "      <td>1989</td>\n",
       "      <td>15.0</td>\n",
       "      <td>0.0</td>\n",
       "    </tr>\n",
       "    <tr>\n",
       "      <th>4</th>\n",
       "      <td>91.541977</td>\n",
       "      <td>91.583639</td>\n",
       "      <td>OA</td>\n",
       "      <td>2288</td>\n",
       "      <td>299.0</td>\n",
       "      <td>1.0</td>\n",
       "    </tr>\n",
       "  </tbody>\n",
       "</table>\n",
       "</div>"
      ],
      "text/plain": [
       "       start        end labels  start_frame  df_diff  group\n",
       "0  77.761265  77.861253     OA         1944      NaN    0.0\n",
       "1  78.395459  78.470450     XB         1959     15.0    0.0\n",
       "2  78.978720  79.045378     XA         1974     15.0    0.0\n",
       "3  79.561053  79.602715     OB         1989     15.0    0.0\n",
       "4  91.541977  91.583639     OA         2288    299.0    1.0"
      ]
     },
     "execution_count": 44,
     "metadata": {},
     "output_type": "execute_result"
    }
   ],
   "source": [
    "cnt = 0\n",
    "df = df.reset_index(drop=True)\n",
    "df['df_diff'] = df_diff\n",
    "df.loc[0,'group']=0\n",
    "for i in range(1,len(df)):\n",
    "    if df.loc[i,'df_diff']>=threshold:\n",
    "        cnt += 1\n",
    "    df.loc[i,'group'] = cnt\n",
    "df.head()\n"
   ]
  },
  {
   "cell_type": "code",
   "execution_count": 45,
   "id": "43de7191-bd5a-421c-ad44-2fb80d89166f",
   "metadata": {},
   "outputs": [
    {
     "data": {
      "text/plain": [
       "group\n",
       "0.0      45\n",
       "1.0      51\n",
       "2.0      58\n",
       "3.0      41\n",
       "4.0      44\n",
       "         ..\n",
       "150.0    49\n",
       "151.0    25\n",
       "152.0    46\n",
       "153.0    73\n",
       "154.0    52\n",
       "Name: start_frame, Length: 155, dtype: int64"
      ]
     },
     "execution_count": 45,
     "metadata": {},
     "output_type": "execute_result"
    }
   ],
   "source": [
    "df.groupby('group')['start_frame'].apply(lambda x: x.max()-x.min())"
   ]
  },
  {
   "cell_type": "markdown",
   "id": "05a34e5c-66c4-479b-92c2-ce040bc3363f",
   "metadata": {},
   "source": [
    "## トラックレットを結合する"
   ]
  },
  {
   "cell_type": "code",
   "execution_count": 46,
   "id": "cd250e14-61af-4b14-8232-4617ee49b34d",
   "metadata": {},
   "outputs": [
    {
     "data": {
      "text/html": [
       "<div>\n",
       "<style scoped>\n",
       "    .dataframe tbody tr th:only-of-type {\n",
       "        vertical-align: middle;\n",
       "    }\n",
       "\n",
       "    .dataframe tbody tr th {\n",
       "        vertical-align: top;\n",
       "    }\n",
       "\n",
       "    .dataframe thead th {\n",
       "        text-align: right;\n",
       "    }\n",
       "</style>\n",
       "<table border=\"1\" class=\"dataframe\">\n",
       "  <thead>\n",
       "    <tr style=\"text-align: right;\">\n",
       "      <th></th>\n",
       "      <th>frame</th>\n",
       "      <th>player1</th>\n",
       "      <th>player2</th>\n",
       "    </tr>\n",
       "  </thead>\n",
       "  <tbody>\n",
       "    <tr>\n",
       "      <th>0</th>\n",
       "      <td>3.0</td>\n",
       "      <td>3</td>\n",
       "      <td>2</td>\n",
       "    </tr>\n",
       "    <tr>\n",
       "      <th>1</th>\n",
       "      <td>15.0</td>\n",
       "      <td>3</td>\n",
       "      <td>2</td>\n",
       "    </tr>\n",
       "    <tr>\n",
       "      <th>2</th>\n",
       "      <td>114.0</td>\n",
       "      <td>6</td>\n",
       "      <td>2</td>\n",
       "    </tr>\n",
       "    <tr>\n",
       "      <th>3</th>\n",
       "      <td>190.0</td>\n",
       "      <td>6</td>\n",
       "      <td>2</td>\n",
       "    </tr>\n",
       "    <tr>\n",
       "      <th>4</th>\n",
       "      <td>232.0</td>\n",
       "      <td>10</td>\n",
       "      <td>2</td>\n",
       "    </tr>\n",
       "  </tbody>\n",
       "</table>\n",
       "</div>"
      ],
      "text/plain": [
       "   frame player1 player2\n",
       "0    3.0       3       2\n",
       "1   15.0       3       2\n",
       "2  114.0       6       2\n",
       "3  190.0       6       2\n",
       "4  232.0      10       2"
      ]
     },
     "execution_count": 46,
     "metadata": {},
     "output_type": "execute_result"
    }
   ],
   "source": [
    "tracklet_name = data_file_path / 'p008_annotated_tracklet.csv'\n",
    "tracklet = pd.read_csv(tracklet_name)\n",
    "tracklet.head()"
   ]
  },
  {
   "cell_type": "code",
   "execution_count": 47,
   "id": "3b5e0e34-9639-4268-b959-c4187229f0e5",
   "metadata": {},
   "outputs": [],
   "source": [
    "max_frame = 109275 +1 \n",
    "all_df = pd.DataFrame({'frame':list(range(1,max_frame))})\n",
    "all_df = pd.merge(all_df,tracklet,on='frame',how='left')\n",
    "all_df = pd.merge(all_df,df[['start_frame','group','start','end']],left_on='frame',right_on='start_frame',how='left').drop(columns='start_frame')\n",
    "# all_df['group'] = all_df['group'].fillna(method='ffill')\n",
    "for c in ['player1','player2']:\n",
    "    all_df[c] = all_df[c].replace({'-':-1})\n",
    "    all_df[c] = all_df[c].astype(float)"
   ]
  },
  {
   "cell_type": "markdown",
   "id": "36d61c0f-01ea-46b1-86e4-c2a7c83511df",
   "metadata": {},
   "source": [
    "## ラリー番号の保管方法を変える"
   ]
  },
  {
   "cell_type": "code",
   "execution_count": 48,
   "id": "01f366e1-713e-4377-8494-8c8d48cc6462",
   "metadata": {},
   "outputs": [],
   "source": [
    "# margin = 5\n",
    "\n",
    "# group_dict = all_df.groupby('group').groups\n",
    "# col_num = all_df.columns.get_loc('group')\n",
    "# for group_id, frames in group_dict.items():\n",
    "#     group_start_frame = frames.min()-margin\n",
    "#     group_end_frame = frames.max()+50\n",
    "#     all_df.iloc[group_start_frame:group_end_frame,col_num] = group_id\n",
    "\n",
    "    "
   ]
  },
  {
   "cell_type": "markdown",
   "id": "f6774038-6532-4b5f-9164-f6e42b842b7c",
   "metadata": {},
   "source": [
    "## トラックレットとkapaoidを組み合わせる"
   ]
  },
  {
   "cell_type": "code",
   "execution_count": 49,
   "id": "71689579-3cee-41dd-9110-3d284d731525",
   "metadata": {},
   "outputs": [],
   "source": [
    "tracklet_df = load_annotated_trackret_file(tracklet_name)\n",
    "player1_tracklet, player2_tracklet = get_player_id_list(tracklet_df)\n",
    "video_name='p008'\n",
    "pose_path=f\"/home/mei/Documents/deep_sort/exp/20220512/data/detection_poses_{video_name}.pkl\"\n",
    "pose_data=load_pose_data(pose_path)\n",
    "bbox_path=bbox_path=f\"/home/mei/Documents/deep_sort/exp/20220512/data/{video_name}/{video_name}_deepsort_output.txt\"\n",
    "bbox_list: list= load_bbox_data(bbox_path)"
   ]
  },
  {
   "cell_type": "code",
   "execution_count": 50,
   "id": "e5b3accf-edd4-40ae-a631-5136dc544765",
   "metadata": {},
   "outputs": [
    {
     "data": {
      "text/plain": [
       "[3, 1, 1674.26, 386.02, 243.47, 445.98, 1, -1, -1, -1]"
      ]
     },
     "execution_count": 50,
     "metadata": {},
     "output_type": "execute_result"
    }
   ],
   "source": [
    "tracklet_df\n",
    "player1_tracklet\n",
    "pose_data[0]\n",
    "bbox_list[0]"
   ]
  },
  {
   "cell_type": "code",
   "execution_count": 51,
   "id": "5de8f2f0-9e8a-4324-9ee6-51d2fea78db3",
   "metadata": {
    "tags": []
   },
   "outputs": [],
   "source": [
    "# %%time\n",
    "# def wrap(frame_id,d):\n",
    "#     out_pose=match_id_by_iou(pose_data,bbox_list,frame_id)\n",
    "#     player_id_list:list=[]\n",
    "#     for one_out_pose in out_pose:\n",
    "#         player_id = one_out_pose[1]\n",
    "#         if player_id<0:\n",
    "#             continue\n",
    "#         player_id_list.append(player_id)\n",
    "#     d[frame_id]=player_id_list\n",
    "\n",
    "\n",
    "# # kapao と deepsortのidを対応付けしたものを保存\n",
    "\n",
    "# processes = multiprocessing.cpu_count()\n",
    "# progress_bar = tqdm(total=max_frame)\n",
    "# d = Manager().dict()\n",
    "# args = [(i,d) for i in range(1,max_frame)]\n",
    "# with multiprocessing.Pool(processes=processes) as pool:\n",
    "#     for _ in pool.starmap(wrap,args):\n",
    "#         progress_bar.update(1)\n",
    "\n",
    "# dict(d)\n",
    "# d_ = dict(d)\n",
    "\n",
    "# import pickle\n",
    "\n",
    "# with open(str(data_file_path/'player_id_dict.pickle'),'wb') as f:\n",
    "#     pickle.dump(d_,f)"
   ]
  },
  {
   "cell_type": "code",
   "execution_count": 52,
   "id": "672cab79-5752-4927-baeb-8e4dfc932485",
   "metadata": {},
   "outputs": [],
   "source": [
    "# import pickle\n",
    "\n",
    "# with open(str(data_file_path/'player_id_dict.pickle'),'wb') as f:\n",
    "#     pickle.dump(d_,f)"
   ]
  },
  {
   "cell_type": "markdown",
   "id": "330c6bba-e08f-48f0-8703-79911c2c01be",
   "metadata": {},
   "source": [
    "# kapaoとdeepsortをidで紐づけたものをつかっていく"
   ]
  },
  {
   "cell_type": "code",
   "execution_count": 53,
   "id": "f3791c8f-d1ab-4844-9a07-f96ba2ded0fd",
   "metadata": {
    "tags": []
   },
   "outputs": [
    {
     "data": {
      "text/html": [
       "<div>\n",
       "<style scoped>\n",
       "    .dataframe tbody tr th:only-of-type {\n",
       "        vertical-align: middle;\n",
       "    }\n",
       "\n",
       "    .dataframe tbody tr th {\n",
       "        vertical-align: top;\n",
       "    }\n",
       "\n",
       "    .dataframe thead th {\n",
       "        text-align: right;\n",
       "    }\n",
       "</style>\n",
       "<table border=\"1\" class=\"dataframe\">\n",
       "  <thead>\n",
       "    <tr style=\"text-align: right;\">\n",
       "      <th></th>\n",
       "      <th>frame_id</th>\n",
       "      <th>player_ids</th>\n",
       "    </tr>\n",
       "  </thead>\n",
       "  <tbody>\n",
       "    <tr>\n",
       "      <th>0</th>\n",
       "      <td>1</td>\n",
       "      <td>[0, 1, 2, 3, 4, 5, 6, 7]</td>\n",
       "    </tr>\n",
       "    <tr>\n",
       "      <th>1</th>\n",
       "      <td>2</td>\n",
       "      <td>[0, 1, 2, 3, 4, 5]</td>\n",
       "    </tr>\n",
       "    <tr>\n",
       "      <th>2</th>\n",
       "      <td>3</td>\n",
       "      <td>[2, 1, 3, 4]</td>\n",
       "    </tr>\n",
       "    <tr>\n",
       "      <th>3</th>\n",
       "      <td>4</td>\n",
       "      <td>[2, 3, 1, 4]</td>\n",
       "    </tr>\n",
       "    <tr>\n",
       "      <th>4</th>\n",
       "      <td>5</td>\n",
       "      <td>[3, 2, 1]</td>\n",
       "    </tr>\n",
       "  </tbody>\n",
       "</table>\n",
       "</div>"
      ],
      "text/plain": [
       "   frame_id                player_ids\n",
       "0         1  [0, 1, 2, 3, 4, 5, 6, 7]\n",
       "1         2        [0, 1, 2, 3, 4, 5]\n",
       "2         3              [2, 1, 3, 4]\n",
       "3         4              [2, 3, 1, 4]\n",
       "4         5                 [3, 2, 1]"
      ]
     },
     "execution_count": 53,
     "metadata": {},
     "output_type": "execute_result"
    }
   ],
   "source": [
    "# with open(str(data_file_path/'player_id_dict.pickle'),'rb') as f:\n",
    "#     kapao_deepsort_data = pickle.load(f)\n",
    "\n",
    "# kapao_deepsort_data = list(sorted(kapao_deepsort_data.items(), key=lambda x: x[0]))\n",
    "\n",
    "# kapao_deepsort_data_df = pd.DataFrame(kapao_deepsort_data,columns=['frame_id','player_ids'])\n",
    "\n",
    "# kapao_deepsort_data_df.to_parquet(str(data_file_path/'deepsort_player_ids.parquet'))\n",
    "\n",
    "deepsort_player_ids_df = pd.read_parquet(str(data_file_path/'deepsort_player_ids.parquet'))\n",
    "deepsort_player_ids_df.head()"
   ]
  },
  {
   "cell_type": "code",
   "execution_count": 54,
   "id": "db6a5022-7c52-41a3-a279-620a6438b6cd",
   "metadata": {},
   "outputs": [],
   "source": [
    "for c in ['player1','player2']:\n",
    "    all_df[c+'_fill'] = all_df[c].fillna(method='ffill')"
   ]
  },
  {
   "cell_type": "code",
   "execution_count": 55,
   "id": "55681608-92e9-464a-92ef-d7d08b38460a",
   "metadata": {},
   "outputs": [
    {
     "data": {
      "text/html": [
       "<div>\n",
       "<style scoped>\n",
       "    .dataframe tbody tr th:only-of-type {\n",
       "        vertical-align: middle;\n",
       "    }\n",
       "\n",
       "    .dataframe tbody tr th {\n",
       "        vertical-align: top;\n",
       "    }\n",
       "\n",
       "    .dataframe thead th {\n",
       "        text-align: right;\n",
       "    }\n",
       "</style>\n",
       "<table border=\"1\" class=\"dataframe\">\n",
       "  <thead>\n",
       "    <tr style=\"text-align: right;\">\n",
       "      <th></th>\n",
       "      <th>frame</th>\n",
       "      <th>player1</th>\n",
       "      <th>player2</th>\n",
       "      <th>group</th>\n",
       "      <th>start</th>\n",
       "      <th>end</th>\n",
       "      <th>player1_fill</th>\n",
       "      <th>player2_fill</th>\n",
       "    </tr>\n",
       "  </thead>\n",
       "  <tbody>\n",
       "    <tr>\n",
       "      <th>0</th>\n",
       "      <td>1</td>\n",
       "      <td>NaN</td>\n",
       "      <td>NaN</td>\n",
       "      <td>NaN</td>\n",
       "      <td>NaN</td>\n",
       "      <td>NaN</td>\n",
       "      <td>NaN</td>\n",
       "      <td>NaN</td>\n",
       "    </tr>\n",
       "    <tr>\n",
       "      <th>1</th>\n",
       "      <td>2</td>\n",
       "      <td>NaN</td>\n",
       "      <td>NaN</td>\n",
       "      <td>NaN</td>\n",
       "      <td>NaN</td>\n",
       "      <td>NaN</td>\n",
       "      <td>NaN</td>\n",
       "      <td>NaN</td>\n",
       "    </tr>\n",
       "    <tr>\n",
       "      <th>2</th>\n",
       "      <td>3</td>\n",
       "      <td>3.0</td>\n",
       "      <td>2.0</td>\n",
       "      <td>NaN</td>\n",
       "      <td>NaN</td>\n",
       "      <td>NaN</td>\n",
       "      <td>3.0</td>\n",
       "      <td>2.0</td>\n",
       "    </tr>\n",
       "    <tr>\n",
       "      <th>3</th>\n",
       "      <td>4</td>\n",
       "      <td>NaN</td>\n",
       "      <td>NaN</td>\n",
       "      <td>NaN</td>\n",
       "      <td>NaN</td>\n",
       "      <td>NaN</td>\n",
       "      <td>3.0</td>\n",
       "      <td>2.0</td>\n",
       "    </tr>\n",
       "    <tr>\n",
       "      <th>4</th>\n",
       "      <td>5</td>\n",
       "      <td>NaN</td>\n",
       "      <td>NaN</td>\n",
       "      <td>NaN</td>\n",
       "      <td>NaN</td>\n",
       "      <td>NaN</td>\n",
       "      <td>3.0</td>\n",
       "      <td>2.0</td>\n",
       "    </tr>\n",
       "  </tbody>\n",
       "</table>\n",
       "</div>"
      ],
      "text/plain": [
       "   frame  player1  player2  group  start  end  player1_fill  player2_fill\n",
       "0      1      NaN      NaN    NaN    NaN  NaN           NaN           NaN\n",
       "1      2      NaN      NaN    NaN    NaN  NaN           NaN           NaN\n",
       "2      3      3.0      2.0    NaN    NaN  NaN           3.0           2.0\n",
       "3      4      NaN      NaN    NaN    NaN  NaN           3.0           2.0\n",
       "4      5      NaN      NaN    NaN    NaN  NaN           3.0           2.0"
      ]
     },
     "execution_count": 55,
     "metadata": {},
     "output_type": "execute_result"
    }
   ],
   "source": [
    "all_df.head()"
   ]
  },
  {
   "cell_type": "code",
   "execution_count": 56,
   "id": "5bcf537e-4223-41c0-a75f-aabc132d6aed",
   "metadata": {},
   "outputs": [
    {
     "data": {
      "text/html": [
       "<div>\n",
       "<style scoped>\n",
       "    .dataframe tbody tr th:only-of-type {\n",
       "        vertical-align: middle;\n",
       "    }\n",
       "\n",
       "    .dataframe tbody tr th {\n",
       "        vertical-align: top;\n",
       "    }\n",
       "\n",
       "    .dataframe thead th {\n",
       "        text-align: right;\n",
       "    }\n",
       "</style>\n",
       "<table border=\"1\" class=\"dataframe\">\n",
       "  <thead>\n",
       "    <tr style=\"text-align: right;\">\n",
       "      <th></th>\n",
       "      <th>frame</th>\n",
       "      <th>player1</th>\n",
       "      <th>player2</th>\n",
       "      <th>group</th>\n",
       "      <th>start</th>\n",
       "      <th>end</th>\n",
       "      <th>player1_fill</th>\n",
       "      <th>player2_fill</th>\n",
       "      <th>player_ids</th>\n",
       "    </tr>\n",
       "  </thead>\n",
       "  <tbody>\n",
       "    <tr>\n",
       "      <th>0</th>\n",
       "      <td>1</td>\n",
       "      <td>NaN</td>\n",
       "      <td>NaN</td>\n",
       "      <td>NaN</td>\n",
       "      <td>NaN</td>\n",
       "      <td>NaN</td>\n",
       "      <td>NaN</td>\n",
       "      <td>NaN</td>\n",
       "      <td>[0, 1, 2, 3, 4, 5, 6, 7]</td>\n",
       "    </tr>\n",
       "    <tr>\n",
       "      <th>1</th>\n",
       "      <td>2</td>\n",
       "      <td>NaN</td>\n",
       "      <td>NaN</td>\n",
       "      <td>NaN</td>\n",
       "      <td>NaN</td>\n",
       "      <td>NaN</td>\n",
       "      <td>NaN</td>\n",
       "      <td>NaN</td>\n",
       "      <td>[0, 1, 2, 3, 4, 5]</td>\n",
       "    </tr>\n",
       "    <tr>\n",
       "      <th>2</th>\n",
       "      <td>3</td>\n",
       "      <td>3.0</td>\n",
       "      <td>2.0</td>\n",
       "      <td>NaN</td>\n",
       "      <td>NaN</td>\n",
       "      <td>NaN</td>\n",
       "      <td>3.0</td>\n",
       "      <td>2.0</td>\n",
       "      <td>[2, 1, 3, 4]</td>\n",
       "    </tr>\n",
       "    <tr>\n",
       "      <th>3</th>\n",
       "      <td>4</td>\n",
       "      <td>NaN</td>\n",
       "      <td>NaN</td>\n",
       "      <td>NaN</td>\n",
       "      <td>NaN</td>\n",
       "      <td>NaN</td>\n",
       "      <td>3.0</td>\n",
       "      <td>2.0</td>\n",
       "      <td>[2, 3, 1, 4]</td>\n",
       "    </tr>\n",
       "    <tr>\n",
       "      <th>4</th>\n",
       "      <td>5</td>\n",
       "      <td>NaN</td>\n",
       "      <td>NaN</td>\n",
       "      <td>NaN</td>\n",
       "      <td>NaN</td>\n",
       "      <td>NaN</td>\n",
       "      <td>3.0</td>\n",
       "      <td>2.0</td>\n",
       "      <td>[3, 2, 1]</td>\n",
       "    </tr>\n",
       "    <tr>\n",
       "      <th>...</th>\n",
       "      <td>...</td>\n",
       "      <td>...</td>\n",
       "      <td>...</td>\n",
       "      <td>...</td>\n",
       "      <td>...</td>\n",
       "      <td>...</td>\n",
       "      <td>...</td>\n",
       "      <td>...</td>\n",
       "      <td>...</td>\n",
       "    </tr>\n",
       "    <tr>\n",
       "      <th>109270</th>\n",
       "      <td>109271</td>\n",
       "      <td>NaN</td>\n",
       "      <td>NaN</td>\n",
       "      <td>NaN</td>\n",
       "      <td>NaN</td>\n",
       "      <td>NaN</td>\n",
       "      <td>-1.0</td>\n",
       "      <td>6495.0</td>\n",
       "      <td>[]</td>\n",
       "    </tr>\n",
       "    <tr>\n",
       "      <th>109271</th>\n",
       "      <td>109272</td>\n",
       "      <td>NaN</td>\n",
       "      <td>NaN</td>\n",
       "      <td>NaN</td>\n",
       "      <td>NaN</td>\n",
       "      <td>NaN</td>\n",
       "      <td>-1.0</td>\n",
       "      <td>6495.0</td>\n",
       "      <td>[]</td>\n",
       "    </tr>\n",
       "    <tr>\n",
       "      <th>109272</th>\n",
       "      <td>109273</td>\n",
       "      <td>NaN</td>\n",
       "      <td>NaN</td>\n",
       "      <td>NaN</td>\n",
       "      <td>NaN</td>\n",
       "      <td>NaN</td>\n",
       "      <td>-1.0</td>\n",
       "      <td>6495.0</td>\n",
       "      <td>[]</td>\n",
       "    </tr>\n",
       "    <tr>\n",
       "      <th>109273</th>\n",
       "      <td>109274</td>\n",
       "      <td>NaN</td>\n",
       "      <td>NaN</td>\n",
       "      <td>NaN</td>\n",
       "      <td>NaN</td>\n",
       "      <td>NaN</td>\n",
       "      <td>-1.0</td>\n",
       "      <td>6495.0</td>\n",
       "      <td>[]</td>\n",
       "    </tr>\n",
       "    <tr>\n",
       "      <th>109274</th>\n",
       "      <td>109275</td>\n",
       "      <td>NaN</td>\n",
       "      <td>NaN</td>\n",
       "      <td>NaN</td>\n",
       "      <td>NaN</td>\n",
       "      <td>NaN</td>\n",
       "      <td>-1.0</td>\n",
       "      <td>6495.0</td>\n",
       "      <td>[]</td>\n",
       "    </tr>\n",
       "  </tbody>\n",
       "</table>\n",
       "<p>109275 rows × 9 columns</p>\n",
       "</div>"
      ],
      "text/plain": [
       "         frame  player1  player2  group  start  end  player1_fill  \\\n",
       "0            1      NaN      NaN    NaN    NaN  NaN           NaN   \n",
       "1            2      NaN      NaN    NaN    NaN  NaN           NaN   \n",
       "2            3      3.0      2.0    NaN    NaN  NaN           3.0   \n",
       "3            4      NaN      NaN    NaN    NaN  NaN           3.0   \n",
       "4            5      NaN      NaN    NaN    NaN  NaN           3.0   \n",
       "...        ...      ...      ...    ...    ...  ...           ...   \n",
       "109270  109271      NaN      NaN    NaN    NaN  NaN          -1.0   \n",
       "109271  109272      NaN      NaN    NaN    NaN  NaN          -1.0   \n",
       "109272  109273      NaN      NaN    NaN    NaN  NaN          -1.0   \n",
       "109273  109274      NaN      NaN    NaN    NaN  NaN          -1.0   \n",
       "109274  109275      NaN      NaN    NaN    NaN  NaN          -1.0   \n",
       "\n",
       "        player2_fill                player_ids  \n",
       "0                NaN  [0, 1, 2, 3, 4, 5, 6, 7]  \n",
       "1                NaN        [0, 1, 2, 3, 4, 5]  \n",
       "2                2.0              [2, 1, 3, 4]  \n",
       "3                2.0              [2, 3, 1, 4]  \n",
       "4                2.0                 [3, 2, 1]  \n",
       "...              ...                       ...  \n",
       "109270        6495.0                        []  \n",
       "109271        6495.0                        []  \n",
       "109272        6495.0                        []  \n",
       "109273        6495.0                        []  \n",
       "109274        6495.0                        []  \n",
       "\n",
       "[109275 rows x 9 columns]"
      ]
     },
     "execution_count": 56,
     "metadata": {},
     "output_type": "execute_result"
    }
   ],
   "source": [
    "merged_df = pd.merge(all_df,deepsort_player_ids_df, left_on='frame', right_on='frame_id',how='left').drop(columns=['frame_id'])\n",
    "merged_df"
   ]
  },
  {
   "cell_type": "code",
   "execution_count": 57,
   "id": "7fcd04bb-92e3-4767-8eca-194ef9f823f8",
   "metadata": {},
   "outputs": [],
   "source": [
    "def is_exist(df:pd.Series,column_name:str):\n",
    "    \"\"\"存在するかチェック\"\"\"\n",
    "    return df[column_name+'_fill'] in (set(df['player_ids']))"
   ]
  },
  {
   "cell_type": "code",
   "execution_count": 58,
   "id": "8c4d7e42-286a-48ba-bd96-015b9a58984a",
   "metadata": {},
   "outputs": [
    {
     "data": {
      "application/vnd.jupyter.widget-view+json": {
       "model_id": "d529e4382e714ddd93c776522ebab234",
       "version_major": 2,
       "version_minor": 0
      },
      "text/plain": [
       "  0%|          | 0/109275 [00:00<?, ?it/s]"
      ]
     },
     "metadata": {},
     "output_type": "display_data"
    },
    {
     "name": "stdout",
     "output_type": "stream",
     "text": [
      "CPU times: user 1min 32s, sys: 161 ms, total: 1min 32s\n",
      "Wall time: 1min 32s\n"
     ]
    }
   ],
   "source": [
    "%%time\n",
    "_tmp_df = merged_df.copy()\n",
    "progress_bar = tqdm(range(len(_tmp_df)),total=len(_tmp_df))\n",
    "for i in progress_bar:\n",
    "    row_df = _tmp_df.iloc[i,:]\n",
    "    for c in ['player1','player2']:\n",
    "        _tmp_df.loc[i,c+'_exist'] = 1 if is_exist(row_df,c) else 0\n",
    "    \n",
    "_tmp_df['player12_exist'] = (_tmp_df['player1_exist'] + _tmp_df['player2_exist']).apply(lambda x: 1 if x>=2 else 0)\n",
    "_tmp_df['player_nexist'] = (_tmp_df['player1_exist'] + _tmp_df['player2_exist']).apply(lambda x: 1 if x<=0 else 0)\n",
    "\n"
   ]
  },
  {
   "cell_type": "code",
   "execution_count": 59,
   "id": "e01f527c-930d-44af-bba5-a41b79ec443b",
   "metadata": {},
   "outputs": [
    {
     "data": {
      "text/html": [
       "<div>\n",
       "<style scoped>\n",
       "    .dataframe tbody tr th:only-of-type {\n",
       "        vertical-align: middle;\n",
       "    }\n",
       "\n",
       "    .dataframe tbody tr th {\n",
       "        vertical-align: top;\n",
       "    }\n",
       "\n",
       "    .dataframe thead th {\n",
       "        text-align: right;\n",
       "    }\n",
       "</style>\n",
       "<table border=\"1\" class=\"dataframe\">\n",
       "  <thead>\n",
       "    <tr style=\"text-align: right;\">\n",
       "      <th></th>\n",
       "      <th>sum</th>\n",
       "      <th>mean</th>\n",
       "    </tr>\n",
       "  </thead>\n",
       "  <tbody>\n",
       "    <tr>\n",
       "      <th>count</th>\n",
       "      <td>155.000000</td>\n",
       "      <td>155.000000</td>\n",
       "    </tr>\n",
       "    <tr>\n",
       "      <th>mean</th>\n",
       "      <td>3.212903</td>\n",
       "      <td>0.676679</td>\n",
       "    </tr>\n",
       "    <tr>\n",
       "      <th>std</th>\n",
       "      <td>2.807659</td>\n",
       "      <td>0.385190</td>\n",
       "    </tr>\n",
       "    <tr>\n",
       "      <th>min</th>\n",
       "      <td>0.000000</td>\n",
       "      <td>0.000000</td>\n",
       "    </tr>\n",
       "    <tr>\n",
       "      <th>25%</th>\n",
       "      <td>1.000000</td>\n",
       "      <td>0.354167</td>\n",
       "    </tr>\n",
       "    <tr>\n",
       "      <th>50%</th>\n",
       "      <td>3.000000</td>\n",
       "      <td>0.833333</td>\n",
       "    </tr>\n",
       "    <tr>\n",
       "      <th>75%</th>\n",
       "      <td>4.000000</td>\n",
       "      <td>1.000000</td>\n",
       "    </tr>\n",
       "    <tr>\n",
       "      <th>max</th>\n",
       "      <td>14.000000</td>\n",
       "      <td>1.000000</td>\n",
       "    </tr>\n",
       "  </tbody>\n",
       "</table>\n",
       "</div>"
      ],
      "text/plain": [
       "              sum        mean\n",
       "count  155.000000  155.000000\n",
       "mean     3.212903    0.676679\n",
       "std      2.807659    0.385190\n",
       "min      0.000000    0.000000\n",
       "25%      1.000000    0.354167\n",
       "50%      3.000000    0.833333\n",
       "75%      4.000000    1.000000\n",
       "max     14.000000    1.000000"
      ]
     },
     "execution_count": 59,
     "metadata": {},
     "output_type": "execute_result"
    }
   ],
   "source": [
    "_tmp_df.groupby('group')['player12_exist'].agg(['sum','mean']).describe()"
   ]
  },
  {
   "cell_type": "code",
   "execution_count": 60,
   "id": "e44ab446-a9c2-4cd3-9542-0ba92bd29581",
   "metadata": {},
   "outputs": [],
   "source": [
    "groups_ids = _tmp_df.groupby('group').groups"
   ]
  },
  {
   "cell_type": "code",
   "execution_count": 61,
   "id": "3a4af5b7-7886-43db-ae1f-06730a042601",
   "metadata": {},
   "outputs": [],
   "source": [
    "player1_exist_list = []\n",
    "player2_exist_list = []\n",
    "player12_exist_list = []\n",
    "player_nexist_list = []\n",
    "\n",
    "\n",
    "for k,v in groups_ids.items():\n",
    "    group_df = _tmp_df.iloc[v,:]\n",
    "    group_df = group_df[['player1_exist','player2_exist','player12_exist','player_nexist']].mean()\n",
    "    a = group_df.iloc[0]\n",
    "    b = group_df.iloc[1]\n",
    "    c = group_df.iloc[2]\n",
    "    d = group_df.iloc[3]\n",
    "    player1_exist_list.append(a)\n",
    "    player2_exist_list.append(b)\n",
    "    player12_exist_list.append(c)\n",
    "    player_nexist_list.append(d)\n",
    "    "
   ]
  },
  {
   "cell_type": "code",
   "execution_count": 62,
   "id": "20eb03ae-9306-403b-bc3d-8b82c34fb7c4",
   "metadata": {},
   "outputs": [
    {
     "data": {
      "image/png": "[encoded data removed]",
      "text/plain": [
       "<Figure size 432x288 with 1 Axes>"
      ]
     },
     "metadata": {
      "needs_background": "light"
     },
     "output_type": "display_data"
    }
   ],
   "source": [
    "fig = plt.figure()\n",
    "ax = fig.add_subplot(111)\n",
    "ax.violinplot([player1_exist_list,player2_exist_list,player12_exist_list,player_nexist_list])\n",
    "ax.set_xticks([1,2,3,4])\n",
    "ax.set_xticklabels(['1','2','12','-'])\n",
    "plt.show()"
   ]
  },
  {
   "cell_type": "code",
   "execution_count": 63,
   "id": "f7039d1a-75f6-4d2e-85bb-ee997700ec95",
   "metadata": {},
   "outputs": [],
   "source": [
    "_tt = [[a,b,c,d] for a,b,c,d in zip(player1_exist_list,player2_exist_list,player12_exist_list,player_nexist_list)]"
   ]
  },
  {
   "cell_type": "code",
   "execution_count": 64,
   "id": "7a331eff-8db0-42ee-8595-dd8aed1153e9",
   "metadata": {},
   "outputs": [
    {
     "data": {
      "image/png": "[encoded data removed]",
      "text/plain": [
       "<Figure size 432x288 with 1 Axes>"
      ]
     },
     "metadata": {
      "needs_background": "light"
     },
     "output_type": "display_data"
    }
   ],
   "source": [
    "fig = plt.figure()\n",
    "ax = fig.add_subplot(111)\n",
    "ax.plot(_tt)\n",
    "plt.show()"
   ]
  },
  {
   "cell_type": "code",
   "execution_count": 65,
   "id": "80b87f73-cf11-4b3d-9468-ebea60ce9415",
   "metadata": {},
   "outputs": [
    {
     "data": {
      "text/plain": [
       "<matplotlib.legend.Legend at 0x7f9dd3232240>"
      ]
     },
     "execution_count": 65,
     "metadata": {},
     "output_type": "execute_result"
    },
    {
     "data": {
      "image/png": "[encoded data removed]",
      "text/plain": [
       "<Figure size 432x288 with 1 Axes>"
      ]
     },
     "metadata": {
      "needs_background": "light"
     },
     "output_type": "display_data"
    }
   ],
   "source": [
    "fig = plt.figure()\n",
    "ax = fig.add_subplot(111)\n",
    "\n",
    "for i,a in enumerate([player1_exist_list,player2_exist_list,player12_exist_list,player_nexist_list]):\n",
    "    ax.bar(height=sum(a)/len(a),x='=',label=i)\n",
    "ax.legend()"
   ]
  },
  {
   "cell_type": "markdown",
   "id": "9ea58524-9246-43e5-970f-0c7c76d09cfa",
   "metadata": {},
   "source": [
    "# 適当に動画をサンプリングする"
   ]
  },
  {
   "cell_type": "code",
   "execution_count": 34,
   "id": "d434c33a-4bfd-4c39-8fe3-ab6dec750916",
   "metadata": {},
   "outputs": [
    {
     "ename": "NameError",
     "evalue": "name 'frame_df' is not defined",
     "output_type": "error",
     "traceback": [
      "\u001b[0;31m---------------------------------------------------------------------------\u001b[0m",
      "\u001b[0;31mNameError\u001b[0m                                 Traceback (most recent call last)",
      "\u001b[0;32m<ipython-input-34-62c46e257f7e>\u001b[0m in \u001b[0;36m<module>\u001b[0;34m\u001b[0m\n\u001b[0;32m----> 1\u001b[0;31m \u001b[0mframe_df\u001b[0m\u001b[0;34m\u001b[0m\u001b[0;34m\u001b[0m\u001b[0m\n\u001b[0m",
      "\u001b[0;31mNameError\u001b[0m: name 'frame_df' is not defined"
     ]
    }
   ],
   "source": [
    "frame_df"
   ]
  },
  {
   "cell_type": "code",
   "execution_count": null,
   "id": "d3baf7ef-cb2e-43fa-8419-21905dc2561a",
   "metadata": {},
   "outputs": [],
   "source": [
    "frame_df"
   ]
  },
  {
   "cell_type": "code",
   "execution_count": null,
   "id": "89ffb676-489b-438c-8671-1ecd36a68e21",
   "metadata": {},
   "outputs": [],
   "source": [
    "frame_df['start'] = frame_df['frame'].apply(lambda x: frame2sec(x)/1000)\n",
    "frame_df['end'] = frame_df['frame'].apply(lambda x: frame2sec(x)/1000)"
   ]
  },
  {
   "cell_type": "code",
   "execution_count": null,
   "id": "3e38ff66-122c-44f3-8f24-51cb7c8dfd76",
   "metadata": {},
   "outputs": [],
   "source": [
    "_tmp_df['new_start'] = _tmp_df['frame'].apply(lambda x: frame2sec(x,fps=25))\n"
   ]
  },
  {
   "cell_type": "code",
   "execution_count": null,
   "id": "e938f1f4-9336-49a9-9165-3b873cb022b0",
   "metadata": {},
   "outputs": [],
   "source": [
    "idxs = _tmp_df[_tmp_df['group']==0].index\n",
    "_tmp_df.iloc[idxs]"
   ]
  },
  {
   "cell_type": "code",
   "execution_count": 72,
   "id": "226b8f6a-5220-4339-b784-cd2dfad59a46",
   "metadata": {
    "tags": []
   },
   "outputs": [],
   "source": [
    "input_file = str(output_file_path/'output.mp4')\n",
    "def wrap(i):\n",
    "    tar_ids = groups_ids[i]\n",
    "    frame_df = _tmp_df.iloc[tar_ids,:]\n",
    "    end_time:float = frame2sec(frame_df['frame'].max(),fps=25) + 1\n",
    "    start_time:float = frame2sec(frame_df['frame'].min(),fps=25) - 1\n",
    "    v_frames = sec2frame(end_time-start_time,fps=25)\n",
    "    output_file = str(output_file_path/f'{i}.mp4')\n",
    "    # if Path(output_file).exists():\n",
    "    #     # print(f'{output_file} is exist')\n",
    "    #     return \n",
    "    # command = command = f'ffmpeg -ss {start_frame} -i {input_file} -frames {v_frames} {output_file} -y'\n",
    "    command = command = f'ffmpeg -y -ss {start_time} -i {input_file} -frames {v_frames}  {output_file}'\n",
    "\n",
    "    print(start_time, end_time, v_frames)\n",
    "    subprocess.call(command, shell=True)"
   ]
  },
  {
   "cell_type": "code",
   "execution_count": 73,
   "id": "0972cb33-2e72-4b66-91a6-b91fc82491c4",
   "metadata": {},
   "outputs": [
    {
     "data": {
      "application/vnd.jupyter.widget-view+json": {
       "model_id": "67dda9b564294d17b3980966bf3468be",
       "version_major": 2,
       "version_minor": 0
      },
      "text/plain": [
       "  0%|          | 0/155 [00:00<?, ?it/s]"
      ]
     },
     "metadata": {},
     "output_type": "display_data"
    },
    {
     "name": "stdout",
     "output_type": "stream",
     "text": [
      "76.76204.7290.52219.8254.8 80.56 235.24   94 \n",
      "265.04208.0156.12183.68124.52140.28 223.48240.04 281.4894.56       256190.24161.5291 101108.0 128.16144.04\n",
      "119 \n",
      "\n",
      " 164  135\n",
      "8293\n",
      " \n",
      "112.32\n",
      "\n",
      " 91284.16\n",
      "107\n",
      " 67\n",
      "304.36 308.76 109\n",
      "323.8 326.4 64\n",
      "340.2 344.36 104\n",
      "361.16 366.72 139\n",
      "383.48 385.48 50\n",
      "393.64 399.04 135\n",
      "417.48 420.64 78\n",
      "443.88 453.8 248\n",
      "507.28 512.52 131\n",
      "526.52 530.68 103\n",
      "550.12 552.68 63\n",
      "562.56 569.96 185\n",
      "586.56 595.6 226\n",
      "610.44 613.2 68\n",
      "632.2 635.96 93\n",
      "647.6 651.12 87\n"
     ]
    },
    {
     "ename": "KeyboardInterrupt",
     "evalue": "",
     "output_type": "error",
     "traceback": [
      "\u001b[0;31m---------------------------------------------------------------------------\u001b[0m",
      "\u001b[0;31mIndexError\u001b[0m                                Traceback (most recent call last)",
      "\u001b[0;32m~/.pyenv/versions/3.6.8/lib/python3.6/multiprocessing/pool.py\u001b[0m in \u001b[0;36mnext\u001b[0;34m(self, timeout)\u001b[0m\n\u001b[1;32m    719\u001b[0m             \u001b[0;32mtry\u001b[0m\u001b[0;34m:\u001b[0m\u001b[0;34m\u001b[0m\u001b[0;34m\u001b[0m\u001b[0m\n\u001b[0;32m--> 720\u001b[0;31m                 \u001b[0mitem\u001b[0m \u001b[0;34m=\u001b[0m \u001b[0mself\u001b[0m\u001b[0;34m.\u001b[0m\u001b[0m_items\u001b[0m\u001b[0;34m.\u001b[0m\u001b[0mpopleft\u001b[0m\u001b[0;34m(\u001b[0m\u001b[0;34m)\u001b[0m\u001b[0;34m\u001b[0m\u001b[0;34m\u001b[0m\u001b[0m\n\u001b[0m\u001b[1;32m    721\u001b[0m             \u001b[0;32mexcept\u001b[0m \u001b[0mIndexError\u001b[0m\u001b[0;34m:\u001b[0m\u001b[0;34m\u001b[0m\u001b[0;34m\u001b[0m\u001b[0m\n",
      "\u001b[0;31mIndexError\u001b[0m: pop from an empty deque",
      "\nDuring handling of the above exception, another exception occurred:\n",
      "\u001b[0;31mKeyboardInterrupt\u001b[0m                         Traceback (most recent call last)",
      "\u001b[0;32m<ipython-input-73-cd9ea87dea71>\u001b[0m in \u001b[0;36m<module>\u001b[0;34m\u001b[0m\n\u001b[1;32m      5\u001b[0m \u001b[0;34m\u001b[0m\u001b[0m\n\u001b[1;32m      6\u001b[0m \u001b[0;32mwith\u001b[0m \u001b[0mmultiprocessing\u001b[0m\u001b[0;34m.\u001b[0m\u001b[0mPool\u001b[0m\u001b[0;34m(\u001b[0m\u001b[0mprocesses\u001b[0m\u001b[0;34m=\u001b[0m\u001b[0mprocesses\u001b[0m\u001b[0;34m)\u001b[0m \u001b[0;32mas\u001b[0m \u001b[0mpool\u001b[0m\u001b[0;34m:\u001b[0m\u001b[0;34m\u001b[0m\u001b[0;34m\u001b[0m\u001b[0m\n\u001b[0;32m----> 7\u001b[0;31m     \u001b[0;32mfor\u001b[0m \u001b[0m_\u001b[0m \u001b[0;32min\u001b[0m \u001b[0mpool\u001b[0m\u001b[0;34m.\u001b[0m\u001b[0mimap\u001b[0m\u001b[0;34m(\u001b[0m\u001b[0mwrap\u001b[0m\u001b[0;34m,\u001b[0m \u001b[0mrange\u001b[0m\u001b[0;34m(\u001b[0m\u001b[0mlen\u001b[0m\u001b[0;34m(\u001b[0m\u001b[0mgroups_ids\u001b[0m\u001b[0;34m)\u001b[0m\u001b[0;34m)\u001b[0m\u001b[0;34m)\u001b[0m\u001b[0;34m:\u001b[0m\u001b[0;34m\u001b[0m\u001b[0;34m\u001b[0m\u001b[0m\n\u001b[0m\u001b[1;32m      8\u001b[0m         \u001b[0mprogress\u001b[0m\u001b[0;34m.\u001b[0m\u001b[0mupdate\u001b[0m\u001b[0;34m(\u001b[0m\u001b[0;36m1\u001b[0m\u001b[0;34m)\u001b[0m\u001b[0;34m\u001b[0m\u001b[0;34m\u001b[0m\u001b[0m\n",
      "\u001b[0;32m~/.pyenv/versions/3.6.8/lib/python3.6/multiprocessing/pool.py\u001b[0m in \u001b[0;36mnext\u001b[0;34m(self, timeout)\u001b[0m\n\u001b[1;32m    722\u001b[0m                 \u001b[0;32mif\u001b[0m \u001b[0mself\u001b[0m\u001b[0;34m.\u001b[0m\u001b[0m_index\u001b[0m \u001b[0;34m==\u001b[0m \u001b[0mself\u001b[0m\u001b[0;34m.\u001b[0m\u001b[0m_length\u001b[0m\u001b[0;34m:\u001b[0m\u001b[0;34m\u001b[0m\u001b[0;34m\u001b[0m\u001b[0m\n\u001b[1;32m    723\u001b[0m                     \u001b[0;32mraise\u001b[0m \u001b[0mStopIteration\u001b[0m\u001b[0;34m\u001b[0m\u001b[0;34m\u001b[0m\u001b[0m\n\u001b[0;32m--> 724\u001b[0;31m                 \u001b[0mself\u001b[0m\u001b[0;34m.\u001b[0m\u001b[0m_cond\u001b[0m\u001b[0;34m.\u001b[0m\u001b[0mwait\u001b[0m\u001b[0;34m(\u001b[0m\u001b[0mtimeout\u001b[0m\u001b[0;34m)\u001b[0m\u001b[0;34m\u001b[0m\u001b[0;34m\u001b[0m\u001b[0m\n\u001b[0m\u001b[1;32m    725\u001b[0m                 \u001b[0;32mtry\u001b[0m\u001b[0;34m:\u001b[0m\u001b[0;34m\u001b[0m\u001b[0;34m\u001b[0m\u001b[0m\n\u001b[1;32m    726\u001b[0m                     \u001b[0mitem\u001b[0m \u001b[0;34m=\u001b[0m \u001b[0mself\u001b[0m\u001b[0;34m.\u001b[0m\u001b[0m_items\u001b[0m\u001b[0;34m.\u001b[0m\u001b[0mpopleft\u001b[0m\u001b[0;34m(\u001b[0m\u001b[0;34m)\u001b[0m\u001b[0;34m\u001b[0m\u001b[0;34m\u001b[0m\u001b[0m\n",
      "\u001b[0;32m~/.pyenv/versions/3.6.8/lib/python3.6/threading.py\u001b[0m in \u001b[0;36mwait\u001b[0;34m(self, timeout)\u001b[0m\n\u001b[1;32m    293\u001b[0m         \u001b[0;32mtry\u001b[0m\u001b[0;34m:\u001b[0m    \u001b[0;31m# restore state no matter what (e.g., KeyboardInterrupt)\u001b[0m\u001b[0;34m\u001b[0m\u001b[0;34m\u001b[0m\u001b[0m\n\u001b[1;32m    294\u001b[0m             \u001b[0;32mif\u001b[0m \u001b[0mtimeout\u001b[0m \u001b[0;32mis\u001b[0m \u001b[0;32mNone\u001b[0m\u001b[0;34m:\u001b[0m\u001b[0;34m\u001b[0m\u001b[0;34m\u001b[0m\u001b[0m\n\u001b[0;32m--> 295\u001b[0;31m                 \u001b[0mwaiter\u001b[0m\u001b[0;34m.\u001b[0m\u001b[0macquire\u001b[0m\u001b[0;34m(\u001b[0m\u001b[0;34m)\u001b[0m\u001b[0;34m\u001b[0m\u001b[0;34m\u001b[0m\u001b[0m\n\u001b[0m\u001b[1;32m    296\u001b[0m                 \u001b[0mgotit\u001b[0m \u001b[0;34m=\u001b[0m \u001b[0;32mTrue\u001b[0m\u001b[0;34m\u001b[0m\u001b[0;34m\u001b[0m\u001b[0m\n\u001b[1;32m    297\u001b[0m             \u001b[0;32melse\u001b[0m\u001b[0;34m:\u001b[0m\u001b[0;34m\u001b[0m\u001b[0;34m\u001b[0m\u001b[0m\n",
      "\u001b[0;31mKeyboardInterrupt\u001b[0m: "
     ]
    }
   ],
   "source": [
    "processes = multiprocessing.cpu_count() \n",
    "progress = tqdm(range(len(groups_ids)))\n",
    "\n",
    "\n",
    "\n",
    "with multiprocessing.Pool(processes=processes) as pool:\n",
    "    for _ in pool.imap(wrap, range(len(groups_ids))):\n",
    "        progress.update(1)"
   ]
  },
  {
   "cell_type": "code",
   "execution_count": null,
   "id": "0e2514ea-5dbc-40c3-a1de-87ddd354572d",
   "metadata": {
    "tags": []
   },
   "outputs": [],
   "source": [
    "# input_file = str(output_file_path/'output.mp4')\n",
    "# progress = tqdm(range(len(groups_ids)))\n",
    "# for i in progress:\n",
    "#     tar_ids = groups_ids[i]\n",
    "#     frame_df = _tmp_df.iloc[tar_ids,:]['frame']\n",
    "#     end_frame = int(frame2sec(frame_df.max()))//1000\n",
    "#     start_frame = int(frame2sec(frame_df.min()))//1000\n",
    "#     v_frames = abs(end_frame-start_frame)\n",
    "#     output_file = str(output_file_path/f'{i}.mp4')\n",
    "#     command = command = f'ffmpeg -i {input_file} -ss {start_frame} -to {end_frame} {output_file} -y'\n",
    "#     subprocess.call(command, shell=True)\n",
    "    \n",
    "    "
   ]
  }
 ],
 "metadata": {
  "kernelspec": {
   "display_name": "Python 3",
   "language": "python",
   "name": "python3"
  },
  "language_info": {
   "codemirror_mode": {
    "name": "ipython",
    "version": 3
   },
   "file_extension": ".py",
   "mimetype": "text/x-python",
   "name": "python",
   "nbconvert_exporter": "python",
   "pygments_lexer": "ipython3",
   "version": "3.6.8"
  }
 },
 "nbformat": 4,
 "nbformat_minor": 5
}
