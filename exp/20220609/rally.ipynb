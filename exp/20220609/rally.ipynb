{
 "cells": [
  {
   "cell_type": "markdown",
   "id": "954b788a-dc10-4047-bcf5-b158a1a63a47",
   "metadata": {},
   "source": [
    "# ぷれいちゅうでどれくらい取れているかを計測"
   ]
  },
  {
   "cell_type": "code",
   "execution_count": 1,
   "id": "7adbf698-9a62-42b7-9d16-7bc3bf5ab51c",
   "metadata": {},
   "outputs": [],
   "source": [
    "import sys\n",
    "import os\n",
    "import pandas as pd\n",
    "import matplotlib.pyplot as plt\n",
    "import seaborn as sns\n",
    "from pathlib import Path\n",
    "import numpy as np\n",
    "\n",
    "sys.path.append('/home/mei/Documents/deep_sort/exp/20220609/utils')\n",
    "\n",
    "from utils.frame import sec2frame\n",
    "from utils.load_data import (load_annotated_trackret_file,\n",
    "                             get_player_id_list,\n",
    "                             load_pose_data,\n",
    "                             load_bbox_data\n",
    "                            )\n",
    "from utils.matching import match_id_by_iou\n",
    "from IPython.core.debugger import Pdb\n",
    "import multiprocessing\n",
    "from multiprocessing import Manager, Process\n",
    "from tqdm.notebook import tqdm\n",
    "import pickle"
   ]
  },
  {
   "cell_type": "code",
   "execution_count": 2,
   "id": "6086db6d-332d-4172-9ced-170d5fe58b61",
   "metadata": {},
   "outputs": [],
   "source": [
    "ist = Pdb().set_trace"
   ]
  },
  {
   "cell_type": "code",
   "execution_count": 3,
   "id": "4effbc52-39f2-446b-8c67-8984f2aaed36",
   "metadata": {},
   "outputs": [],
   "source": [
    "data_file_path = Path(os.getcwd())/'data'\n",
    "data_name = data_file_path / 'p008_wtnb_0528.csv'"
   ]
  },
  {
   "cell_type": "code",
   "execution_count": 4,
   "id": "cfe94789-31f5-418e-9b15-6b1645dfe8f3",
   "metadata": {},
   "outputs": [
    {
     "data": {
      "text/html": [
       "<div>\n",
       "<style scoped>\n",
       "    .dataframe tbody tr th:only-of-type {\n",
       "        vertical-align: middle;\n",
       "    }\n",
       "\n",
       "    .dataframe tbody tr th {\n",
       "        vertical-align: top;\n",
       "    }\n",
       "\n",
       "    .dataframe thead th {\n",
       "        text-align: right;\n",
       "    }\n",
       "</style>\n",
       "<table border=\"1\" class=\"dataframe\">\n",
       "  <thead>\n",
       "    <tr style=\"text-align: right;\">\n",
       "      <th></th>\n",
       "      <th>start</th>\n",
       "      <th>end</th>\n",
       "      <th>labels</th>\n",
       "    </tr>\n",
       "  </thead>\n",
       "  <tbody>\n",
       "    <tr>\n",
       "      <th>0</th>\n",
       "      <td>77.761265</td>\n",
       "      <td>77.861253</td>\n",
       "      <td>OA</td>\n",
       "    </tr>\n",
       "    <tr>\n",
       "      <th>1</th>\n",
       "      <td>78.395459</td>\n",
       "      <td>78.470450</td>\n",
       "      <td>XB</td>\n",
       "    </tr>\n",
       "    <tr>\n",
       "      <th>2</th>\n",
       "      <td>78.978720</td>\n",
       "      <td>79.045378</td>\n",
       "      <td>XA</td>\n",
       "    </tr>\n",
       "    <tr>\n",
       "      <th>3</th>\n",
       "      <td>79.561053</td>\n",
       "      <td>79.602715</td>\n",
       "      <td>OB</td>\n",
       "    </tr>\n",
       "    <tr>\n",
       "      <th>4</th>\n",
       "      <td>91.541977</td>\n",
       "      <td>91.583639</td>\n",
       "      <td>OA</td>\n",
       "    </tr>\n",
       "  </tbody>\n",
       "</table>\n",
       "</div>"
      ],
      "text/plain": [
       "       start        end labels\n",
       "0  77.761265  77.861253     OA\n",
       "1  78.395459  78.470450     XB\n",
       "2  78.978720  79.045378     XA\n",
       "3  79.561053  79.602715     OB\n",
       "4  91.541977  91.583639     OA"
      ]
     },
     "execution_count": 4,
     "metadata": {},
     "output_type": "execute_result"
    }
   ],
   "source": [
    "df = pd.read_csv(data_name)\n",
    "df.head()"
   ]
  },
  {
   "cell_type": "code",
   "execution_count": 5,
   "id": "5908424b-4391-4017-81a9-e6b3737559c9",
   "metadata": {},
   "outputs": [
    {
     "data": {
      "text/html": [
       "<div>\n",
       "<style scoped>\n",
       "    .dataframe tbody tr th:only-of-type {\n",
       "        vertical-align: middle;\n",
       "    }\n",
       "\n",
       "    .dataframe tbody tr th {\n",
       "        vertical-align: top;\n",
       "    }\n",
       "\n",
       "    .dataframe thead th {\n",
       "        text-align: right;\n",
       "    }\n",
       "</style>\n",
       "<table border=\"1\" class=\"dataframe\">\n",
       "  <thead>\n",
       "    <tr style=\"text-align: right;\">\n",
       "      <th></th>\n",
       "      <th>start</th>\n",
       "      <th>end</th>\n",
       "      <th>labels</th>\n",
       "      <th>start_frame</th>\n",
       "    </tr>\n",
       "  </thead>\n",
       "  <tbody>\n",
       "    <tr>\n",
       "      <th>0</th>\n",
       "      <td>77.761265</td>\n",
       "      <td>77.861253</td>\n",
       "      <td>OA</td>\n",
       "      <td>2330</td>\n",
       "    </tr>\n",
       "    <tr>\n",
       "      <th>1</th>\n",
       "      <td>78.395459</td>\n",
       "      <td>78.470450</td>\n",
       "      <td>XB</td>\n",
       "      <td>2349</td>\n",
       "    </tr>\n",
       "    <tr>\n",
       "      <th>2</th>\n",
       "      <td>78.978720</td>\n",
       "      <td>79.045378</td>\n",
       "      <td>XA</td>\n",
       "      <td>2366</td>\n",
       "    </tr>\n",
       "    <tr>\n",
       "      <th>3</th>\n",
       "      <td>79.561053</td>\n",
       "      <td>79.602715</td>\n",
       "      <td>OB</td>\n",
       "      <td>2384</td>\n",
       "    </tr>\n",
       "    <tr>\n",
       "      <th>4</th>\n",
       "      <td>91.541977</td>\n",
       "      <td>91.583639</td>\n",
       "      <td>OA</td>\n",
       "      <td>2743</td>\n",
       "    </tr>\n",
       "  </tbody>\n",
       "</table>\n",
       "</div>"
      ],
      "text/plain": [
       "       start        end labels  start_frame\n",
       "0  77.761265  77.861253     OA         2330\n",
       "1  78.395459  78.470450     XB         2349\n",
       "2  78.978720  79.045378     XA         2366\n",
       "3  79.561053  79.602715     OB         2384\n",
       "4  91.541977  91.583639     OA         2743"
      ]
     },
     "execution_count": 5,
     "metadata": {},
     "output_type": "execute_result"
    }
   ],
   "source": [
    "df['start_frame']=df['start'].apply(sec2frame)\n",
    "df.head()"
   ]
  },
  {
   "cell_type": "code",
   "execution_count": 6,
   "id": "70244ed0-cd3d-4f58-92d8-1e19065534fa",
   "metadata": {},
   "outputs": [
    {
     "data": {
      "text/plain": [
       "<AxesSubplot:>"
      ]
     },
     "execution_count": 6,
     "metadata": {},
     "output_type": "execute_result"
    },
    {
     "data": {
      "image/png": "[encoded data removed]",
      "text/plain": [
       "<Figure size 432x288 with 1 Axes>"
      ]
     },
     "metadata": {
      "needs_background": "light"
     },
     "output_type": "display_data"
    }
   ],
   "source": [
    "tmp = df.copy()\n",
    "max_frame = df['start_frame'].max()+1\n",
    "height = [1  if i in df['start_frame'].to_numpy() else 0 for i in range(max_frame)]\n",
    "x = [i for i in range(max_frame)]\n",
    "\n",
    "sns.scatterplot(x=x,y=height)"
   ]
  },
  {
   "cell_type": "code",
   "execution_count": 7,
   "id": "48e25861-fe0e-4f64-b2e5-f977dbe133c5",
   "metadata": {},
   "outputs": [
    {
     "name": "stderr",
     "output_type": "stream",
     "text": [
      "/home/mei/.pyenv/versions/3.6.8/envs/gmtracker/lib/python3.6/site-packages/seaborn/distributions.py:2619: FutureWarning: `distplot` is a deprecated function and will be removed in a future version. Please adapt your code to use either `displot` (a figure-level function with similar flexibility) or `histplot` (an axes-level function for histograms).\n",
      "  warnings.warn(msg, FutureWarning)\n"
     ]
    },
    {
     "data": {
      "image/png": "[encoded data removed]",
      "text/plain": [
       "<Figure size 432x288 with 1 Axes>"
      ]
     },
     "metadata": {
      "needs_background": "light"
     },
     "output_type": "display_data"
    }
   ],
   "source": [
    "df_diff=df['start_frame'].diff()\n",
    "sns.distplot(df_diff,bins=20)\n",
    "plt.show()"
   ]
  },
  {
   "cell_type": "code",
   "execution_count": 8,
   "id": "8105e56d-61a1-44d4-b6e7-58a71dc210bc",
   "metadata": {},
   "outputs": [
    {
     "name": "stdout",
     "output_type": "stream",
     "text": [
      "60453.87752803594\n"
     ]
    }
   ],
   "source": [
    "def OtsuScore(data,thresh):\n",
    "    \"\"\"前後のプレーの時間差から閾値となる二値を決める\"\"\"\n",
    "    w_0 = len(data[data > thresh])/len(data)\n",
    "    w_1 = len(data[data <= thresh])/len(data)\n",
    "    \n",
    "    if w_0== 0 or w_1==0:\n",
    "        return 0\n",
    "    mean_all = data.mean()\n",
    "    mean_0 = data[data>thresh].mean()\n",
    "    mean_1 = data[data<=thresh].mean()\n",
    "    \n",
    "    sigma = w_0*((mean_0-mean_all)**2) + w_1*((mean_1-mean_all)**2)\n",
    "    return sigma\n",
    "\n",
    "iters = 20000\n",
    "scores = [0] * iters\n",
    "for i in range(iters):\n",
    "    scores[i] = OtsuScore(df_diff,i)\n",
    "\n",
    "print(max(scores))"
   ]
  },
  {
   "cell_type": "code",
   "execution_count": 9,
   "id": "4e0c4ed7-78a2-4401-a164-2b80fbb1c5e5",
   "metadata": {},
   "outputs": [
    {
     "name": "stdout",
     "output_type": "stream",
     "text": [
      "330\n"
     ]
    },
    {
     "data": {
      "image/png": "[encoded data removed]",
      "text/plain": [
       "<Figure size 432x288 with 1 Axes>"
      ]
     },
     "metadata": {
      "needs_background": "light"
     },
     "output_type": "display_data"
    }
   ],
   "source": [
    "plt.plot(scores)\n",
    "print(scores.index(max(scores)))"
   ]
  },
  {
   "cell_type": "code",
   "execution_count": 10,
   "id": "56758d2d-bca3-420c-a1c3-41375bfbc13e",
   "metadata": {},
   "outputs": [
    {
     "name": "stdout",
     "output_type": "stream",
     "text": [
      "(155,) (592,)\n"
     ]
    }
   ],
   "source": [
    "threshold = min(scores.index(max(scores)),50)\n",
    "print(df_diff[df_diff>threshold].shape,df_diff[df_diff<=threshold].shape)"
   ]
  },
  {
   "cell_type": "code",
   "execution_count": 11,
   "id": "b663a8af-0bd4-49e5-b8c6-d60f89425513",
   "metadata": {},
   "outputs": [
    {
     "data": {
      "text/html": [
       "<div>\n",
       "<style scoped>\n",
       "    .dataframe tbody tr th:only-of-type {\n",
       "        vertical-align: middle;\n",
       "    }\n",
       "\n",
       "    .dataframe tbody tr th {\n",
       "        vertical-align: top;\n",
       "    }\n",
       "\n",
       "    .dataframe thead th {\n",
       "        text-align: right;\n",
       "    }\n",
       "</style>\n",
       "<table border=\"1\" class=\"dataframe\">\n",
       "  <thead>\n",
       "    <tr style=\"text-align: right;\">\n",
       "      <th></th>\n",
       "      <th>start</th>\n",
       "      <th>end</th>\n",
       "      <th>labels</th>\n",
       "      <th>start_frame</th>\n",
       "      <th>df_diff</th>\n",
       "      <th>group</th>\n",
       "    </tr>\n",
       "  </thead>\n",
       "  <tbody>\n",
       "    <tr>\n",
       "      <th>0</th>\n",
       "      <td>77.761265</td>\n",
       "      <td>77.861253</td>\n",
       "      <td>OA</td>\n",
       "      <td>2330</td>\n",
       "      <td>NaN</td>\n",
       "      <td>0.0</td>\n",
       "    </tr>\n",
       "    <tr>\n",
       "      <th>1</th>\n",
       "      <td>78.395459</td>\n",
       "      <td>78.470450</td>\n",
       "      <td>XB</td>\n",
       "      <td>2349</td>\n",
       "      <td>19.0</td>\n",
       "      <td>0.0</td>\n",
       "    </tr>\n",
       "    <tr>\n",
       "      <th>2</th>\n",
       "      <td>78.978720</td>\n",
       "      <td>79.045378</td>\n",
       "      <td>XA</td>\n",
       "      <td>2366</td>\n",
       "      <td>17.0</td>\n",
       "      <td>0.0</td>\n",
       "    </tr>\n",
       "    <tr>\n",
       "      <th>3</th>\n",
       "      <td>79.561053</td>\n",
       "      <td>79.602715</td>\n",
       "      <td>OB</td>\n",
       "      <td>2384</td>\n",
       "      <td>18.0</td>\n",
       "      <td>0.0</td>\n",
       "    </tr>\n",
       "    <tr>\n",
       "      <th>4</th>\n",
       "      <td>91.541977</td>\n",
       "      <td>91.583639</td>\n",
       "      <td>OA</td>\n",
       "      <td>2743</td>\n",
       "      <td>359.0</td>\n",
       "      <td>1.0</td>\n",
       "    </tr>\n",
       "  </tbody>\n",
       "</table>\n",
       "</div>"
      ],
      "text/plain": [
       "       start        end labels  start_frame  df_diff  group\n",
       "0  77.761265  77.861253     OA         2330      NaN    0.0\n",
       "1  78.395459  78.470450     XB         2349     19.0    0.0\n",
       "2  78.978720  79.045378     XA         2366     17.0    0.0\n",
       "3  79.561053  79.602715     OB         2384     18.0    0.0\n",
       "4  91.541977  91.583639     OA         2743    359.0    1.0"
      ]
     },
     "execution_count": 11,
     "metadata": {},
     "output_type": "execute_result"
    }
   ],
   "source": [
    "cnt = 0\n",
    "df = df.reset_index(drop=True)\n",
    "df['df_diff'] = df_diff\n",
    "df.loc[0,'group']=0\n",
    "for i in range(1,len(df)):\n",
    "    if df.loc[i,'df_diff']>=threshold:\n",
    "        cnt += 1\n",
    "    df.loc[i,'group'] = cnt\n",
    "df.head()\n"
   ]
  },
  {
   "cell_type": "code",
   "execution_count": 12,
   "id": "43de7191-bd5a-421c-ad44-2fb80d89166f",
   "metadata": {},
   "outputs": [
    {
     "data": {
      "text/plain": [
       "group\n",
       "0.0      54\n",
       "1.0      62\n",
       "2.0      70\n",
       "3.0      49\n",
       "4.0      52\n",
       "         ..\n",
       "151.0    59\n",
       "152.0    30\n",
       "153.0    55\n",
       "154.0    88\n",
       "155.0    63\n",
       "Name: start_frame, Length: 156, dtype: int64"
      ]
     },
     "execution_count": 12,
     "metadata": {},
     "output_type": "execute_result"
    }
   ],
   "source": [
    "df.groupby('group')['start_frame'].apply(lambda x: x.max()-x.min())"
   ]
  },
  {
   "cell_type": "markdown",
   "id": "05a34e5c-66c4-479b-92c2-ce040bc3363f",
   "metadata": {},
   "source": [
    "## トラックレットを結合する"
   ]
  },
  {
   "cell_type": "code",
   "execution_count": 13,
   "id": "cd250e14-61af-4b14-8232-4617ee49b34d",
   "metadata": {},
   "outputs": [
    {
     "data": {
      "text/html": [
       "<div>\n",
       "<style scoped>\n",
       "    .dataframe tbody tr th:only-of-type {\n",
       "        vertical-align: middle;\n",
       "    }\n",
       "\n",
       "    .dataframe tbody tr th {\n",
       "        vertical-align: top;\n",
       "    }\n",
       "\n",
       "    .dataframe thead th {\n",
       "        text-align: right;\n",
       "    }\n",
       "</style>\n",
       "<table border=\"1\" class=\"dataframe\">\n",
       "  <thead>\n",
       "    <tr style=\"text-align: right;\">\n",
       "      <th></th>\n",
       "      <th>frame</th>\n",
       "      <th>player1</th>\n",
       "      <th>player2</th>\n",
       "    </tr>\n",
       "  </thead>\n",
       "  <tbody>\n",
       "    <tr>\n",
       "      <th>0</th>\n",
       "      <td>3.0</td>\n",
       "      <td>3</td>\n",
       "      <td>2</td>\n",
       "    </tr>\n",
       "    <tr>\n",
       "      <th>1</th>\n",
       "      <td>15.0</td>\n",
       "      <td>3</td>\n",
       "      <td>2</td>\n",
       "    </tr>\n",
       "    <tr>\n",
       "      <th>2</th>\n",
       "      <td>114.0</td>\n",
       "      <td>6</td>\n",
       "      <td>2</td>\n",
       "    </tr>\n",
       "    <tr>\n",
       "      <th>3</th>\n",
       "      <td>190.0</td>\n",
       "      <td>6</td>\n",
       "      <td>2</td>\n",
       "    </tr>\n",
       "    <tr>\n",
       "      <th>4</th>\n",
       "      <td>232.0</td>\n",
       "      <td>10</td>\n",
       "      <td>2</td>\n",
       "    </tr>\n",
       "  </tbody>\n",
       "</table>\n",
       "</div>"
      ],
      "text/plain": [
       "   frame player1 player2\n",
       "0    3.0       3       2\n",
       "1   15.0       3       2\n",
       "2  114.0       6       2\n",
       "3  190.0       6       2\n",
       "4  232.0      10       2"
      ]
     },
     "execution_count": 13,
     "metadata": {},
     "output_type": "execute_result"
    }
   ],
   "source": [
    "tracklet_name = data_file_path / 'p008_annotated_tracklet.csv'\n",
    "tracklet = pd.read_csv(tracklet_name)\n",
    "tracklet.head()"
   ]
  },
  {
   "cell_type": "code",
   "execution_count": 14,
   "id": "3b5e0e34-9639-4268-b959-c4187229f0e5",
   "metadata": {},
   "outputs": [],
   "source": [
    "max_frame = 109275 +1 \n",
    "all_df = pd.DataFrame({'frame':list(range(1,max_frame))})\n",
    "all_df = pd.merge(all_df,tracklet,on='frame',how='left')\n",
    "all_df = pd.merge(all_df,df[['start_frame','group']],left_on='frame',right_on='start_frame',how='left').drop(columns='start_frame')\n",
    "all_df['group'] = all_df['group'].fillna(method='ffill')\n",
    "for c in ['player1','player2']:\n",
    "    all_df[c] = all_df[c].replace({'-':-1})\n",
    "    all_df[c] = all_df[c].astype(float)"
   ]
  },
  {
   "cell_type": "markdown",
   "id": "f6774038-6532-4b5f-9164-f6e42b842b7c",
   "metadata": {},
   "source": [
    "## トラックレットとkapaoidを組み合わせる"
   ]
  },
  {
   "cell_type": "code",
   "execution_count": 15,
   "id": "71689579-3cee-41dd-9110-3d284d731525",
   "metadata": {},
   "outputs": [],
   "source": [
    "tracklet_df = load_annotated_trackret_file(tracklet_name)\n",
    "player1_tracklet, player2_tracklet = get_player_id_list(tracklet_df)\n",
    "video_name='p008'\n",
    "pose_path=f\"/home/mei/Documents/deep_sort/exp/20220512/data/detection_poses_{video_name}.pkl\"\n",
    "pose_data=load_pose_data(pose_path)\n",
    "bbox_path=bbox_path=f\"/home/mei/Documents/deep_sort/exp/20220512/data/{video_name}/{video_name}_deepsort_output.txt\"\n",
    "bbox_list: list= load_bbox_data(bbox_path)"
   ]
  },
  {
   "cell_type": "code",
   "execution_count": 16,
   "id": "e5b3accf-edd4-40ae-a631-5136dc544765",
   "metadata": {},
   "outputs": [
    {
     "data": {
      "text/plain": [
       "[3, 1, 1674.26, 386.02, 243.47, 445.98, 1, -1, -1, -1]"
      ]
     },
     "execution_count": 16,
     "metadata": {},
     "output_type": "execute_result"
    }
   ],
   "source": [
    "tracklet_df\n",
    "player1_tracklet\n",
    "pose_data[0]\n",
    "bbox_list[0]"
   ]
  },
  {
   "cell_type": "code",
   "execution_count": 17,
   "id": "5de8f2f0-9e8a-4324-9ee6-51d2fea78db3",
   "metadata": {
    "tags": []
   },
   "outputs": [],
   "source": [
    "# %%time\n",
    "# def wrap(frame_id,d):\n",
    "#     out_pose=match_id_by_iou(pose_data,bbox_list,frame_id)\n",
    "#     player_id_list:list=[]\n",
    "#     for one_out_pose in out_pose:\n",
    "#         player_id = one_out_pose[1]\n",
    "#         if player_id<0:\n",
    "#             continue\n",
    "#         player_id_list.append(player_id)\n",
    "#     d[frame_id]=player_id_list\n",
    "\n",
    "\n",
    "# # kapao と deepsortのidを対応付けしたものを保存\n",
    "\n",
    "# processes = multiprocessing.cpu_count()\n",
    "# progress_bar = tqdm(total=max_frame)\n",
    "# d = Manager().dict()\n",
    "# args = [(i,d) for i in range(1,max_frame)]\n",
    "# with multiprocessing.Pool(processes=processes) as pool:\n",
    "#     for _ in pool.starmap(wrap,args):\n",
    "#         progress_bar.update(1)\n",
    "\n",
    "# dict(d)\n",
    "# d_ = dict(d)\n",
    "\n",
    "# import pickle\n",
    "\n",
    "# with open(str(data_file_path/'player_id_dict.pickle'),'wb') as f:\n",
    "#     pickle.dump(d_,f)"
   ]
  },
  {
   "cell_type": "code",
   "execution_count": 18,
   "id": "672cab79-5752-4927-baeb-8e4dfc932485",
   "metadata": {},
   "outputs": [],
   "source": [
    "# import pickle\n",
    "\n",
    "# with open(str(data_file_path/'player_id_dict.pickle'),'wb') as f:\n",
    "#     pickle.dump(d_,f)"
   ]
  },
  {
   "cell_type": "markdown",
   "id": "330c6bba-e08f-48f0-8703-79911c2c01be",
   "metadata": {},
   "source": [
    "# kapaoとdeepsortをidで紐づけたものをつかっていく"
   ]
  },
  {
   "cell_type": "code",
   "execution_count": 19,
   "id": "f3791c8f-d1ab-4844-9a07-f96ba2ded0fd",
   "metadata": {
    "tags": []
   },
   "outputs": [
    {
     "data": {
      "text/html": [
       "<div>\n",
       "<style scoped>\n",
       "    .dataframe tbody tr th:only-of-type {\n",
       "        vertical-align: middle;\n",
       "    }\n",
       "\n",
       "    .dataframe tbody tr th {\n",
       "        vertical-align: top;\n",
       "    }\n",
       "\n",
       "    .dataframe thead th {\n",
       "        text-align: right;\n",
       "    }\n",
       "</style>\n",
       "<table border=\"1\" class=\"dataframe\">\n",
       "  <thead>\n",
       "    <tr style=\"text-align: right;\">\n",
       "      <th></th>\n",
       "      <th>frame_id</th>\n",
       "      <th>player_ids</th>\n",
       "    </tr>\n",
       "  </thead>\n",
       "  <tbody>\n",
       "    <tr>\n",
       "      <th>0</th>\n",
       "      <td>1</td>\n",
       "      <td>[0, 1, 2, 3, 4, 5, 6, 7]</td>\n",
       "    </tr>\n",
       "    <tr>\n",
       "      <th>1</th>\n",
       "      <td>2</td>\n",
       "      <td>[0, 1, 2, 3, 4, 5]</td>\n",
       "    </tr>\n",
       "    <tr>\n",
       "      <th>2</th>\n",
       "      <td>3</td>\n",
       "      <td>[2, 1, 3, 4]</td>\n",
       "    </tr>\n",
       "    <tr>\n",
       "      <th>3</th>\n",
       "      <td>4</td>\n",
       "      <td>[2, 3, 1, 4]</td>\n",
       "    </tr>\n",
       "    <tr>\n",
       "      <th>4</th>\n",
       "      <td>5</td>\n",
       "      <td>[3, 2, 1]</td>\n",
       "    </tr>\n",
       "  </tbody>\n",
       "</table>\n",
       "</div>"
      ],
      "text/plain": [
       "   frame_id                player_ids\n",
       "0         1  [0, 1, 2, 3, 4, 5, 6, 7]\n",
       "1         2        [0, 1, 2, 3, 4, 5]\n",
       "2         3              [2, 1, 3, 4]\n",
       "3         4              [2, 3, 1, 4]\n",
       "4         5                 [3, 2, 1]"
      ]
     },
     "execution_count": 19,
     "metadata": {},
     "output_type": "execute_result"
    }
   ],
   "source": [
    "# with open(str(data_file_path/'player_id_dict.pickle'),'rb') as f:\n",
    "#     kapao_deepsort_data = pickle.load(f)\n",
    "\n",
    "# kapao_deepsort_data = list(sorted(kapao_deepsort_data.items(), key=lambda x: x[0]))\n",
    "\n",
    "# kapao_deepsort_data_df = pd.DataFrame(kapao_deepsort_data,columns=['frame_id','player_ids'])\n",
    "\n",
    "# kapao_deepsort_data_df.to_parquet(str(data_file_path/'deepsort_player_ids.parquet'))\n",
    "\n",
    "deepsort_player_ids_df = pd.read_parquet(str(data_file_path/'deepsort_player_ids.parquet'))\n",
    "deepsort_player_ids_df.head()"
   ]
  },
  {
   "cell_type": "code",
   "execution_count": 20,
   "id": "db6a5022-7c52-41a3-a279-620a6438b6cd",
   "metadata": {},
   "outputs": [],
   "source": [
    "for c in ['player1','player2']:\n",
    "    all_df[c+'_fill'] = all_df[c].fillna(method='ffill')"
   ]
  },
  {
   "cell_type": "code",
   "execution_count": 21,
   "id": "55681608-92e9-464a-92ef-d7d08b38460a",
   "metadata": {},
   "outputs": [
    {
     "data": {
      "text/html": [
       "<div>\n",
       "<style scoped>\n",
       "    .dataframe tbody tr th:only-of-type {\n",
       "        vertical-align: middle;\n",
       "    }\n",
       "\n",
       "    .dataframe tbody tr th {\n",
       "        vertical-align: top;\n",
       "    }\n",
       "\n",
       "    .dataframe thead th {\n",
       "        text-align: right;\n",
       "    }\n",
       "</style>\n",
       "<table border=\"1\" class=\"dataframe\">\n",
       "  <thead>\n",
       "    <tr style=\"text-align: right;\">\n",
       "      <th></th>\n",
       "      <th>frame</th>\n",
       "      <th>player1</th>\n",
       "      <th>player2</th>\n",
       "      <th>group</th>\n",
       "      <th>player1_fill</th>\n",
       "      <th>player2_fill</th>\n",
       "    </tr>\n",
       "  </thead>\n",
       "  <tbody>\n",
       "    <tr>\n",
       "      <th>0</th>\n",
       "      <td>1</td>\n",
       "      <td>NaN</td>\n",
       "      <td>NaN</td>\n",
       "      <td>NaN</td>\n",
       "      <td>NaN</td>\n",
       "      <td>NaN</td>\n",
       "    </tr>\n",
       "    <tr>\n",
       "      <th>1</th>\n",
       "      <td>2</td>\n",
       "      <td>NaN</td>\n",
       "      <td>NaN</td>\n",
       "      <td>NaN</td>\n",
       "      <td>NaN</td>\n",
       "      <td>NaN</td>\n",
       "    </tr>\n",
       "    <tr>\n",
       "      <th>2</th>\n",
       "      <td>3</td>\n",
       "      <td>3.0</td>\n",
       "      <td>2.0</td>\n",
       "      <td>NaN</td>\n",
       "      <td>3.0</td>\n",
       "      <td>2.0</td>\n",
       "    </tr>\n",
       "    <tr>\n",
       "      <th>3</th>\n",
       "      <td>4</td>\n",
       "      <td>NaN</td>\n",
       "      <td>NaN</td>\n",
       "      <td>NaN</td>\n",
       "      <td>3.0</td>\n",
       "      <td>2.0</td>\n",
       "    </tr>\n",
       "    <tr>\n",
       "      <th>4</th>\n",
       "      <td>5</td>\n",
       "      <td>NaN</td>\n",
       "      <td>NaN</td>\n",
       "      <td>NaN</td>\n",
       "      <td>3.0</td>\n",
       "      <td>2.0</td>\n",
       "    </tr>\n",
       "  </tbody>\n",
       "</table>\n",
       "</div>"
      ],
      "text/plain": [
       "   frame  player1  player2  group  player1_fill  player2_fill\n",
       "0      1      NaN      NaN    NaN           NaN           NaN\n",
       "1      2      NaN      NaN    NaN           NaN           NaN\n",
       "2      3      3.0      2.0    NaN           3.0           2.0\n",
       "3      4      NaN      NaN    NaN           3.0           2.0\n",
       "4      5      NaN      NaN    NaN           3.0           2.0"
      ]
     },
     "execution_count": 21,
     "metadata": {},
     "output_type": "execute_result"
    }
   ],
   "source": [
    "all_df.head()"
   ]
  },
  {
   "cell_type": "code",
   "execution_count": 22,
   "id": "5bcf537e-4223-41c0-a75f-aabc132d6aed",
   "metadata": {},
   "outputs": [
    {
     "data": {
      "text/html": [
       "<div>\n",
       "<style scoped>\n",
       "    .dataframe tbody tr th:only-of-type {\n",
       "        vertical-align: middle;\n",
       "    }\n",
       "\n",
       "    .dataframe tbody tr th {\n",
       "        vertical-align: top;\n",
       "    }\n",
       "\n",
       "    .dataframe thead th {\n",
       "        text-align: right;\n",
       "    }\n",
       "</style>\n",
       "<table border=\"1\" class=\"dataframe\">\n",
       "  <thead>\n",
       "    <tr style=\"text-align: right;\">\n",
       "      <th></th>\n",
       "      <th>frame</th>\n",
       "      <th>player1</th>\n",
       "      <th>player2</th>\n",
       "      <th>group</th>\n",
       "      <th>player1_fill</th>\n",
       "      <th>player2_fill</th>\n",
       "      <th>player_ids</th>\n",
       "    </tr>\n",
       "  </thead>\n",
       "  <tbody>\n",
       "    <tr>\n",
       "      <th>0</th>\n",
       "      <td>1</td>\n",
       "      <td>NaN</td>\n",
       "      <td>NaN</td>\n",
       "      <td>NaN</td>\n",
       "      <td>NaN</td>\n",
       "      <td>NaN</td>\n",
       "      <td>[0, 1, 2, 3, 4, 5, 6, 7]</td>\n",
       "    </tr>\n",
       "    <tr>\n",
       "      <th>1</th>\n",
       "      <td>2</td>\n",
       "      <td>NaN</td>\n",
       "      <td>NaN</td>\n",
       "      <td>NaN</td>\n",
       "      <td>NaN</td>\n",
       "      <td>NaN</td>\n",
       "      <td>[0, 1, 2, 3, 4, 5]</td>\n",
       "    </tr>\n",
       "    <tr>\n",
       "      <th>2</th>\n",
       "      <td>3</td>\n",
       "      <td>3.0</td>\n",
       "      <td>2.0</td>\n",
       "      <td>NaN</td>\n",
       "      <td>3.0</td>\n",
       "      <td>2.0</td>\n",
       "      <td>[2, 1, 3, 4]</td>\n",
       "    </tr>\n",
       "    <tr>\n",
       "      <th>3</th>\n",
       "      <td>4</td>\n",
       "      <td>NaN</td>\n",
       "      <td>NaN</td>\n",
       "      <td>NaN</td>\n",
       "      <td>3.0</td>\n",
       "      <td>2.0</td>\n",
       "      <td>[2, 3, 1, 4]</td>\n",
       "    </tr>\n",
       "    <tr>\n",
       "      <th>4</th>\n",
       "      <td>5</td>\n",
       "      <td>NaN</td>\n",
       "      <td>NaN</td>\n",
       "      <td>NaN</td>\n",
       "      <td>3.0</td>\n",
       "      <td>2.0</td>\n",
       "      <td>[3, 2, 1]</td>\n",
       "    </tr>\n",
       "    <tr>\n",
       "      <th>...</th>\n",
       "      <td>...</td>\n",
       "      <td>...</td>\n",
       "      <td>...</td>\n",
       "      <td>...</td>\n",
       "      <td>...</td>\n",
       "      <td>...</td>\n",
       "      <td>...</td>\n",
       "    </tr>\n",
       "    <tr>\n",
       "      <th>109270</th>\n",
       "      <td>109271</td>\n",
       "      <td>NaN</td>\n",
       "      <td>NaN</td>\n",
       "      <td>155.0</td>\n",
       "      <td>-1.0</td>\n",
       "      <td>6495.0</td>\n",
       "      <td>[]</td>\n",
       "    </tr>\n",
       "    <tr>\n",
       "      <th>109271</th>\n",
       "      <td>109272</td>\n",
       "      <td>NaN</td>\n",
       "      <td>NaN</td>\n",
       "      <td>155.0</td>\n",
       "      <td>-1.0</td>\n",
       "      <td>6495.0</td>\n",
       "      <td>[]</td>\n",
       "    </tr>\n",
       "    <tr>\n",
       "      <th>109272</th>\n",
       "      <td>109273</td>\n",
       "      <td>NaN</td>\n",
       "      <td>NaN</td>\n",
       "      <td>155.0</td>\n",
       "      <td>-1.0</td>\n",
       "      <td>6495.0</td>\n",
       "      <td>[]</td>\n",
       "    </tr>\n",
       "    <tr>\n",
       "      <th>109273</th>\n",
       "      <td>109274</td>\n",
       "      <td>NaN</td>\n",
       "      <td>NaN</td>\n",
       "      <td>155.0</td>\n",
       "      <td>-1.0</td>\n",
       "      <td>6495.0</td>\n",
       "      <td>[]</td>\n",
       "    </tr>\n",
       "    <tr>\n",
       "      <th>109274</th>\n",
       "      <td>109275</td>\n",
       "      <td>NaN</td>\n",
       "      <td>NaN</td>\n",
       "      <td>155.0</td>\n",
       "      <td>-1.0</td>\n",
       "      <td>6495.0</td>\n",
       "      <td>[]</td>\n",
       "    </tr>\n",
       "  </tbody>\n",
       "</table>\n",
       "<p>109275 rows × 7 columns</p>\n",
       "</div>"
      ],
      "text/plain": [
       "         frame  player1  player2  group  player1_fill  player2_fill  \\\n",
       "0            1      NaN      NaN    NaN           NaN           NaN   \n",
       "1            2      NaN      NaN    NaN           NaN           NaN   \n",
       "2            3      3.0      2.0    NaN           3.0           2.0   \n",
       "3            4      NaN      NaN    NaN           3.0           2.0   \n",
       "4            5      NaN      NaN    NaN           3.0           2.0   \n",
       "...        ...      ...      ...    ...           ...           ...   \n",
       "109270  109271      NaN      NaN  155.0          -1.0        6495.0   \n",
       "109271  109272      NaN      NaN  155.0          -1.0        6495.0   \n",
       "109272  109273      NaN      NaN  155.0          -1.0        6495.0   \n",
       "109273  109274      NaN      NaN  155.0          -1.0        6495.0   \n",
       "109274  109275      NaN      NaN  155.0          -1.0        6495.0   \n",
       "\n",
       "                      player_ids  \n",
       "0       [0, 1, 2, 3, 4, 5, 6, 7]  \n",
       "1             [0, 1, 2, 3, 4, 5]  \n",
       "2                   [2, 1, 3, 4]  \n",
       "3                   [2, 3, 1, 4]  \n",
       "4                      [3, 2, 1]  \n",
       "...                          ...  \n",
       "109270                        []  \n",
       "109271                        []  \n",
       "109272                        []  \n",
       "109273                        []  \n",
       "109274                        []  \n",
       "\n",
       "[109275 rows x 7 columns]"
      ]
     },
     "execution_count": 22,
     "metadata": {},
     "output_type": "execute_result"
    }
   ],
   "source": [
    "merged_df = pd.merge(all_df,deepsort_player_ids_df, left_on='frame', right_on='frame_id',how='left').drop(columns=['frame_id'])\n",
    "merged_df"
   ]
  },
  {
   "cell_type": "code",
   "execution_count": 23,
   "id": "7fcd04bb-92e3-4767-8eca-194ef9f823f8",
   "metadata": {},
   "outputs": [],
   "source": [
    "def is_exist(df:pd.Series,column_name:str):\n",
    "    \"\"\"存在するかチェック\"\"\"\n",
    "    return df[column_name+'_fill'] in (set(df['player_ids']))"
   ]
  },
  {
   "cell_type": "code",
   "execution_count": 24,
   "id": "8c4d7e42-286a-48ba-bd96-015b9a58984a",
   "metadata": {},
   "outputs": [
    {
     "data": {
      "application/vnd.jupyter.widget-view+json": {
       "model_id": "e4a303e4007f410bb0aaf4ed027eecf9",
       "version_major": 2,
       "version_minor": 0
      },
      "text/plain": [
       "  0%|          | 0/109275 [00:00<?, ?it/s]"
      ]
     },
     "metadata": {},
     "output_type": "display_data"
    },
    {
     "name": "stdout",
     "output_type": "stream",
     "text": [
      "CPU times: user 1min 12s, sys: 134 ms, total: 1min 12s\n",
      "Wall time: 1min 12s\n"
     ]
    }
   ],
   "source": [
    "%%time\n",
    "_tmp_df = merged_df.copy()\n",
    "progress_bar = tqdm(range(len(_tmp_df)),total=len(_tmp_df))\n",
    "for i in progress_bar:\n",
    "    row_df = _tmp_df.iloc[i,:]\n",
    "    for c in ['player1','player2']:\n",
    "        _tmp_df.loc[i,c+'_exist'] = 1 if is_exist(row_df,c) else 0\n",
    "    \n",
    "_tmp_df['player12_exist'] = (_tmp_df['player1_exist'] + _tmp_df['player2_exist']).apply(lambda x: 1 if x>=2 else 0)\n",
    "_tmp_df['player_nexist'] = (_tmp_df['player1_exist'] + _tmp_df['player2_exist']).apply(lambda x: 1 if x<=0 else 0)\n",
    "\n"
   ]
  },
  {
   "cell_type": "code",
   "execution_count": 25,
   "id": "e01f527c-930d-44af-bba5-a41b79ec443b",
   "metadata": {},
   "outputs": [
    {
     "data": {
      "text/html": [
       "<div>\n",
       "<style scoped>\n",
       "    .dataframe tbody tr th:only-of-type {\n",
       "        vertical-align: middle;\n",
       "    }\n",
       "\n",
       "    .dataframe tbody tr th {\n",
       "        vertical-align: top;\n",
       "    }\n",
       "\n",
       "    .dataframe thead th {\n",
       "        text-align: right;\n",
       "    }\n",
       "</style>\n",
       "<table border=\"1\" class=\"dataframe\">\n",
       "  <thead>\n",
       "    <tr style=\"text-align: right;\">\n",
       "      <th></th>\n",
       "      <th>sum</th>\n",
       "      <th>mean</th>\n",
       "    </tr>\n",
       "  </thead>\n",
       "  <tbody>\n",
       "    <tr>\n",
       "      <th>count</th>\n",
       "      <td>156.000000</td>\n",
       "      <td>156.000000</td>\n",
       "    </tr>\n",
       "    <tr>\n",
       "      <th>mean</th>\n",
       "      <td>444.384615</td>\n",
       "      <td>0.695224</td>\n",
       "    </tr>\n",
       "    <tr>\n",
       "      <th>std</th>\n",
       "      <td>140.902825</td>\n",
       "      <td>0.177155</td>\n",
       "    </tr>\n",
       "    <tr>\n",
       "      <th>min</th>\n",
       "      <td>82.000000</td>\n",
       "      <td>0.220017</td>\n",
       "    </tr>\n",
       "    <tr>\n",
       "      <th>25%</th>\n",
       "      <td>352.750000</td>\n",
       "      <td>0.569324</td>\n",
       "    </tr>\n",
       "    <tr>\n",
       "      <th>50%</th>\n",
       "      <td>433.500000</td>\n",
       "      <td>0.709359</td>\n",
       "    </tr>\n",
       "    <tr>\n",
       "      <th>75%</th>\n",
       "      <td>509.500000</td>\n",
       "      <td>0.846411</td>\n",
       "    </tr>\n",
       "    <tr>\n",
       "      <th>max</th>\n",
       "      <td>1009.000000</td>\n",
       "      <td>1.000000</td>\n",
       "    </tr>\n",
       "  </tbody>\n",
       "</table>\n",
       "</div>"
      ],
      "text/plain": [
       "               sum        mean\n",
       "count   156.000000  156.000000\n",
       "mean    444.384615    0.695224\n",
       "std     140.902825    0.177155\n",
       "min      82.000000    0.220017\n",
       "25%     352.750000    0.569324\n",
       "50%     433.500000    0.709359\n",
       "75%     509.500000    0.846411\n",
       "max    1009.000000    1.000000"
      ]
     },
     "execution_count": 25,
     "metadata": {},
     "output_type": "execute_result"
    }
   ],
   "source": [
    "_tmp_df.groupby('group')['player12_exist'].agg(['sum','mean']).describe()"
   ]
  },
  {
   "cell_type": "code",
   "execution_count": 26,
   "id": "e44ab446-a9c2-4cd3-9542-0ba92bd29581",
   "metadata": {},
   "outputs": [],
   "source": [
    "groups_ids = _tmp_df.groupby('group').groups"
   ]
  },
  {
   "cell_type": "code",
   "execution_count": 27,
   "id": "3a4af5b7-7886-43db-ae1f-06730a042601",
   "metadata": {},
   "outputs": [],
   "source": [
    "player1_exist_list = []\n",
    "player2_exist_list = []\n",
    "player12_exist_list = []\n",
    "player_nexist_list = []\n",
    "\n",
    "\n",
    "for k,v in groups_ids.items():\n",
    "    group_df = _tmp_df.iloc[v,:]\n",
    "    group_df = group_df[['player1_exist','player2_exist','player12_exist','player_nexist']].mean()\n",
    "    a = group_df.iloc[0]\n",
    "    b = group_df.iloc[1]\n",
    "    c = group_df.iloc[2]\n",
    "    d = group_df.iloc[3]\n",
    "    player1_exist_list.append(a)\n",
    "    player2_exist_list.append(b)\n",
    "    player12_exist_list.append(c)\n",
    "    player_nexist_list.append(d)\n",
    "    "
   ]
  },
  {
   "cell_type": "code",
   "execution_count": 28,
   "id": "20eb03ae-9306-403b-bc3d-8b82c34fb7c4",
   "metadata": {},
   "outputs": [
    {
     "data": {
      "image/png": "[encoded data removed]",
      "text/plain": [
       "<Figure size 432x288 with 1 Axes>"
      ]
     },
     "metadata": {
      "needs_background": "light"
     },
     "output_type": "display_data"
    }
   ],
   "source": [
    "fig = plt.figure()\n",
    "ax = fig.add_subplot(111)\n",
    "ax.violinplot([player1_exist_list,player2_exist_list,player12_exist_list,player_nexist_list])\n",
    "ax.set_xticks([1,2,3,4])\n",
    "ax.set_xticklabels(['1','2','12','-'])\n",
    "plt.show()"
   ]
  },
  {
   "cell_type": "code",
   "execution_count": 29,
   "id": "f7039d1a-75f6-4d2e-85bb-ee997700ec95",
   "metadata": {},
   "outputs": [],
   "source": [
    "_tt = [[a,b,c,d] for a,b,c,d in zip(player1_exist_list,player2_exist_list,player12_exist_list,player_nexist_list)]"
   ]
  },
  {
   "cell_type": "code",
   "execution_count": 30,
   "id": "7a331eff-8db0-42ee-8595-dd8aed1153e9",
   "metadata": {},
   "outputs": [
    {
     "data": {
      "image/png": "[encoded data removed]",
      "text/plain": [
       "<Figure size 432x288 with 1 Axes>"
      ]
     },
     "metadata": {
      "needs_background": "light"
     },
     "output_type": "display_data"
    }
   ],
   "source": [
    "fig = plt.figure()\n",
    "ax = fig.add_subplot(111)\n",
    "ax.plot(_tt)\n",
    "plt.show()"
   ]
  },
  {
   "cell_type": "code",
   "execution_count": 33,
   "id": "80b87f73-cf11-4b3d-9468-ebea60ce9415",
   "metadata": {},
   "outputs": [
    {
     "data": {
      "text/plain": [
       "<matplotlib.legend.Legend at 0x7f649b959ba8>"
      ]
     },
     "execution_count": 34,
     "metadata": {},
     "output_type": "execute_result"
    },
    {
     "data": {
      "image/png": "[encoded data removed]",
      "text/plain": [
       "<Figure size 432x288 with 1 Axes>"
      ]
     },
     "metadata": {
      "needs_background": "light"
     },
     "output_type": "display_data"
    }
   ],
   "source": [
    "fig = plt.figure()\n",
    "ax = fig.add_subplot(111)\n",
    "\n",
    "for i,a in enumerate([player1_exist_list,player2_exist_list,player12_exist_list,player_nexist_list]):\n",
    "    ax.bar(height=sum(a)/len(a),x='=',label=i)\n",
    "ax.legend()"
   ]
  },
  {
   "cell_type": "code",
   "execution_count": 32,
   "id": "bea3dcd7-9d3d-42c9-92a6-0e0bf4b63a40",
   "metadata": {},
   "outputs": [
    {
     "data": {
      "text/plain": [
       "108066    108067\n",
       "108067    108068\n",
       "108068    108069\n",
       "108069    108070\n",
       "108070    108071\n",
       "           ...  \n",
       "109270    109271\n",
       "109271    109272\n",
       "109272    109273\n",
       "109273    109274\n",
       "109274    109275\n",
       "Name: frame, Length: 1209, dtype: int64"
      ]
     },
     "execution_count": 32,
     "metadata": {},
     "output_type": "execute_result"
    }
   ],
   "source": [
    "\n",
    "import random\n",
    "random_id = random.randint(0,len(groups_ids))\n",
    "tar_id = groups_ids[random_id]\n",
    "_tmp_df.iloc[tar_id,:]['frame']"
   ]
  }
 ],
 "metadata": {
  "kernelspec": {
   "display_name": "Python 3",
   "language": "python",
   "name": "python3"
  },
  "language_info": {
   "codemirror_mode": {
    "name": "ipython",
    "version": 3
   },
   "file_extension": ".py",
   "mimetype": "text/x-python",
   "name": "python",
   "nbconvert_exporter": "python",
   "pygments_lexer": "ipython3",
   "version": "3.6.8"
  }
 },
 "nbformat": 4,
 "nbformat_minor": 5
}
