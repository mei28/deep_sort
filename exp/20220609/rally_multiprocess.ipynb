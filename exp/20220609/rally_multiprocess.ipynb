{
 "cells": [
  {
   "cell_type": "code",
   "execution_count": 1,
   "id": "355cabb2-7bc5-4767-b30b-48dc92c63618",
   "metadata": {},
   "outputs": [],
   "source": [
    "import sys\n",
    "import os\n",
    "import pandas as pd\n",
    "import matplotlib.pyplot as plt\n",
    "import seaborn as sns\n",
    "from pathlib import Path\n",
    "import numpy as np\n",
    "\n",
    "sys.path.append('/home/mei/Documents/deep_sort/exp/20220609/utils')\n",
    "\n",
    "from utils.frame import sec2frame\n",
    "from utils.load_data import (load_annotated_trackret_file,\n",
    "                             get_player_id_list,\n",
    "                             load_pose_data,\n",
    "                             load_bbox_data\n",
    "                            )\n",
    "from utils.matching import match_id_by_iou\n",
    "from utils.frame import frame2sec, groupby_rally\n",
    "from utils.func import multiprocess_imap\n",
    "from IPython.core.debugger import Pdb\n",
    "import multiprocessing\n",
    "from multiprocessing import Manager, Process\n",
    "from tqdm.notebook import tqdm\n",
    "import pickle\n",
    "import subprocess"
   ]
  },
  {
   "cell_type": "code",
   "execution_count": 2,
   "id": "9c4af2e0-9f51-4aa7-b182-2fe3cb9b112e",
   "metadata": {},
   "outputs": [],
   "source": [
    "ist = Pdb().set_trace"
   ]
  },
  {
   "cell_type": "code",
   "execution_count": 3,
   "id": "f0e246cd-c362-421b-bf44-936da29ee72f",
   "metadata": {},
   "outputs": [],
   "source": [
    "data_file_path = Path(os.getcwd())/'data'\n",
    "data_name = data_file_path / 'p008_wtnb_0528.csv'\n",
    "output_file_path: str = Path(os.getcwd())/'output'"
   ]
  },
  {
   "cell_type": "code",
   "execution_count": 4,
   "id": "dc41ccc3-7252-44b0-89ca-2c561ee6ac1e",
   "metadata": {
    "tags": []
   },
   "outputs": [
    {
     "data": {
      "text/html": [
       "<div>\n",
       "<style scoped>\n",
       "    .dataframe tbody tr th:only-of-type {\n",
       "        vertical-align: middle;\n",
       "    }\n",
       "\n",
       "    .dataframe tbody tr th {\n",
       "        vertical-align: top;\n",
       "    }\n",
       "\n",
       "    .dataframe thead th {\n",
       "        text-align: right;\n",
       "    }\n",
       "</style>\n",
       "<table border=\"1\" class=\"dataframe\">\n",
       "  <thead>\n",
       "    <tr style=\"text-align: right;\">\n",
       "      <th></th>\n",
       "      <th>start</th>\n",
       "      <th>end</th>\n",
       "      <th>labels</th>\n",
       "    </tr>\n",
       "  </thead>\n",
       "  <tbody>\n",
       "    <tr>\n",
       "      <th>0</th>\n",
       "      <td>77.761265</td>\n",
       "      <td>77.861253</td>\n",
       "      <td>OA</td>\n",
       "    </tr>\n",
       "    <tr>\n",
       "      <th>1</th>\n",
       "      <td>78.395459</td>\n",
       "      <td>78.470450</td>\n",
       "      <td>XB</td>\n",
       "    </tr>\n",
       "    <tr>\n",
       "      <th>2</th>\n",
       "      <td>78.978720</td>\n",
       "      <td>79.045378</td>\n",
       "      <td>XA</td>\n",
       "    </tr>\n",
       "    <tr>\n",
       "      <th>3</th>\n",
       "      <td>79.561053</td>\n",
       "      <td>79.602715</td>\n",
       "      <td>OB</td>\n",
       "    </tr>\n",
       "    <tr>\n",
       "      <th>4</th>\n",
       "      <td>91.541977</td>\n",
       "      <td>91.583639</td>\n",
       "      <td>OA</td>\n",
       "    </tr>\n",
       "  </tbody>\n",
       "</table>\n",
       "</div>"
      ],
      "text/plain": [
       "       start        end labels\n",
       "0  77.761265  77.861253     OA\n",
       "1  78.395459  78.470450     XB\n",
       "2  78.978720  79.045378     XA\n",
       "3  79.561053  79.602715     OB\n",
       "4  91.541977  91.583639     OA"
      ]
     },
     "execution_count": 4,
     "metadata": {},
     "output_type": "execute_result"
    }
   ],
   "source": [
    "df = pd.read_csv(data_name)\n",
    "df.head()"
   ]
  },
  {
   "cell_type": "code",
   "execution_count": 14,
   "id": "d9698226-a03f-4d26-8df8-eedddc32fbe2",
   "metadata": {},
   "outputs": [],
   "source": [
    "df = groupby_rally(df)\n",
    "input_file = str(output_file_path/'output.mp4')\n",
    "group_ids = df.groupby('group').groups\n",
    "margin = 2"
   ]
  },
  {
   "cell_type": "code",
   "execution_count": 18,
   "id": "96f92600-be09-4c39-b42b-1911f28da82e",
   "metadata": {},
   "outputs": [],
   "source": [
    "def wrap(i):\n",
    "    tar_ids = group_ids[i]\n",
    "    frame_df = df.iloc[tar_ids,:]\n",
    "    end_time:float = frame2sec(frame_df['start_frame'].max(),fps=25) + margin\n",
    "    start_time:float = frame2sec(frame_df['start_frame'].min(),fps=25) - margin\n",
    "    v_frames = sec2frame(end_time-start_time,fps=25)\n",
    "    output_file = str(output_file_path/f'{i}.mp4')\n",
    "    # if Path(output_file).exists():\n",
    "    #     # print(f'{output_file} is exist')\n",
    "    #     return \n",
    "    command = command = f'ffmpeg -y -ss {start_time} -i {input_file} -frames {v_frames}  {output_file}'\n",
    "\n",
    "    subprocess.call(command, shell=True)"
   ]
  },
  {
   "cell_type": "code",
   "execution_count": 19,
   "id": "2bdf4046-eaad-4ac2-95a6-581ea8e1818b",
   "metadata": {},
   "outputs": [],
   "source": [
    "multiprocess_imap(wrap, range(len(group_ids)))"
   ]
  },
  {
   "cell_type": "code",
   "execution_count": null,
   "id": "61366f6d-2540-4880-ad14-b2414487eafe",
   "metadata": {},
   "outputs": [],
   "source": []
  }
 ],
 "metadata": {
  "kernelspec": {
   "display_name": "Python 3",
   "language": "python",
   "name": "python3"
  },
  "language_info": {
   "codemirror_mode": {
    "name": "ipython",
    "version": 3
   },
   "file_extension": ".py",
   "mimetype": "text/x-python",
   "name": "python",
   "nbconvert_exporter": "python",
   "pygments_lexer": "ipython3",
   "version": "3.6.8"
  }
 },
 "nbformat": 4,
 "nbformat_minor": 5
}
